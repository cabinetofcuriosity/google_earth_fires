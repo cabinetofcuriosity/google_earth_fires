{
 "cells": [
  {
   "cell_type": "markdown",
   "metadata": {},
   "source": [
    "# Google Earth Engine- Plotting Fire Data on a Bubble Map "
   ]
  },
  {
   "cell_type": "markdown",
   "metadata": {},
   "source": [
    "My name is Winifred, and I am a second-year student studying Computer Science at UC Berkeley. I was first exposed to data science one year ago and quickly realized just how applicable it is to various fields of study. After joining the Cabinet of Curiosity team, I learned more about existing natural history databases and collaborated with other team members to dive into and study these databases. I became particularly interested in the [Google Earth Engine database](https://earthengine.google.com/) and the vast amount of geophysical, climate, and imagery data it contained. Data visualization was also something I wanted to learn more about, which led me to exploring California wildfire data from the Earth Engine database and using Plotly to create a map that represented this data.. "
   ]
  },
  {
   "cell_type": "markdown",
   "metadata": {},
   "source": [
    "## Acquiring Data From Google Earth Engine\n",
    "\n",
    "Google Earth Engine hosts satellite imagery and other geospatial data and is a tool that allows for analysis of these datasets, which are made available for global-scale data mining. Images of Earth may go back more than 40 years and are ingested on a daily basis. Datasets include the USGS/NASA Landsat catalog, precipitation data, elevation data, and many more. Earth Engine also allows users to upload their own data for analysis. \n",
    "\n",
    "Earth Engine has been used in many interesting case studies, such as the [Map of Life](http://species.mol.org/species/map/Perdix_dauurica), as well as analysis of [global forest cover change](http://species.mol.org/species/map/Perdix_dauurica)."
   ]
  },
  {
   "cell_type": "markdown",
   "metadata": {},
   "source": [
    "## Downloading Data \n",
    "\n",
    "Browse the [Data Catalog](https://developers.google.com/earth-engine/datasets/catalog/) to find a dataset that interests you. I picked one that contains [data about fires](https://developers.google.com/earth-engine/datasets/catalog/FIRMS). Notice the link  listed under the \"Dataset Provider\" section."
   ]
  },
  {
   "cell_type": "markdown",
   "metadata": {},
   "source": [
    "<img src = \"../images/dataset_provider.PNG\">\n"
   ]
  },
  {
   "cell_type": "markdown",
   "metadata": {},
   "source": [
    "FIRMS provides \"active fire data\", which consists of data from the past 24 hours, 48 hours, and 7 days. However, because FIRMS data dates back to November 2000, I wanted to know how to download data older than 7 days.\n",
    "\n",
    "Once you've reached the FIRMS dataset provider link, scroll down and select \"Archive Download.\" Then, click on \"Create New Request.\" "
   ]
  },
  {
   "cell_type": "markdown",
   "metadata": {},
   "source": [
    "<img src='../images/nasa_page.PNG'>"
   ]
  },
  {
   "cell_type": "markdown",
   "metadata": {},
   "source": [
    "<img src='../images/archive_page.png'>"
   ]
  },
  {
   "cell_type": "markdown",
   "metadata": {},
   "source": [
    "I wanted to narrow down the data to Southern California wildfires, so in the Download Request box, I decided to get data on a custom region and drew a polygon that roughly enclosed California. For fire data source, I chose VIIRS, which is an instrument  used to detect fires and gather data. My date range of choice was September 1st 2017 to September 1st 2018, and I decided to download it as a .csv file. Finally, you must enter your email so that FIRMS can send the data to you. You should receive an email within a few days."
   ]
  },
  {
   "cell_type": "markdown",
   "metadata": {},
   "source": [
    "<img src='../images/download_request.png'>"
   ]
  },
  {
   "cell_type": "markdown",
   "metadata": {},
   "source": [
    "Once you receive the email, just download the .csv file, and you're ready to go! "
   ]
  },
  {
   "cell_type": "markdown",
   "metadata": {},
   "source": [
    "## Using Plotly for Python \n",
    "\n",
    "[Plotly](https://plot.ly/#/) has a [Python library](https://plot.ly/python/) that allows you to create interactive data visualizations online, such as line plots, scatter maps, heatmaps, and 3D network graphs. In this tutorial, we will create a bubble map that visualizes wildfire data in California (based on the FIRMS data we acquired). \n",
    "\n",
    "Follow the [Getting Started](https://plot.ly/python/getting-started/) tutorial to set up the Plotly.py library. Once that is done, let's import some libraries that we will use in this tutorial:"
   ]
  },
  {
   "cell_type": "code",
   "execution_count": 1,
   "metadata": {},
   "outputs": [],
   "source": [
    "import plotly.plotly as py\n",
    "from datascience import *\n",
    "import numpy as np"
   ]
  },
  {
   "cell_type": "markdown",
   "metadata": {},
   "source": [
    "Our FIRMS dataset is quite big, so let's narrow it down to just a few points on the map. I'd like to plot the 5 brightest, 5 middle, and 5 dimmest wildfires in the dataset. \n",
    "\n",
    "First, let's load the .csv file into a table:"
   ]
  },
  {
   "cell_type": "code",
   "execution_count": 2,
   "metadata": {},
   "outputs": [
    {
     "data": {
      "text/html": [
       "<table border=\"1\" class=\"dataframe\">\n",
       "    <thead>\n",
       "        <tr>\n",
       "            <th>latitude</th> <th>longitude</th> <th>brightness</th> <th>scan</th> <th>track</th> <th>acq_date</th> <th>acq_time</th> <th>satellite</th> <th>instrument</th> <th>confidence</th> <th>version</th> <th>bright_t31</th> <th>frp</th> <th>type</th>\n",
       "        </tr>\n",
       "    </thead>\n",
       "    <tbody>\n",
       "        <tr>\n",
       "            <td>36.234  </td> <td>-118.43  </td> <td>321.9     </td> <td>1   </td> <td>1    </td> <td>2017-10-07</td> <td>1845    </td> <td>Terra    </td> <td>MODIS     </td> <td>44        </td> <td>6.1    </td> <td>302.5     </td> <td>14.5 </td> <td>0   </td>\n",
       "        </tr>\n",
       "        <tr>\n",
       "            <td>36.258  </td> <td>-118.421 </td> <td>319.4     </td> <td>4.7 </td> <td>2    </td> <td>2017-10-15</td> <td>1756    </td> <td>Terra    </td> <td>MODIS     </td> <td>72        </td> <td>6.1    </td> <td>294.9     </td> <td>138.7</td> <td>0   </td>\n",
       "        </tr>\n",
       "        <tr>\n",
       "            <td>36.259  </td> <td>-118.425 </td> <td>318.2     </td> <td>4.7 </td> <td>2    </td> <td>2017-10-15</td> <td>1756    </td> <td>Terra    </td> <td>MODIS     </td> <td>44        </td> <td>6.1    </td> <td>294.4     </td> <td>118.3</td> <td>0   </td>\n",
       "        </tr>\n",
       "        <tr>\n",
       "            <td>36.256  </td> <td>-118.42  </td> <td>345.1     </td> <td>1.1 </td> <td>1    </td> <td>2017-10-15</td> <td>2112    </td> <td>Aqua     </td> <td>MODIS     </td> <td>92        </td> <td>6.1    </td> <td>298.3     </td> <td>50   </td> <td>0   </td>\n",
       "        </tr>\n",
       "        <tr>\n",
       "            <td>36.272  </td> <td>-118.429 </td> <td>326.3     </td> <td>1.1 </td> <td>1    </td> <td>2017-10-16</td> <td>1839    </td> <td>Terra    </td> <td>MODIS     </td> <td>71        </td> <td>6.1    </td> <td>293       </td> <td>23.1 </td> <td>0   </td>\n",
       "        </tr>\n",
       "        <tr>\n",
       "            <td>36.271  </td> <td>-118.418 </td> <td>331.1     </td> <td>1.1 </td> <td>1    </td> <td>2017-10-16</td> <td>1839    </td> <td>Terra    </td> <td>MODIS     </td> <td>83        </td> <td>6.1    </td> <td>292.7     </td> <td>29.9 </td> <td>0   </td>\n",
       "        </tr>\n",
       "        <tr>\n",
       "            <td>36.255  </td> <td>-118.412 </td> <td>300       </td> <td>3   </td> <td>1.6  </td> <td>2017-10-16</td> <td>913     </td> <td>Aqua     </td> <td>MODIS     </td> <td>5         </td> <td>6.1    </td> <td>281.5     </td> <td>31.6 </td> <td>0   </td>\n",
       "        </tr>\n",
       "        <tr>\n",
       "            <td>36.256  </td> <td>-118.428 </td> <td>327       </td> <td>4   </td> <td>1.9  </td> <td>2017-10-16</td> <td>2017    </td> <td>Aqua     </td> <td>MODIS     </td> <td>77        </td> <td>6.1    </td> <td>278.8     </td> <td>192.8</td> <td>0   </td>\n",
       "        </tr>\n",
       "        <tr>\n",
       "            <td>36.253  </td> <td>-118.428 </td> <td>330.3     </td> <td>1.4 </td> <td>1.2  </td> <td>2017-10-17</td> <td>542     </td> <td>Terra    </td> <td>MODIS     </td> <td>100       </td> <td>6.1    </td> <td>281.1     </td> <td>49.7 </td> <td>0   </td>\n",
       "        </tr>\n",
       "        <tr>\n",
       "            <td>36.412  </td> <td>-119.232 </td> <td>339.2     </td> <td>1.7 </td> <td>1.3  </td> <td>2017-09-08</td> <td>1916    </td> <td>Terra    </td> <td>MODIS     </td> <td>87        </td> <td>6.1    </td> <td>302.5     </td> <td>73.2 </td> <td>0   </td>\n",
       "        </tr>\n",
       "    </tbody>\n",
       "</table>\n",
       "<p>... (6043 rows omitted)</p>"
      ],
      "text/plain": [
       "latitude | longitude | brightness | scan | track | acq_date   | acq_time | satellite | instrument | confidence | version | bright_t31 | frp   | type\n",
       "36.234   | -118.43   | 321.9      | 1    | 1     | 2017-10-07 | 1845     | Terra     | MODIS      | 44         | 6.1     | 302.5      | 14.5  | 0\n",
       "36.258   | -118.421  | 319.4      | 4.7  | 2     | 2017-10-15 | 1756     | Terra     | MODIS      | 72         | 6.1     | 294.9      | 138.7 | 0\n",
       "36.259   | -118.425  | 318.2      | 4.7  | 2     | 2017-10-15 | 1756     | Terra     | MODIS      | 44         | 6.1     | 294.4      | 118.3 | 0\n",
       "36.256   | -118.42   | 345.1      | 1.1  | 1     | 2017-10-15 | 2112     | Aqua      | MODIS      | 92         | 6.1     | 298.3      | 50    | 0\n",
       "36.272   | -118.429  | 326.3      | 1.1  | 1     | 2017-10-16 | 1839     | Terra     | MODIS      | 71         | 6.1     | 293        | 23.1  | 0\n",
       "36.271   | -118.418  | 331.1      | 1.1  | 1     | 2017-10-16 | 1839     | Terra     | MODIS      | 83         | 6.1     | 292.7      | 29.9  | 0\n",
       "36.255   | -118.412  | 300        | 3    | 1.6   | 2017-10-16 | 913      | Aqua      | MODIS      | 5          | 6.1     | 281.5      | 31.6  | 0\n",
       "36.256   | -118.428  | 327        | 4    | 1.9   | 2017-10-16 | 2017     | Aqua      | MODIS      | 77         | 6.1     | 278.8      | 192.8 | 0\n",
       "36.253   | -118.428  | 330.3      | 1.4  | 1.2   | 2017-10-17 | 542      | Terra     | MODIS      | 100        | 6.1     | 281.1      | 49.7  | 0\n",
       "36.412   | -119.232  | 339.2      | 1.7  | 1.3   | 2017-09-08 | 1916     | Terra     | MODIS      | 87         | 6.1     | 302.5      | 73.2  | 0\n",
       "... (6043 rows omitted)"
      ]
     },
     "execution_count": 2,
     "metadata": {},
     "output_type": "execute_result"
    }
   ],
   "source": [
    "data=Table().read_table('~/URAP/google_earth_fires/data/SoCal_fires.csv') #from https://github.com/jupyterhub/jupyterhub/issues/376\n",
    "data"
   ]
  },
  {
   "cell_type": "markdown",
   "metadata": {},
   "source": [
    "## Filtering the data"
   ]
  },
  {
   "cell_type": "markdown",
   "metadata": {},
   "source": [
    "Now, let's select our columns of interest. For the purposes of this tutorial, we care about the latitude, longitude, brightness, and dates of our data."
   ]
  },
  {
   "cell_type": "code",
   "execution_count": 3,
   "metadata": {},
   "outputs": [
    {
     "data": {
      "text/html": [
       "<table border=\"1\" class=\"dataframe\">\n",
       "    <thead>\n",
       "        <tr>\n",
       "            <th>latitude</th> <th>longitude</th> <th>brightness</th> <th>acq_date</th>\n",
       "        </tr>\n",
       "    </thead>\n",
       "    <tbody>\n",
       "        <tr>\n",
       "            <td>36.234  </td> <td>-118.43  </td> <td>321.9     </td> <td>2017-10-07</td>\n",
       "        </tr>\n",
       "        <tr>\n",
       "            <td>36.258  </td> <td>-118.421 </td> <td>319.4     </td> <td>2017-10-15</td>\n",
       "        </tr>\n",
       "        <tr>\n",
       "            <td>36.259  </td> <td>-118.425 </td> <td>318.2     </td> <td>2017-10-15</td>\n",
       "        </tr>\n",
       "        <tr>\n",
       "            <td>36.256  </td> <td>-118.42  </td> <td>345.1     </td> <td>2017-10-15</td>\n",
       "        </tr>\n",
       "        <tr>\n",
       "            <td>36.272  </td> <td>-118.429 </td> <td>326.3     </td> <td>2017-10-16</td>\n",
       "        </tr>\n",
       "        <tr>\n",
       "            <td>36.271  </td> <td>-118.418 </td> <td>331.1     </td> <td>2017-10-16</td>\n",
       "        </tr>\n",
       "        <tr>\n",
       "            <td>36.255  </td> <td>-118.412 </td> <td>300       </td> <td>2017-10-16</td>\n",
       "        </tr>\n",
       "        <tr>\n",
       "            <td>36.256  </td> <td>-118.428 </td> <td>327       </td> <td>2017-10-16</td>\n",
       "        </tr>\n",
       "        <tr>\n",
       "            <td>36.253  </td> <td>-118.428 </td> <td>330.3     </td> <td>2017-10-17</td>\n",
       "        </tr>\n",
       "        <tr>\n",
       "            <td>36.412  </td> <td>-119.232 </td> <td>339.2     </td> <td>2017-09-08</td>\n",
       "        </tr>\n",
       "    </tbody>\n",
       "</table>\n",
       "<p>... (6043 rows omitted)</p>"
      ],
      "text/plain": [
       "latitude | longitude | brightness | acq_date\n",
       "36.234   | -118.43   | 321.9      | 2017-10-07\n",
       "36.258   | -118.421  | 319.4      | 2017-10-15\n",
       "36.259   | -118.425  | 318.2      | 2017-10-15\n",
       "36.256   | -118.42   | 345.1      | 2017-10-15\n",
       "36.272   | -118.429  | 326.3      | 2017-10-16\n",
       "36.271   | -118.418  | 331.1      | 2017-10-16\n",
       "36.255   | -118.412  | 300        | 2017-10-16\n",
       "36.256   | -118.428  | 327        | 2017-10-16\n",
       "36.253   | -118.428  | 330.3      | 2017-10-17\n",
       "36.412   | -119.232  | 339.2      | 2017-09-08\n",
       "... (6043 rows omitted)"
      ]
     },
     "execution_count": 3,
     "metadata": {},
     "output_type": "execute_result"
    }
   ],
   "source": [
    "py_data=data.select(0,1,2,5) #get the columns you want\n",
    "py_data"
   ]
  },
  {
   "cell_type": "markdown",
   "metadata": {},
   "source": [
    "Next, let's find the top 5 brightest fires in our data. To do this, we can sort the brightness from brightest to dimmest, and use the numpy.take method to grab the first 5 rows. You will also do the same thing to find the 5 dimmest fires, except you will sort from dimmest to brightest."
   ]
  },
  {
   "cell_type": "code",
   "execution_count": 4,
   "metadata": {},
   "outputs": [
    {
     "data": {
      "text/html": [
       "<table border=\"1\" class=\"dataframe\">\n",
       "    <thead>\n",
       "        <tr>\n",
       "            <th>latitude</th> <th>longitude</th> <th>brightness</th> <th>acq_date</th>\n",
       "        </tr>\n",
       "    </thead>\n",
       "    <tbody>\n",
       "        <tr>\n",
       "            <td>34.466  </td> <td>-119.078 </td> <td>504       </td> <td>2017-12-06</td>\n",
       "        </tr>\n",
       "        <tr>\n",
       "            <td>34.47   </td> <td>-119.652 </td> <td>503.7     </td> <td>2017-12-16</td>\n",
       "        </tr>\n",
       "        <tr>\n",
       "            <td>34.549  </td> <td>-119.35  </td> <td>502.4     </td> <td>2017-12-11</td>\n",
       "        </tr>\n",
       "        <tr>\n",
       "            <td>34.415  </td> <td>-119.41  </td> <td>502.3     </td> <td>2017-12-10</td>\n",
       "        </tr>\n",
       "        <tr>\n",
       "            <td>34.477  </td> <td>-119.079 </td> <td>501.9     </td> <td>2017-12-06</td>\n",
       "        </tr>\n",
       "    </tbody>\n",
       "</table>"
      ],
      "text/plain": [
       "latitude | longitude | brightness | acq_date\n",
       "34.466   | -119.078  | 504        | 2017-12-06\n",
       "34.47    | -119.652  | 503.7      | 2017-12-16\n",
       "34.549   | -119.35   | 502.4      | 2017-12-11\n",
       "34.415   | -119.41   | 502.3      | 2017-12-10\n",
       "34.477   | -119.079  | 501.9      | 2017-12-06"
      ]
     },
     "execution_count": 4,
     "metadata": {},
     "output_type": "execute_result"
    }
   ],
   "source": [
    "brightest=py_data.sort('brightness', descending=True).take(range(0,5))\n",
    "brightest"
   ]
  },
  {
   "cell_type": "code",
   "execution_count": 5,
   "metadata": {},
   "outputs": [
    {
     "data": {
      "text/html": [
       "<table border=\"1\" class=\"dataframe\">\n",
       "    <thead>\n",
       "        <tr>\n",
       "            <th>latitude</th> <th>longitude</th> <th>brightness</th> <th>acq_date</th>\n",
       "        </tr>\n",
       "    </thead>\n",
       "    <tbody>\n",
       "        <tr>\n",
       "            <td>36.255  </td> <td>-118.412 </td> <td>300       </td> <td>2017-10-16</td>\n",
       "        </tr>\n",
       "        <tr>\n",
       "            <td>34.339  </td> <td>-118.32  </td> <td>300       </td> <td>2017-12-06</td>\n",
       "        </tr>\n",
       "        <tr>\n",
       "            <td>37.681  </td> <td>-119.592 </td> <td>300       </td> <td>2017-10-08</td>\n",
       "        </tr>\n",
       "        <tr>\n",
       "            <td>37.212  </td> <td>-119.418 </td> <td>300       </td> <td>2017-12-06</td>\n",
       "        </tr>\n",
       "        <tr>\n",
       "            <td>36.693  </td> <td>-119.7   </td> <td>300       </td> <td>2018-01-26</td>\n",
       "        </tr>\n",
       "    </tbody>\n",
       "</table>"
      ],
      "text/plain": [
       "latitude | longitude | brightness | acq_date\n",
       "36.255   | -118.412  | 300        | 2017-10-16\n",
       "34.339   | -118.32   | 300        | 2017-12-06\n",
       "37.681   | -119.592  | 300        | 2017-10-08\n",
       "37.212   | -119.418  | 300        | 2017-12-06\n",
       "36.693   | -119.7    | 300        | 2018-01-26"
      ]
     },
     "execution_count": 5,
     "metadata": {},
     "output_type": "execute_result"
    }
   ],
   "source": [
    "dimmest=py_data.sort('brightness',descending=False).take(range(0,5))\n",
    "dimmest"
   ]
  },
  {
   "cell_type": "markdown",
   "metadata": {},
   "source": [
    "Finding the middle 5 fires will take a bit more work. First, we will find the median of our brightness values. Then, we will find the index of table in which the median is located. Finally, we will want to take the two rows above the median and the two rows below the median to get the middle 5 of the table. "
   ]
  },
  {
   "cell_type": "code",
   "execution_count": 6,
   "metadata": {},
   "outputs": [
    {
     "data": {
      "text/plain": [
       "3017"
      ]
     },
     "execution_count": 6,
     "metadata": {},
     "output_type": "execute_result"
    }
   ],
   "source": [
    "bright_col=py_data.sort('brightness',descending=False).column('brightness') #the brightness column of our data\n",
    "medium=np.median(bright_col) #find median of brightnesses\n",
    "list(bright_col).index(medium) #find index of median\n"
   ]
  },
  {
   "cell_type": "code",
   "execution_count": 7,
   "metadata": {},
   "outputs": [
    {
     "data": {
      "text/html": [
       "<table border=\"1\" class=\"dataframe\">\n",
       "    <thead>\n",
       "        <tr>\n",
       "            <th>latitude</th> <th>longitude</th> <th>brightness</th> <th>acq_date</th>\n",
       "        </tr>\n",
       "    </thead>\n",
       "    <tbody>\n",
       "        <tr>\n",
       "            <td>34.456  </td> <td>-119.371 </td> <td>300.1     </td> <td>2017-12-09</td>\n",
       "        </tr>\n",
       "        <tr>\n",
       "            <td>34.478  </td> <td>-119.409 </td> <td>311.4     </td> <td>2017-12-09</td>\n",
       "        </tr>\n",
       "        <tr>\n",
       "            <td>34.476  </td> <td>-119.421 </td> <td>313.2     </td> <td>2017-12-09</td>\n",
       "        </tr>\n",
       "        <tr>\n",
       "            <td>34.474  </td> <td>-119.431 </td> <td>313.6     </td> <td>2017-12-09</td>\n",
       "        </tr>\n",
       "        <tr>\n",
       "            <td>34.436  </td> <td>-119.351 </td> <td>367.4     </td> <td>2017-12-09</td>\n",
       "        </tr>\n",
       "    </tbody>\n",
       "</table>"
      ],
      "text/plain": [
       "latitude | longitude | brightness | acq_date\n",
       "34.456   | -119.371  | 300.1      | 2017-12-09\n",
       "34.478   | -119.409  | 311.4      | 2017-12-09\n",
       "34.476   | -119.421  | 313.2      | 2017-12-09\n",
       "34.474   | -119.431  | 313.6      | 2017-12-09\n",
       "34.436   | -119.351  | 367.4      | 2017-12-09"
      ]
     },
     "execution_count": 7,
     "metadata": {},
     "output_type": "execute_result"
    }
   ],
   "source": [
    "middle=py_data.take(range((3017-2),(3017+3))) #take two above and two below median to get \"middle 5 brightest\"\n",
    "middle"
   ]
  },
  {
   "cell_type": "markdown",
   "metadata": {},
   "source": [
    "Now, it's time to concatenate all our data! I am going to create arrays for each variable that we are interested in, using data from our \"brightest\", \"middle\", and \"dimmest\" tables."
   ]
  },
  {
   "cell_type": "code",
   "execution_count": 8,
   "metadata": {},
   "outputs": [],
   "source": [
    "lats=np.append(np.append(brightest.column(0),(middle.column(0))), dimmest.column(0)) #latitudes  \n",
    "longs=np.append(np.append(brightest.column(1),(middle.column(1))), dimmest.column(1)) #longitudes\n",
    "brights=np.append(np.append(brightest.column(2),(middle.column(2))), dimmest.column(2)) #brightnesses\n",
    "dates=np.append(np.append(brightest.column(3),(middle.column(3))), dimmest.column(3)) #dates"
   ]
  },
  {
   "cell_type": "markdown",
   "metadata": {},
   "source": [
    "Now, let's create a new table with columns for these variables! This table will contain the latitude, longitude, brightness, and dates of the top 5 brightest, middle 5, and 5 dimmest fire data. "
   ]
  },
  {
   "cell_type": "code",
   "execution_count": 9,
   "metadata": {},
   "outputs": [
    {
     "data": {
      "text/html": [
       "<table border=\"1\" class=\"dataframe\">\n",
       "    <thead>\n",
       "        <tr>\n",
       "            <th>latitude</th> <th>longitude</th> <th>brightness</th> <th>acq_date</th>\n",
       "        </tr>\n",
       "    </thead>\n",
       "    <tbody>\n",
       "        <tr>\n",
       "            <td>34.466  </td> <td>-119.078 </td> <td>504       </td> <td>2017-12-06</td>\n",
       "        </tr>\n",
       "        <tr>\n",
       "            <td>34.47   </td> <td>-119.652 </td> <td>503.7     </td> <td>2017-12-16</td>\n",
       "        </tr>\n",
       "        <tr>\n",
       "            <td>34.549  </td> <td>-119.35  </td> <td>502.4     </td> <td>2017-12-11</td>\n",
       "        </tr>\n",
       "        <tr>\n",
       "            <td>34.415  </td> <td>-119.41  </td> <td>502.3     </td> <td>2017-12-10</td>\n",
       "        </tr>\n",
       "        <tr>\n",
       "            <td>34.477  </td> <td>-119.079 </td> <td>501.9     </td> <td>2017-12-06</td>\n",
       "        </tr>\n",
       "        <tr>\n",
       "            <td>34.456  </td> <td>-119.371 </td> <td>300.1     </td> <td>2017-12-09</td>\n",
       "        </tr>\n",
       "        <tr>\n",
       "            <td>34.478  </td> <td>-119.409 </td> <td>311.4     </td> <td>2017-12-09</td>\n",
       "        </tr>\n",
       "        <tr>\n",
       "            <td>34.476  </td> <td>-119.421 </td> <td>313.2     </td> <td>2017-12-09</td>\n",
       "        </tr>\n",
       "        <tr>\n",
       "            <td>34.474  </td> <td>-119.431 </td> <td>313.6     </td> <td>2017-12-09</td>\n",
       "        </tr>\n",
       "        <tr>\n",
       "            <td>34.436  </td> <td>-119.351 </td> <td>367.4     </td> <td>2017-12-09</td>\n",
       "        </tr>\n",
       "    </tbody>\n",
       "</table>\n",
       "<p>... (5 rows omitted)</p>"
      ],
      "text/plain": [
       "latitude | longitude | brightness | acq_date\n",
       "34.466   | -119.078  | 504        | 2017-12-06\n",
       "34.47    | -119.652  | 503.7      | 2017-12-16\n",
       "34.549   | -119.35   | 502.4      | 2017-12-11\n",
       "34.415   | -119.41   | 502.3      | 2017-12-10\n",
       "34.477   | -119.079  | 501.9      | 2017-12-06\n",
       "34.456   | -119.371  | 300.1      | 2017-12-09\n",
       "34.478   | -119.409  | 311.4      | 2017-12-09\n",
       "34.476   | -119.421  | 313.2      | 2017-12-09\n",
       "34.474   | -119.431  | 313.6      | 2017-12-09\n",
       "34.436   | -119.351  | 367.4      | 2017-12-09\n",
       "... (5 rows omitted)"
      ]
     },
     "execution_count": 9,
     "metadata": {},
     "output_type": "execute_result"
    }
   ],
   "source": [
    "filtered_data=Table().with_columns(\n",
    "        'latitude', lats,\n",
    "        'longitude', longs,\n",
    "        'brightness', brights,\n",
    "        'acq_date', dates\n",
    "        )\n",
    "filtered_data"
   ]
  },
  {
   "cell_type": "markdown",
   "metadata": {},
   "source": [
    "## Plotting the data"
   ]
  },
  {
   "cell_type": "markdown",
   "metadata": {},
   "source": [
    "Here's where things get a bit tricky. Ultimately, we would like to plot a figure with a specific set of data and a specific layout. Plotly has many attributes to help us accomplish our goal, but how do we know which ones to use? Luckily, Plotly has a [figure reference!](https://plot.ly/python/reference/)"
   ]
  },
  {
   "cell_type": "markdown",
   "metadata": {},
   "source": [
    "Let's initialize our data first. We want to have different-colored bubbles on our bubble map so that we can differentiate between the three levels of brightness. Let's create a list of colors to choose from, using their RGB values: "
   ]
  },
  {
   "cell_type": "code",
   "execution_count": 10,
   "metadata": {},
   "outputs": [],
   "source": [
    "colors = [\"rgb(255,0,0)\", \"rgb(255,128,0)\", \"rgb(255,255,0)\"] #red, orange, yellow"
   ]
  },
  {
   "cell_type": "markdown",
   "metadata": {},
   "source": [
    "Next, we'll create a list called limits. Limits contains three elements, and each element contains the beginning index and ending index of a brightness level. This list will allow us to map certain attributes to a specific range of data. For example, if we assign the first element of [colors] to the first element in [limits], the 5 brightest fires will appear as red bubbles on the map."
   ]
  },
  {
   "cell_type": "code",
   "execution_count": 11,
   "metadata": {},
   "outputs": [],
   "source": [
    "limits=[(0,5),(5,10),(10,15)] #we are grouping by brightness, where first five (0,5) are brightest, second group of five (5,10) are medium, etc."
   ]
  },
  {
   "cell_type": "markdown",
   "metadata": {},
   "source": [
    "Now, it's time to create a list that contains all the information that we want to represent on the map. We'll call this list \"fires.\" In the end, we want this list to hold three dictionaries (one for each brightness level). \n",
    "\n",
    "Since we have three brightness levels, we want to assign specific attributes to each of them. To do this, we will iterature through each of the groups and create a dictionary of attributes for each. If you are unclear about these attributes, refer to the [figure reference!](https://plot.ly/python/reference/)."
   ]
  },
  {
   "cell_type": "code",
   "execution_count": 12,
   "metadata": {},
   "outputs": [],
   "source": [
    "fires=[] #the data that we want to represent on the map\n",
    "for i in range(len(limits)): #we want to iterate 3 times to create 3 traces on the map \n",
    "    group=filtered_data.take(range(limits[i][0], limits[i][1])) #i.e: in the first iteration, we are taking the top 5 rows (the brightest) \n",
    "    fire=dict(\n",
    "        type = 'scattergeo', #the type of figure we want to create \n",
    "        locationmode = 'USA-states', \n",
    "        lon = group['longitude'],\n",
    "        lat = group['latitude'],\n",
    "        marker=dict(\n",
    "                size=group['brightness'].item(0)/20, #scale the size of the bubble; our bubble size is based on the brightness \n",
    "                color=colors[i], #the color of the bubbles in this group \n",
    "                line = dict(width=0.5, color='rgb(40,40,40)'), \n",
    "                sizemode='diameter'\n",
    "                ), #sets the properties of the bubbles \n",
    "        name='{0}-{1}'.format(limits[i][0], limits[i][1])) #legend labels\n",
    "    fires.append(fire)"
   ]
  },
  {
   "cell_type": "markdown",
   "metadata": {},
   "source": [
    "Let's see what our \"fires\" dictionary looks like: "
   ]
  },
  {
   "cell_type": "code",
   "execution_count": 13,
   "metadata": {},
   "outputs": [
    {
     "data": {
      "text/plain": [
       "[{'lat': array([34.466, 34.47 , 34.549, 34.415, 34.477]),\n",
       "  'locationmode': 'USA-states',\n",
       "  'lon': array([-119.078, -119.652, -119.35 , -119.41 , -119.079]),\n",
       "  'marker': {'color': 'rgb(255,0,0)',\n",
       "   'line': {'color': 'rgb(40,40,40)', 'width': 0.5},\n",
       "   'size': 25.2,\n",
       "   'sizemode': 'diameter'},\n",
       "  'name': '0-5',\n",
       "  'type': 'scattergeo'},\n",
       " {'lat': array([34.456, 34.478, 34.476, 34.474, 34.436]),\n",
       "  'locationmode': 'USA-states',\n",
       "  'lon': array([-119.371, -119.409, -119.421, -119.431, -119.351]),\n",
       "  'marker': {'color': 'rgb(255,128,0)',\n",
       "   'line': {'color': 'rgb(40,40,40)', 'width': 0.5},\n",
       "   'size': 15.005,\n",
       "   'sizemode': 'diameter'},\n",
       "  'name': '5-10',\n",
       "  'type': 'scattergeo'},\n",
       " {'lat': array([36.255, 34.339, 37.681, 37.212, 36.693]),\n",
       "  'locationmode': 'USA-states',\n",
       "  'lon': array([-118.412, -118.32 , -119.592, -119.418, -119.7  ]),\n",
       "  'marker': {'color': 'rgb(255,255,0)',\n",
       "   'line': {'color': 'rgb(40,40,40)', 'width': 0.5},\n",
       "   'size': 15.0,\n",
       "   'sizemode': 'diameter'},\n",
       "  'name': '10-15',\n",
       "  'type': 'scattergeo'}]"
      ]
     },
     "execution_count": 13,
     "metadata": {},
     "output_type": "execute_result"
    }
   ],
   "source": [
    "fires"
   ]
  },
  {
   "cell_type": "markdown",
   "metadata": {},
   "source": [
    "Next, we will dictate what our figure layout should be. "
   ]
  },
  {
   "cell_type": "code",
   "execution_count": 14,
   "metadata": {},
   "outputs": [
    {
     "data": {
      "text/html": [
       "<iframe id=\"igraph\" scrolling=\"no\" style=\"border:none;\" seamless=\"seamless\" src=\"https://plot.ly/~winifredc123/8.embed\" height=\"525px\" width=\"100%\"></iframe>"
      ],
      "text/plain": [
       "<plotly.tools.PlotlyDisplay object>"
      ]
     },
     "execution_count": 14,
     "metadata": {},
     "output_type": "execute_result"
    }
   ],
   "source": [
    "layout=dict(\n",
    "        title='Range of Wildfire Brightnesses in California from 09/01/2017 to 09/01/2018',\n",
    "        showlegend=True,\n",
    "        geo = dict(\n",
    "            projection=dict( type='albers usa'), #provides the gray USA map \n",
    "            center=dict(lon=-116.4194, lat=34.9592), #centers the map on the middle of SoCal when you first create the map\n",
    "            zoom=6, #Zoom factor of map when you create it \n",
    "            showland = True,\n",
    "            landcolor = 'rgb(217, 217, 217)',\n",
    "            subunitwidth=1,\n",
    "            countrywidth=1,\n",
    "            subunitcolor=\"rgb(255, 255, 255)\",\n",
    "            countrycolor=\"rgb(255, 255, 255)\"\n",
    "        ),\n",
    "    )\n",
    "fig = dict(data=fires, layout=layout) #our figure with fires data and the layout we want \n",
    "py.iplot(fig, validate=False, filename='SoCal-FIRMS-bubble-map') #plot the data! "
   ]
  },
  {
   "cell_type": "markdown",
   "metadata": {},
   "source": [
    "<img src = \"../images/firstplot.PNG\">"
   ]
  },
  {
   "cell_type": "markdown",
   "metadata": {},
   "source": [
    "## Add more data points! \n",
    "Here, I am just doing the same steps but getting a total of 300 data points in the end and tweaking the map."
   ]
  },
  {
   "cell_type": "code",
   "execution_count": 15,
   "metadata": {},
   "outputs": [
    {
     "data": {
      "text/html": [
       "<table border=\"1\" class=\"dataframe\">\n",
       "    <thead>\n",
       "        <tr>\n",
       "            <th>latitude</th> <th>longitude</th> <th>brightness</th> <th>acq_date</th>\n",
       "        </tr>\n",
       "    </thead>\n",
       "    <tbody>\n",
       "        <tr>\n",
       "            <td>34.466  </td> <td>-119.078 </td> <td>504       </td> <td>2017-12-06</td>\n",
       "        </tr>\n",
       "        <tr>\n",
       "            <td>34.47   </td> <td>-119.652 </td> <td>503.7     </td> <td>2017-12-16</td>\n",
       "        </tr>\n",
       "        <tr>\n",
       "            <td>34.549  </td> <td>-119.35  </td> <td>502.4     </td> <td>2017-12-11</td>\n",
       "        </tr>\n",
       "        <tr>\n",
       "            <td>34.415  </td> <td>-119.41  </td> <td>502.3     </td> <td>2017-12-10</td>\n",
       "        </tr>\n",
       "        <tr>\n",
       "            <td>34.477  </td> <td>-119.079 </td> <td>501.9     </td> <td>2017-12-06</td>\n",
       "        </tr>\n",
       "        <tr>\n",
       "            <td>34.474  </td> <td>-119.096 </td> <td>501.5     </td> <td>2017-12-06</td>\n",
       "        </tr>\n",
       "        <tr>\n",
       "            <td>34.444  </td> <td>-119.334 </td> <td>501.1     </td> <td>2017-12-09</td>\n",
       "        </tr>\n",
       "        <tr>\n",
       "            <td>34.48   </td> <td>-119.654 </td> <td>500.1     </td> <td>2017-12-16</td>\n",
       "        </tr>\n",
       "        <tr>\n",
       "            <td>34.344  </td> <td>-119.185 </td> <td>500       </td> <td>2017-12-05</td>\n",
       "        </tr>\n",
       "        <tr>\n",
       "            <td>34.404  </td> <td>-119.146 </td> <td>500       </td> <td>2017-12-05</td>\n",
       "        </tr>\n",
       "    </tbody>\n",
       "</table>\n",
       "<p>... (90 rows omitted)</p>"
      ],
      "text/plain": [
       "latitude | longitude | brightness | acq_date\n",
       "34.466   | -119.078  | 504        | 2017-12-06\n",
       "34.47    | -119.652  | 503.7      | 2017-12-16\n",
       "34.549   | -119.35   | 502.4      | 2017-12-11\n",
       "34.415   | -119.41   | 502.3      | 2017-12-10\n",
       "34.477   | -119.079  | 501.9      | 2017-12-06\n",
       "34.474   | -119.096  | 501.5      | 2017-12-06\n",
       "34.444   | -119.334  | 501.1      | 2017-12-09\n",
       "34.48    | -119.654  | 500.1      | 2017-12-16\n",
       "34.344   | -119.185  | 500        | 2017-12-05\n",
       "34.404   | -119.146  | 500        | 2017-12-05\n",
       "... (90 rows omitted)"
      ]
     },
     "execution_count": 15,
     "metadata": {},
     "output_type": "execute_result"
    }
   ],
   "source": [
    "brightest100=py_data.sort('brightness', descending=True).take(range(0,100))\n",
    "brightest100"
   ]
  },
  {
   "cell_type": "code",
   "execution_count": 16,
   "metadata": {},
   "outputs": [
    {
     "data": {
      "text/html": [
       "<table border=\"1\" class=\"dataframe\">\n",
       "    <thead>\n",
       "        <tr>\n",
       "            <th>latitude</th> <th>longitude</th> <th>brightness</th> <th>acq_date</th>\n",
       "        </tr>\n",
       "    </thead>\n",
       "    <tbody>\n",
       "        <tr>\n",
       "            <td>36.255  </td> <td>-118.412 </td> <td>300       </td> <td>2017-10-16</td>\n",
       "        </tr>\n",
       "        <tr>\n",
       "            <td>34.339  </td> <td>-118.32  </td> <td>300       </td> <td>2017-12-06</td>\n",
       "        </tr>\n",
       "        <tr>\n",
       "            <td>37.681  </td> <td>-119.592 </td> <td>300       </td> <td>2017-10-08</td>\n",
       "        </tr>\n",
       "        <tr>\n",
       "            <td>37.212  </td> <td>-119.418 </td> <td>300       </td> <td>2017-12-06</td>\n",
       "        </tr>\n",
       "        <tr>\n",
       "            <td>36.693  </td> <td>-119.7   </td> <td>300       </td> <td>2018-01-26</td>\n",
       "        </tr>\n",
       "        <tr>\n",
       "            <td>36.971  </td> <td>-119.957 </td> <td>300       </td> <td>2017-12-04</td>\n",
       "        </tr>\n",
       "        <tr>\n",
       "            <td>36.082  </td> <td>-118.757 </td> <td>300       </td> <td>2017-09-11</td>\n",
       "        </tr>\n",
       "        <tr>\n",
       "            <td>37.243  </td> <td>-120.353 </td> <td>300       </td> <td>2018-01-26</td>\n",
       "        </tr>\n",
       "        <tr>\n",
       "            <td>36.546  </td> <td>-119.693 </td> <td>300.1     </td> <td>2017-12-20</td>\n",
       "        </tr>\n",
       "        <tr>\n",
       "            <td>34.461  </td> <td>-118.964 </td> <td>300.1     </td> <td>2017-12-12</td>\n",
       "        </tr>\n",
       "    </tbody>\n",
       "</table>\n",
       "<p>... (90 rows omitted)</p>"
      ],
      "text/plain": [
       "latitude | longitude | brightness | acq_date\n",
       "36.255   | -118.412  | 300        | 2017-10-16\n",
       "34.339   | -118.32   | 300        | 2017-12-06\n",
       "37.681   | -119.592  | 300        | 2017-10-08\n",
       "37.212   | -119.418  | 300        | 2017-12-06\n",
       "36.693   | -119.7    | 300        | 2018-01-26\n",
       "36.971   | -119.957  | 300        | 2017-12-04\n",
       "36.082   | -118.757  | 300        | 2017-09-11\n",
       "37.243   | -120.353  | 300        | 2018-01-26\n",
       "36.546   | -119.693  | 300.1      | 2017-12-20\n",
       "34.461   | -118.964  | 300.1      | 2017-12-12\n",
       "... (90 rows omitted)"
      ]
     },
     "execution_count": 16,
     "metadata": {},
     "output_type": "execute_result"
    }
   ],
   "source": [
    "dimmest100=py_data.sort('brightness', descending=False).take(range(0, 100))\n",
    "dimmest100"
   ]
  },
  {
   "cell_type": "code",
   "execution_count": 17,
   "metadata": {},
   "outputs": [
    {
     "data": {
      "text/plain": [
       "3017"
      ]
     },
     "execution_count": 17,
     "metadata": {},
     "output_type": "execute_result"
    }
   ],
   "source": [
    "bright_col=py_data.sort('brightness',descending=False).column('brightness')#the brightness column of our data\n",
    "medium=np.median(bright_col) #find median of brightnesses\n",
    "list(bright_col).index(medium) #find index of median\n"
   ]
  },
  {
   "cell_type": "code",
   "execution_count": 18,
   "metadata": {},
   "outputs": [
    {
     "data": {
      "text/html": [
       "<table border=\"1\" class=\"dataframe\">\n",
       "    <thead>\n",
       "        <tr>\n",
       "            <th>latitude</th> <th>longitude</th> <th>brightness</th> <th>acq_date</th>\n",
       "        </tr>\n",
       "    </thead>\n",
       "    <tbody>\n",
       "        <tr>\n",
       "            <td>34.389  </td> <td>-119.176 </td> <td>378.7     </td> <td>2017-12-05</td>\n",
       "        </tr>\n",
       "        <tr>\n",
       "            <td>34.415  </td> <td>-119.231 </td> <td>390       </td> <td>2017-12-05</td>\n",
       "        </tr>\n",
       "        <tr>\n",
       "            <td>34.404  </td> <td>-119.231 </td> <td>382.6     </td> <td>2017-12-05</td>\n",
       "        </tr>\n",
       "        <tr>\n",
       "            <td>34.393  </td> <td>-119.234 </td> <td>427.3     </td> <td>2017-12-05</td>\n",
       "        </tr>\n",
       "        <tr>\n",
       "            <td>34.362  </td> <td>-119.276 </td> <td>344.9     </td> <td>2017-12-05</td>\n",
       "        </tr>\n",
       "        <tr>\n",
       "            <td>34.416  </td> <td>-119.245 </td> <td>351.1     </td> <td>2017-12-05</td>\n",
       "        </tr>\n",
       "        <tr>\n",
       "            <td>34.339  </td> <td>-119.299 </td> <td>340.9     </td> <td>2017-12-06</td>\n",
       "        </tr>\n",
       "        <tr>\n",
       "            <td>34.478  </td> <td>-119.164 </td> <td>434.8     </td> <td>2017-12-06</td>\n",
       "        </tr>\n",
       "        <tr>\n",
       "            <td>34.373  </td> <td>-119.407 </td> <td>373.8     </td> <td>2017-12-06</td>\n",
       "        </tr>\n",
       "        <tr>\n",
       "            <td>34.364  </td> <td>-119.359 </td> <td>349.9     </td> <td>2017-12-06</td>\n",
       "        </tr>\n",
       "    </tbody>\n",
       "</table>\n",
       "<p>... (90 rows omitted)</p>"
      ],
      "text/plain": [
       "latitude | longitude | brightness | acq_date\n",
       "34.389   | -119.176  | 378.7      | 2017-12-05\n",
       "34.415   | -119.231  | 390        | 2017-12-05\n",
       "34.404   | -119.231  | 382.6      | 2017-12-05\n",
       "34.393   | -119.234  | 427.3      | 2017-12-05\n",
       "34.362   | -119.276  | 344.9      | 2017-12-05\n",
       "34.416   | -119.245  | 351.1      | 2017-12-05\n",
       "34.339   | -119.299  | 340.9      | 2017-12-06\n",
       "34.478   | -119.164  | 434.8      | 2017-12-06\n",
       "34.373   | -119.407  | 373.8      | 2017-12-06\n",
       "34.364   | -119.359  | 349.9      | 2017-12-06\n",
       "... (90 rows omitted)"
      ]
     },
     "execution_count": 18,
     "metadata": {},
     "output_type": "execute_result"
    }
   ],
   "source": [
    "middle100=py_data.take(range((3017-50),(3017+50))) #take two above and two below median to get \"middle 100 brightest\"\n",
    "middle100"
   ]
  },
  {
   "cell_type": "code",
   "execution_count": 19,
   "metadata": {},
   "outputs": [],
   "source": [
    "lats300=np.append(np.append(brightest100.column(0),(middle100.column(0))), dimmest100.column(0))\n",
    "longs300=np.append(np.append(brightest100.column(1),(middle100.column(1))), dimmest100.column(1))\n",
    "brights300=np.append(np.append(brightest100.column(2),(middle100.column(2))), dimmest100.column(2))\n",
    "dates300=np.append(np.append(brightest100.column(3),(middle100.column(3))), dimmest100.column(3))"
   ]
  },
  {
   "cell_type": "code",
   "execution_count": 20,
   "metadata": {},
   "outputs": [],
   "source": [
    "filtered_data300=Table().with_columns(\n",
    "        'latitude', lats300,\n",
    "        'longitude', longs300,\n",
    "        'brightness', brights300,\n",
    "        'acq_date', dates300\n",
    "        )"
   ]
  },
  {
   "cell_type": "markdown",
   "metadata": {},
   "source": [
    "One thing I wanted to do was add the brightness value and date to the label of each bubble. \n",
    "\n",
    "First, I created a function called \"labels\" that takes in two arrays and combines their values into a single array. For example, I took the \"brightness\" column and \"acq_date\" column from our table and returned an array with \"< brightness value >, < date >\" for each fire. "
   ]
  },
  {
   "cell_type": "code",
   "execution_count": 21,
   "metadata": {},
   "outputs": [],
   "source": [
    "def labels(array1,array2):\n",
    "    a=array1.astype(str)\n",
    "    b=array2.astype(str)\n",
    "    label=make_array()\n",
    "    for i in range(0,len(array1)):\n",
    "        matched_label=a[i]+', '+b[i]\n",
    "        label=np.append(label, matched_label)\n",
    "    return label "
   ]
  },
  {
   "cell_type": "code",
   "execution_count": 22,
   "metadata": {},
   "outputs": [
    {
     "data": {
      "text/plain": [
       "'504.0, 2017-12-06'"
      ]
     },
     "execution_count": 22,
     "metadata": {},
     "output_type": "execute_result"
    }
   ],
   "source": [
    "labels300=labels(filtered_data300.column('brightness'),filtered_data300.column('acq_date')) #create array of 300 labels \n",
    "labels300[0] #example of a single label "
   ]
  },
  {
   "cell_type": "markdown",
   "metadata": {},
   "source": [
    "Then, I added a \"text\" attribute to the fire dictionary and set it equal to a specific splice of the \"labels300\" array. I also changed the trace names in the legend by creating a new list of labels called \"legend labels\" and editing the \"name\" attribute in the fire dictionary."
   ]
  },
  {
   "cell_type": "code",
   "execution_count": 23,
   "metadata": {},
   "outputs": [],
   "source": [
    "limits300=[(0,100),(100,200),(200,300)]\n",
    "legendlabels=['Bright','Moderate', 'Dim'] #new legend labels \n",
    "fires300=[] \n",
    "for i in range(len(limits)): \n",
    "    group=filtered_data300.take(range(limits300[i][0], limits300[i][1])) \n",
    "    fire=dict(\n",
    "        type = 'scattergeo',\n",
    "        locationmode = 'USA-states', \n",
    "        lon = group['longitude'],\n",
    "        lat = group['latitude'],\n",
    "        text= labels300[range(limits300[i][0], limits300[i][1])],\n",
    "        location=['California'], \n",
    "        marker=dict(\n",
    "                size=group['brightness']/20, \n",
    "                color=colors[i], \n",
    "                line = dict(width=0.5, color='rgb(40,40,40)'), \n",
    "                sizemode='diameter'\n",
    "                ), \n",
    "        name=legendlabels[i]) \n",
    "    fires300.append(fire)\n"
   ]
  },
  {
   "cell_type": "code",
   "execution_count": 24,
   "metadata": {},
   "outputs": [
    {
     "data": {
      "text/html": [
       "<iframe id=\"igraph\" scrolling=\"no\" style=\"border:none;\" seamless=\"seamless\" src=\"https://plot.ly/~winifredc123/14.embed\" height=\"525px\" width=\"100%\"></iframe>"
      ],
      "text/plain": [
       "<plotly.tools.PlotlyDisplay object>"
      ]
     },
     "execution_count": 24,
     "metadata": {},
     "output_type": "execute_result"
    }
   ],
   "source": [
    "layout300=dict(\n",
    "        title='Range of Wildfire Brightnesses in California from 09/01/2017 to 09/01/2018',\n",
    "        showlegend=True,\n",
    "        opacity=0.7, #made the bubbles see-through \n",
    "        geo = dict(\n",
    "            projection=dict( type='albers usa'), \n",
    "            center=dict(lon=-119.4179, lat=36.7783), \n",
    "            showland = True,\n",
    "            landcolor = 'rgb(64,64,64)', #changed color of map to dark gray \n",
    "            subunitwidth=1,\n",
    "            countrywidth=1,\n",
    "            subunitcolor=\"rgb(255, 255, 255)\",\n",
    "            countrycolor=\"rgb(255, 255, 255)\"\n",
    "        ),\n",
    "    )\n",
    "fig = dict(data=fires300, layout=layout300)\n",
    "py.iplot(fig, validate=False, filename='FIRMS300-bubble-map') "
   ]
  },
  {
   "cell_type": "markdown",
   "metadata": {},
   "source": [
    "<img src = \"../images/secondplot.PNG\">"
   ]
  },
  {
   "cell_type": "markdown",
   "metadata": {},
   "source": [
    "Tip: you can hide a specific trace by clicking on its bubble in the legend! \n",
    "\n",
    "As we can see, the most intense fires of 2017 seem to be located in the area north of Los Angeles. The bubble labels indicate that these fires spanned the first two weeks of December 2017. On the other hand, fires with less intensity were scattered up and down the Central Valley. "
   ]
  },
  {
   "cell_type": "markdown",
   "metadata": {},
   "source": [
    "## Using the CA Oct 2017- Apr 2018 dataset\n",
    "\n",
    "The `ca1718.csv` file contians FIRMS data for Calfornia's 2017-2018 fire season, which lasts from October to April. I performed the same actions as above, taking a total of 300 data points for the visualization."
   ]
  },
  {
   "cell_type": "code",
   "execution_count": 84,
   "metadata": {},
   "outputs": [
    {
     "data": {
      "text/html": [
       "<table border=\"1\" class=\"dataframe\">\n",
       "    <thead>\n",
       "        <tr>\n",
       "            <th>latitude</th> <th>longitude</th> <th>bright_ti4</th> <th>acq_date</th>\n",
       "        </tr>\n",
       "    </thead>\n",
       "    <tbody>\n",
       "        <tr>\n",
       "            <td>39.3832 </td> <td>-121.929 </td> <td>367       </td> <td>2018-02-13</td>\n",
       "        </tr>\n",
       "        <tr>\n",
       "            <td>39.3774 </td> <td>-121.928 </td> <td>367       </td> <td>2018-02-13</td>\n",
       "        </tr>\n",
       "        <tr>\n",
       "            <td>39.2687 </td> <td>-121.866 </td> <td>367       </td> <td>2018-02-12</td>\n",
       "        </tr>\n",
       "        <tr>\n",
       "            <td>39.3549 </td> <td>-121.974 </td> <td>367       </td> <td>2017-10-06</td>\n",
       "        </tr>\n",
       "        <tr>\n",
       "            <td>39.3523 </td> <td>-121.968 </td> <td>367       </td> <td>2017-10-06</td>\n",
       "        </tr>\n",
       "        <tr>\n",
       "            <td>39.3514 </td> <td>-121.973 </td> <td>367       </td> <td>2017-10-05</td>\n",
       "        </tr>\n",
       "        <tr>\n",
       "            <td>39.8693 </td> <td>-122.057 </td> <td>367       </td> <td>2018-02-14</td>\n",
       "        </tr>\n",
       "        <tr>\n",
       "            <td>39.8702 </td> <td>-122.063 </td> <td>367       </td> <td>2018-02-13</td>\n",
       "        </tr>\n",
       "        <tr>\n",
       "            <td>39.8704 </td> <td>-122.058 </td> <td>367       </td> <td>2018-02-13</td>\n",
       "        </tr>\n",
       "        <tr>\n",
       "            <td>39.8735 </td> <td>-122.061 </td> <td>367       </td> <td>2018-02-13</td>\n",
       "        </tr>\n",
       "    </tbody>\n",
       "</table>\n",
       "<p>... (32585 rows omitted)</p>"
      ],
      "text/plain": [
       "latitude | longitude | bright_ti4 | acq_date\n",
       "39.3832  | -121.929  | 367        | 2018-02-13\n",
       "39.3774  | -121.928  | 367        | 2018-02-13\n",
       "39.2687  | -121.866  | 367        | 2018-02-12\n",
       "39.3549  | -121.974  | 367        | 2017-10-06\n",
       "39.3523  | -121.968  | 367        | 2017-10-06\n",
       "39.3514  | -121.973  | 367        | 2017-10-05\n",
       "39.8693  | -122.057  | 367        | 2018-02-14\n",
       "39.8702  | -122.063  | 367        | 2018-02-13\n",
       "39.8704  | -122.058  | 367        | 2018-02-13\n",
       "39.8735  | -122.061  | 367        | 2018-02-13\n",
       "... (32585 rows omitted)"
      ]
     },
     "execution_count": 84,
     "metadata": {},
     "output_type": "execute_result"
    }
   ],
   "source": [
    "data1718=Table().read_table('~/URAP/google_earth_fires/data/ca1718.csv').sort('bright_ti4', descending=True).select(0,1,2,5)\n",
    "data1718"
   ]
  },
  {
   "cell_type": "code",
   "execution_count": 85,
   "metadata": {},
   "outputs": [
    {
     "data": {
      "text/plain": [
       "16285"
      ]
     },
     "execution_count": 85,
     "metadata": {},
     "output_type": "execute_result"
    }
   ],
   "source": [
    "bright1718=data1718.take(range(0,100))\n",
    "dim1718=data1718.sort('bright_ti4', descending=False).take(range(0,100))\n",
    "bright_col1718=data1718.sort('bright_ti4',descending=False).column('bright_ti4')#the brightness column of our data\n",
    "med1718=np.median(bright_col1718) #find median of brightnesses\n",
    "list(bright_col1718).index(med1718) #find index of median"
   ]
  },
  {
   "cell_type": "code",
   "execution_count": 86,
   "metadata": {},
   "outputs": [
    {
     "data": {
      "text/html": [
       "<table border=\"1\" class=\"dataframe\">\n",
       "    <thead>\n",
       "        <tr>\n",
       "            <th>latitude</th> <th>longitude</th> <th>bright_ti4</th> <th>acq_date</th>\n",
       "        </tr>\n",
       "    </thead>\n",
       "    <tbody>\n",
       "        <tr>\n",
       "            <td>38.3503 </td> <td>-122.323 </td> <td>331.4     </td> <td>2018-04-03</td>\n",
       "        </tr>\n",
       "        <tr>\n",
       "            <td>38.4058 </td> <td>-122.319 </td> <td>331.4     </td> <td>2017-10-09</td>\n",
       "        </tr>\n",
       "        <tr>\n",
       "            <td>38.4127 </td> <td>-122.278 </td> <td>331.4     </td> <td>2017-10-09</td>\n",
       "        </tr>\n",
       "        <tr>\n",
       "            <td>34.3841 </td> <td>-119.431 </td> <td>331.4     </td> <td>2017-12-08</td>\n",
       "        </tr>\n",
       "        <tr>\n",
       "            <td>36.983  </td> <td>-120.42  </td> <td>331.4     </td> <td>2018-02-15</td>\n",
       "        </tr>\n",
       "        <tr>\n",
       "            <td>37.1733 </td> <td>-120.34  </td> <td>331.4     </td> <td>2017-11-28</td>\n",
       "        </tr>\n",
       "        <tr>\n",
       "            <td>36.8601 </td> <td>-120.288 </td> <td>331.4     </td> <td>2018-01-19</td>\n",
       "        </tr>\n",
       "        <tr>\n",
       "            <td>39.1788 </td> <td>-120.592 </td> <td>331.4     </td> <td>2017-11-07</td>\n",
       "        </tr>\n",
       "        <tr>\n",
       "            <td>39.362  </td> <td>-121.355 </td> <td>331.4     </td> <td>2017-10-09</td>\n",
       "        </tr>\n",
       "        <tr>\n",
       "            <td>39.4163 </td> <td>-121.358 </td> <td>331.4     </td> <td>2017-10-09</td>\n",
       "        </tr>\n",
       "    </tbody>\n",
       "</table>\n",
       "<p>... (90 rows omitted)</p>"
      ],
      "text/plain": [
       "latitude | longitude | bright_ti4 | acq_date\n",
       "38.3503  | -122.323  | 331.4      | 2018-04-03\n",
       "38.4058  | -122.319  | 331.4      | 2017-10-09\n",
       "38.4127  | -122.278  | 331.4      | 2017-10-09\n",
       "34.3841  | -119.431  | 331.4      | 2017-12-08\n",
       "36.983   | -120.42   | 331.4      | 2018-02-15\n",
       "37.1733  | -120.34   | 331.4      | 2017-11-28\n",
       "36.8601  | -120.288  | 331.4      | 2018-01-19\n",
       "39.1788  | -120.592  | 331.4      | 2017-11-07\n",
       "39.362   | -121.355  | 331.4      | 2017-10-09\n",
       "39.4163  | -121.358  | 331.4      | 2017-10-09\n",
       "... (90 rows omitted)"
      ]
     },
     "execution_count": 86,
     "metadata": {},
     "output_type": "execute_result"
    }
   ],
   "source": [
    "mid1718=data1718.take(range((16285-50),(16285+50))) #take two above and two below median to get \"middle 50 brightest\"\n",
    "mid1718"
   ]
  },
  {
   "cell_type": "code",
   "execution_count": 87,
   "metadata": {},
   "outputs": [],
   "source": [
    "lats1718=np.append(np.append(bright1718.column(0),(mid1718.column(0))), dim1718.column(0))\n",
    "longs1718=np.append(np.append(bright1718.column(1),(mid1718.column(1))), dim1718.column(1))\n",
    "brights1718=np.append(np.append(bright1718.column(2),(mid1718.column(2))), dim1718.column(2))\n",
    "dates1718=np.append(np.append(bright1718.column(3),(mid1718.column(3))), dim1718.column(3))"
   ]
  },
  {
   "cell_type": "code",
   "execution_count": 88,
   "metadata": {},
   "outputs": [],
   "source": [
    "filtered1718=Table().with_columns(\n",
    "        'latitude', lats1718,\n",
    "        'longitude', longs1718,\n",
    "        'brightness', brights1718,\n",
    "        'acq_date', dates1718\n",
    "        )"
   ]
  },
  {
   "cell_type": "code",
   "execution_count": 90,
   "metadata": {},
   "outputs": [],
   "source": [
    "labels1718=labels(filtered1718.column('brightness'),filtered1718.column('acq_date'))"
   ]
  },
  {
   "cell_type": "code",
   "execution_count": 95,
   "metadata": {},
   "outputs": [],
   "source": [
    "limits1718=[(0,100),(100,200),(200,300)]\n",
    "legendlabels=['Bright','Moderate', 'Dim']\n",
    "fires1718=[] \n",
    "for i in range(len(limits1718)): \n",
    "    group=filtered1718.take(range(limits1718[i][0], limits1718[i][1])) #i.e: in the first iteration, we are taking the top 100 rows (the brightest) \n",
    "    fire=dict(\n",
    "        type = 'scattergeo',\n",
    "        locationmode = 'USA-states', \n",
    "        lon = group['longitude'],\n",
    "        lat = group['latitude'],\n",
    "        text= labels1718[range(limits1718[i][0], limits1718[i][1])], \n",
    "        marker=dict(\n",
    "                size=group['brightness']/20, \n",
    "                color=colors[i], \n",
    "                line = dict(width=0.5, color='rgb(40,40,40)'), #the outline of each bubble \n",
    "                sizemode='diameter'\n",
    "                ), \n",
    "        name=legendlabels[i]) \n",
    "    fires1718.append(fire)"
   ]
  },
  {
   "cell_type": "code",
   "execution_count": 96,
   "metadata": {},
   "outputs": [
    {
     "data": {
      "text/html": [
       "<iframe id=\"igraph\" scrolling=\"no\" style=\"border:none;\" seamless=\"seamless\" src=\"https://plot.ly/~winifredc123/16.embed\" height=\"525px\" width=\"100%\"></iframe>"
      ],
      "text/plain": [
       "<plotly.tools.PlotlyDisplay object>"
      ]
     },
     "execution_count": 96,
     "metadata": {},
     "output_type": "execute_result"
    }
   ],
   "source": [
    "layout1718=dict(\n",
    "        title='Range of Wildfire Brightnesses in California from 10/01/2017 to 04/30/2018',\n",
    "        showlegend=True,\n",
    "        opacity=0.7,\n",
    "        geo = dict(\n",
    "            projection=dict( type='albers usa'), \n",
    "            center=dict(lon=-119.4179, lat=36.7783), \n",
    "            showland = True,\n",
    "            landcolor = 'rgb(64,64,64)',\n",
    "            subunitwidth=1,\n",
    "            countrywidth=1,\n",
    "            subunitcolor=\"rgb(255, 255, 255)\",\n",
    "            countrycolor=\"rgb(255, 255, 255)\"\n",
    "        ),\n",
    "    )\n",
    "fig = dict(data=fires1718, layout=layout1718)\n",
    "py.iplot(fig, validate=False, filename='FIRMS1718-bubble-map') "
   ]
  },
  {
   "cell_type": "markdown",
   "metadata": {},
   "source": [
    "<img src = \"../images/thirdplot.PNG\">"
   ]
  },
  {
   "cell_type": "markdown",
   "metadata": {},
   "source": [
    "# Conclusion \n",
    "It was quite an experience learning how to translate data that I found on Google Earth Engine into a visual representation using Plotly. Plotly was quite difficult to figure out at first, but I was able to make a few tweaks that improved the graph a bit. It was interesting to see how a majority of wildfires occurred around Central California. Additionally, the majority of the worst fires during the 2017-18 wildfire season occurred in Northern California. \n",
    "\n",
    "There are still a few things I'd like to tweak in this project. I spent a while trying to figure out how to get a gradient scale in the legend to see just how much brightness varies among these fires, but was unable to find a way. There are also multiple data points that represent the same fires, except the data were recorded on different days. It would be helpful to clean the data a bit more to ensure there are no repetitive points. This would also clean up the visual aspect of the map. \n",
    "\n",
    "Overall, I was glad to have learned more about data visualization and the Plotly Python Library. Familiarizing myself with all the methods will definitely be helpful for future data exploration. I was also surprised by the amount of fire data there are on the internet, and I'm glad that Google Earth Engine provides an easy way to discover such datasets. "
   ]
  }
 ],
 "metadata": {
  "kernelspec": {
   "display_name": "Python 3",
   "language": "python",
   "name": "python3"
  },
  "language_info": {
   "codemirror_mode": {
    "name": "ipython",
    "version": 3
   },
   "file_extension": ".py",
   "mimetype": "text/x-python",
   "name": "python",
   "nbconvert_exporter": "python",
   "pygments_lexer": "ipython3",
   "version": "3.6.4"
  }
 },
 "nbformat": 4,
 "nbformat_minor": 2
}
