{
 "cells": [
  {
   "cell_type": "markdown",
   "metadata": {},
   "source": [
    "# Plotting Fire Data on a Bubble Map "
   ]
  },
  {
   "cell_type": "markdown",
   "metadata": {},
   "source": [
    "## Using Plotly for Python \n",
    "\n",
    "[Plotly](https://plot.ly/#/) has a [Python library](https://plot.ly/python/) that allows you to create interactive data visualizations online, such as line plots, scatter maps, heatmaps, and 3D network graphs. In this tutorial, we will create a bubble map that visualizes wildfire data in California (based on the FIRMS data we acquired). \n",
    "\n",
    "Follow the [Getting Started](https://plot.ly/python/getting-started/) tutorial to set up the Plotly.py library. Once that is done, let's import some libraries that we will use in this tutorial:"
   ]
  },
  {
   "cell_type": "code",
   "execution_count": 1,
   "metadata": {},
   "outputs": [],
   "source": [
    "import plotly.plotly as py\n",
    "#import pandas as pd\n",
    "from datascience import *\n",
    "import numpy as np"
   ]
  },
  {
   "cell_type": "markdown",
   "metadata": {},
   "source": [
    "Our FIRMS dataset is quite big, so let's narrow it down to just a few points on the map. I'd like to plot the 4 brightest, 4 most \"mediocre\"ly bright, and 4 dimmest wildfires in the dataset. \n",
    "\n",
    "First, let's load the .csv file into a table:"
   ]
  },
  {
   "cell_type": "code",
   "execution_count": 4,
   "metadata": {},
   "outputs": [
    {
     "data": {
      "text/html": [
       "<table border=\"1\" class=\"dataframe\">\n",
       "    <thead>\n",
       "        <tr>\n",
       "            <th>latitude</th> <th>longitude</th> <th>brightness</th> <th>scan</th> <th>track</th> <th>acq_date</th> <th>acq_time</th> <th>satellite</th> <th>instrument</th> <th>confidence</th> <th>version</th> <th>bright_t31</th> <th>frp</th> <th>type</th>\n",
       "        </tr>\n",
       "    </thead>\n",
       "    <tbody>\n",
       "        <tr>\n",
       "            <td>36.234  </td> <td>-118.43  </td> <td>321.9     </td> <td>1   </td> <td>1    </td> <td>2017-10-07</td> <td>1845    </td> <td>Terra    </td> <td>MODIS     </td> <td>44        </td> <td>6.1    </td> <td>302.5     </td> <td>14.5 </td> <td>0   </td>\n",
       "        </tr>\n",
       "        <tr>\n",
       "            <td>36.258  </td> <td>-118.421 </td> <td>319.4     </td> <td>4.7 </td> <td>2    </td> <td>2017-10-15</td> <td>1756    </td> <td>Terra    </td> <td>MODIS     </td> <td>72        </td> <td>6.1    </td> <td>294.9     </td> <td>138.7</td> <td>0   </td>\n",
       "        </tr>\n",
       "        <tr>\n",
       "            <td>36.259  </td> <td>-118.425 </td> <td>318.2     </td> <td>4.7 </td> <td>2    </td> <td>2017-10-15</td> <td>1756    </td> <td>Terra    </td> <td>MODIS     </td> <td>44        </td> <td>6.1    </td> <td>294.4     </td> <td>118.3</td> <td>0   </td>\n",
       "        </tr>\n",
       "        <tr>\n",
       "            <td>36.256  </td> <td>-118.42  </td> <td>345.1     </td> <td>1.1 </td> <td>1    </td> <td>2017-10-15</td> <td>2112    </td> <td>Aqua     </td> <td>MODIS     </td> <td>92        </td> <td>6.1    </td> <td>298.3     </td> <td>50   </td> <td>0   </td>\n",
       "        </tr>\n",
       "        <tr>\n",
       "            <td>36.272  </td> <td>-118.429 </td> <td>326.3     </td> <td>1.1 </td> <td>1    </td> <td>2017-10-16</td> <td>1839    </td> <td>Terra    </td> <td>MODIS     </td> <td>71        </td> <td>6.1    </td> <td>293       </td> <td>23.1 </td> <td>0   </td>\n",
       "        </tr>\n",
       "        <tr>\n",
       "            <td>36.271  </td> <td>-118.418 </td> <td>331.1     </td> <td>1.1 </td> <td>1    </td> <td>2017-10-16</td> <td>1839    </td> <td>Terra    </td> <td>MODIS     </td> <td>83        </td> <td>6.1    </td> <td>292.7     </td> <td>29.9 </td> <td>0   </td>\n",
       "        </tr>\n",
       "        <tr>\n",
       "            <td>36.255  </td> <td>-118.412 </td> <td>300       </td> <td>3   </td> <td>1.6  </td> <td>2017-10-16</td> <td>913     </td> <td>Aqua     </td> <td>MODIS     </td> <td>5         </td> <td>6.1    </td> <td>281.5     </td> <td>31.6 </td> <td>0   </td>\n",
       "        </tr>\n",
       "        <tr>\n",
       "            <td>36.256  </td> <td>-118.428 </td> <td>327       </td> <td>4   </td> <td>1.9  </td> <td>2017-10-16</td> <td>2017    </td> <td>Aqua     </td> <td>MODIS     </td> <td>77        </td> <td>6.1    </td> <td>278.8     </td> <td>192.8</td> <td>0   </td>\n",
       "        </tr>\n",
       "        <tr>\n",
       "            <td>36.253  </td> <td>-118.428 </td> <td>330.3     </td> <td>1.4 </td> <td>1.2  </td> <td>2017-10-17</td> <td>542     </td> <td>Terra    </td> <td>MODIS     </td> <td>100       </td> <td>6.1    </td> <td>281.1     </td> <td>49.7 </td> <td>0   </td>\n",
       "        </tr>\n",
       "        <tr>\n",
       "            <td>36.412  </td> <td>-119.232 </td> <td>339.2     </td> <td>1.7 </td> <td>1.3  </td> <td>2017-09-08</td> <td>1916    </td> <td>Terra    </td> <td>MODIS     </td> <td>87        </td> <td>6.1    </td> <td>302.5     </td> <td>73.2 </td> <td>0   </td>\n",
       "        </tr>\n",
       "    </tbody>\n",
       "</table>\n",
       "<p>... (6043 rows omitted)</p>"
      ],
      "text/plain": [
       "latitude | longitude | brightness | scan | track | acq_date   | acq_time | satellite | instrument | confidence | version | bright_t31 | frp   | type\n",
       "36.234   | -118.43   | 321.9      | 1    | 1     | 2017-10-07 | 1845     | Terra     | MODIS      | 44         | 6.1     | 302.5      | 14.5  | 0\n",
       "36.258   | -118.421  | 319.4      | 4.7  | 2     | 2017-10-15 | 1756     | Terra     | MODIS      | 72         | 6.1     | 294.9      | 138.7 | 0\n",
       "36.259   | -118.425  | 318.2      | 4.7  | 2     | 2017-10-15 | 1756     | Terra     | MODIS      | 44         | 6.1     | 294.4      | 118.3 | 0\n",
       "36.256   | -118.42   | 345.1      | 1.1  | 1     | 2017-10-15 | 2112     | Aqua      | MODIS      | 92         | 6.1     | 298.3      | 50    | 0\n",
       "36.272   | -118.429  | 326.3      | 1.1  | 1     | 2017-10-16 | 1839     | Terra     | MODIS      | 71         | 6.1     | 293        | 23.1  | 0\n",
       "36.271   | -118.418  | 331.1      | 1.1  | 1     | 2017-10-16 | 1839     | Terra     | MODIS      | 83         | 6.1     | 292.7      | 29.9  | 0\n",
       "36.255   | -118.412  | 300        | 3    | 1.6   | 2017-10-16 | 913      | Aqua      | MODIS      | 5          | 6.1     | 281.5      | 31.6  | 0\n",
       "36.256   | -118.428  | 327        | 4    | 1.9   | 2017-10-16 | 2017     | Aqua      | MODIS      | 77         | 6.1     | 278.8      | 192.8 | 0\n",
       "36.253   | -118.428  | 330.3      | 1.4  | 1.2   | 2017-10-17 | 542      | Terra     | MODIS      | 100        | 6.1     | 281.1      | 49.7  | 0\n",
       "36.412   | -119.232  | 339.2      | 1.7  | 1.3   | 2017-09-08 | 1916     | Terra     | MODIS      | 87         | 6.1     | 302.5      | 73.2  | 0\n",
       "... (6043 rows omitted)"
      ]
     },
     "execution_count": 4,
     "metadata": {},
     "output_type": "execute_result"
    }
   ],
   "source": [
    "data=Table().read_table('~/URAP/google_earth_fires/data/SoCal_fires.csv') #from https://github.com/jupyterhub/jupyterhub/issues/376\n",
    "data"
   ]
  },
  {
   "cell_type": "markdown",
   "metadata": {},
   "source": [
    "## Filtering the data"
   ]
  },
  {
   "cell_type": "markdown",
   "metadata": {},
   "source": [
    "Now, let's select our columns of interest. For the purposes of this tutorial, we care about the latitude, longitude, brightness, and dates of our data."
   ]
  },
  {
   "cell_type": "code",
   "execution_count": 47,
   "metadata": {},
   "outputs": [
    {
     "data": {
      "text/html": [
       "<table border=\"1\" class=\"dataframe\">\n",
       "    <thead>\n",
       "        <tr>\n",
       "            <th>latitude</th> <th>longitude</th> <th>brightness</th> <th>acq_date</th>\n",
       "        </tr>\n",
       "    </thead>\n",
       "    <tbody>\n",
       "        <tr>\n",
       "            <td>36.234  </td> <td>-118.43  </td> <td>321.9     </td> <td>2017-10-07</td>\n",
       "        </tr>\n",
       "        <tr>\n",
       "            <td>36.258  </td> <td>-118.421 </td> <td>319.4     </td> <td>2017-10-15</td>\n",
       "        </tr>\n",
       "        <tr>\n",
       "            <td>36.259  </td> <td>-118.425 </td> <td>318.2     </td> <td>2017-10-15</td>\n",
       "        </tr>\n",
       "        <tr>\n",
       "            <td>36.256  </td> <td>-118.42  </td> <td>345.1     </td> <td>2017-10-15</td>\n",
       "        </tr>\n",
       "        <tr>\n",
       "            <td>36.272  </td> <td>-118.429 </td> <td>326.3     </td> <td>2017-10-16</td>\n",
       "        </tr>\n",
       "        <tr>\n",
       "            <td>36.271  </td> <td>-118.418 </td> <td>331.1     </td> <td>2017-10-16</td>\n",
       "        </tr>\n",
       "        <tr>\n",
       "            <td>36.255  </td> <td>-118.412 </td> <td>300       </td> <td>2017-10-16</td>\n",
       "        </tr>\n",
       "        <tr>\n",
       "            <td>36.256  </td> <td>-118.428 </td> <td>327       </td> <td>2017-10-16</td>\n",
       "        </tr>\n",
       "        <tr>\n",
       "            <td>36.253  </td> <td>-118.428 </td> <td>330.3     </td> <td>2017-10-17</td>\n",
       "        </tr>\n",
       "        <tr>\n",
       "            <td>36.412  </td> <td>-119.232 </td> <td>339.2     </td> <td>2017-09-08</td>\n",
       "        </tr>\n",
       "    </tbody>\n",
       "</table>\n",
       "<p>... (6043 rows omitted)</p>"
      ],
      "text/plain": [
       "latitude | longitude | brightness | acq_date\n",
       "36.234   | -118.43   | 321.9      | 2017-10-07\n",
       "36.258   | -118.421  | 319.4      | 2017-10-15\n",
       "36.259   | -118.425  | 318.2      | 2017-10-15\n",
       "36.256   | -118.42   | 345.1      | 2017-10-15\n",
       "36.272   | -118.429  | 326.3      | 2017-10-16\n",
       "36.271   | -118.418  | 331.1      | 2017-10-16\n",
       "36.255   | -118.412  | 300        | 2017-10-16\n",
       "36.256   | -118.428  | 327        | 2017-10-16\n",
       "36.253   | -118.428  | 330.3      | 2017-10-17\n",
       "36.412   | -119.232  | 339.2      | 2017-09-08\n",
       "... (6043 rows omitted)"
      ]
     },
     "execution_count": 47,
     "metadata": {},
     "output_type": "execute_result"
    }
   ],
   "source": [
    "py_data=data.select(0,1,2,5) #get the columns you want\n",
    "py_data"
   ]
  },
  {
   "cell_type": "markdown",
   "metadata": {},
   "source": [
    "Next, let's find the top 5 brightest fires in our data. To do this, we can sort the brightness from brightest to dimmest, and use the numpy.take method to grab the first 5 rows. You will also do the same thing to find the 5 dimmest fires, except you will sort from dimmest to brightest."
   ]
  },
  {
   "cell_type": "code",
   "execution_count": 6,
   "metadata": {},
   "outputs": [
    {
     "data": {
      "text/html": [
       "<table border=\"1\" class=\"dataframe\">\n",
       "    <thead>\n",
       "        <tr>\n",
       "            <th>latitude</th> <th>longitude</th> <th>brightness</th> <th>acq_date</th>\n",
       "        </tr>\n",
       "    </thead>\n",
       "    <tbody>\n",
       "        <tr>\n",
       "            <td>34.466  </td> <td>-119.078 </td> <td>504       </td> <td>2017-12-06</td>\n",
       "        </tr>\n",
       "        <tr>\n",
       "            <td>34.47   </td> <td>-119.652 </td> <td>503.7     </td> <td>2017-12-16</td>\n",
       "        </tr>\n",
       "        <tr>\n",
       "            <td>34.549  </td> <td>-119.35  </td> <td>502.4     </td> <td>2017-12-11</td>\n",
       "        </tr>\n",
       "        <tr>\n",
       "            <td>34.415  </td> <td>-119.41  </td> <td>502.3     </td> <td>2017-12-10</td>\n",
       "        </tr>\n",
       "        <tr>\n",
       "            <td>34.477  </td> <td>-119.079 </td> <td>501.9     </td> <td>2017-12-06</td>\n",
       "        </tr>\n",
       "    </tbody>\n",
       "</table>"
      ],
      "text/plain": [
       "latitude | longitude | brightness | acq_date\n",
       "34.466   | -119.078  | 504        | 2017-12-06\n",
       "34.47    | -119.652  | 503.7      | 2017-12-16\n",
       "34.549   | -119.35   | 502.4      | 2017-12-11\n",
       "34.415   | -119.41   | 502.3      | 2017-12-10\n",
       "34.477   | -119.079  | 501.9      | 2017-12-06"
      ]
     },
     "execution_count": 6,
     "metadata": {},
     "output_type": "execute_result"
    }
   ],
   "source": [
    "brightest=py_data.sort('brightness', descending=True).take(range(0,5))\n",
    "brightest"
   ]
  },
  {
   "cell_type": "code",
   "execution_count": 7,
   "metadata": {},
   "outputs": [
    {
     "data": {
      "text/html": [
       "<table border=\"1\" class=\"dataframe\">\n",
       "    <thead>\n",
       "        <tr>\n",
       "            <th>latitude</th> <th>longitude</th> <th>brightness</th> <th>acq_date</th>\n",
       "        </tr>\n",
       "    </thead>\n",
       "    <tbody>\n",
       "        <tr>\n",
       "            <td>36.255  </td> <td>-118.412 </td> <td>300       </td> <td>2017-10-16</td>\n",
       "        </tr>\n",
       "        <tr>\n",
       "            <td>34.339  </td> <td>-118.32  </td> <td>300       </td> <td>2017-12-06</td>\n",
       "        </tr>\n",
       "        <tr>\n",
       "            <td>37.681  </td> <td>-119.592 </td> <td>300       </td> <td>2017-10-08</td>\n",
       "        </tr>\n",
       "        <tr>\n",
       "            <td>37.212  </td> <td>-119.418 </td> <td>300       </td> <td>2017-12-06</td>\n",
       "        </tr>\n",
       "        <tr>\n",
       "            <td>36.693  </td> <td>-119.7   </td> <td>300       </td> <td>2018-01-26</td>\n",
       "        </tr>\n",
       "    </tbody>\n",
       "</table>"
      ],
      "text/plain": [
       "latitude | longitude | brightness | acq_date\n",
       "36.255   | -118.412  | 300        | 2017-10-16\n",
       "34.339   | -118.32   | 300        | 2017-12-06\n",
       "37.681   | -119.592  | 300        | 2017-10-08\n",
       "37.212   | -119.418  | 300        | 2017-12-06\n",
       "36.693   | -119.7    | 300        | 2018-01-26"
      ]
     },
     "execution_count": 7,
     "metadata": {},
     "output_type": "execute_result"
    }
   ],
   "source": [
    "dimmest=py_data.sort('brightness',descending=False).take(range(0,5))\n",
    "dimmest"
   ]
  },
  {
   "cell_type": "markdown",
   "metadata": {},
   "source": [
    "Finding the middle 5 fires will take a bit more work. First, we will find the median of our brightness values. Then, we will find the index of table in which the median is located. Finally, we will want to take the two rows above the median and the two rows below the median to get the middle 5 of the table. "
   ]
  },
  {
   "cell_type": "code",
   "execution_count": 8,
   "metadata": {},
   "outputs": [],
   "source": [
    "bright_col=py_data.column('brightness') #the brightness column of our data\n",
    "medium=np.median(bright_col) #find median of brightnesses\n",
    "list(bright_col).index(medium) #find index of median\n",
    "middle=py_data.take(range((659-2),(659+3))) #take two above and two below median to get \"middle 5 brightest\""
   ]
  },
  {
   "cell_type": "code",
   "execution_count": 39,
   "metadata": {},
   "outputs": [
    {
     "data": {
      "text/html": [
       "<table border=\"1\" class=\"dataframe\">\n",
       "    <thead>\n",
       "        <tr>\n",
       "            <th>latitude</th> <th>longitude</th> <th>brightness</th> <th>acq_date</th>\n",
       "        </tr>\n",
       "    </thead>\n",
       "    <tbody>\n",
       "        <tr>\n",
       "            <td>37.562  </td> <td>-119.142 </td> <td>333       </td> <td>2018-06-25</td>\n",
       "        </tr>\n",
       "        <tr>\n",
       "            <td>37.56   </td> <td>-119.13  </td> <td>348.3     </td> <td>2018-06-25</td>\n",
       "        </tr>\n",
       "        <tr>\n",
       "            <td>37.557  </td> <td>-119.116 </td> <td>357.1     </td> <td>2018-06-25</td>\n",
       "        </tr>\n",
       "        <tr>\n",
       "            <td>37.552  </td> <td>-119.144 </td> <td>349.9     </td> <td>2018-06-25</td>\n",
       "        </tr>\n",
       "        <tr>\n",
       "            <td>37.55   </td> <td>-119.13  </td> <td>332.7     </td> <td>2018-06-25</td>\n",
       "        </tr>\n",
       "    </tbody>\n",
       "</table>"
      ],
      "text/plain": [
       "latitude | longitude | brightness | acq_date\n",
       "37.562   | -119.142  | 333        | 2018-06-25\n",
       "37.56    | -119.13   | 348.3      | 2018-06-25\n",
       "37.557   | -119.116  | 357.1      | 2018-06-25\n",
       "37.552   | -119.144  | 349.9      | 2018-06-25\n",
       "37.55    | -119.13   | 332.7      | 2018-06-25"
      ]
     },
     "execution_count": 39,
     "metadata": {},
     "output_type": "execute_result"
    }
   ],
   "source": [
    "middle"
   ]
  },
  {
   "cell_type": "markdown",
   "metadata": {},
   "source": [
    "Now, it's time to concatenate all our data! I am going to create arrays for each variable that we are interested in, using data from our \"brightest\", \"middle\", and \"dimmest\" tables."
   ]
  },
  {
   "cell_type": "code",
   "execution_count": 9,
   "metadata": {},
   "outputs": [],
   "source": [
    "lats=np.append(np.append(brightest.column(0),(middle.column(0))), dimmest.column(0))\n",
    "longs=np.append(np.append(brightest.column(1),(middle.column(1))), dimmest.column(1))\n",
    "brights=np.append(np.append(brightest.column(2),(middle.column(2))), dimmest.column(2))\n",
    "dates=np.append(np.append(brightest.column(3),(middle.column(3))), dimmest.column(3))"
   ]
  },
  {
   "cell_type": "markdown",
   "metadata": {},
   "source": [
    "Now, let's create a new table with columns for these variables! This table will contain the latitude, longitude, brightness, and dates of the top 5 brightest, middle 5, and 5 dimmest fire data. "
   ]
  },
  {
   "cell_type": "code",
   "execution_count": 10,
   "metadata": {},
   "outputs": [
    {
     "data": {
      "text/html": [
       "<table border=\"1\" class=\"dataframe\">\n",
       "    <thead>\n",
       "        <tr>\n",
       "            <th>latitude</th> <th>longitude</th> <th>brightness</th> <th>acq_date</th>\n",
       "        </tr>\n",
       "    </thead>\n",
       "    <tbody>\n",
       "        <tr>\n",
       "            <td>34.466  </td> <td>-119.078 </td> <td>504       </td> <td>2017-12-06</td>\n",
       "        </tr>\n",
       "        <tr>\n",
       "            <td>34.47   </td> <td>-119.652 </td> <td>503.7     </td> <td>2017-12-16</td>\n",
       "        </tr>\n",
       "        <tr>\n",
       "            <td>34.549  </td> <td>-119.35  </td> <td>502.4     </td> <td>2017-12-11</td>\n",
       "        </tr>\n",
       "        <tr>\n",
       "            <td>34.415  </td> <td>-119.41  </td> <td>502.3     </td> <td>2017-12-10</td>\n",
       "        </tr>\n",
       "        <tr>\n",
       "            <td>34.477  </td> <td>-119.079 </td> <td>501.9     </td> <td>2017-12-06</td>\n",
       "        </tr>\n",
       "        <tr>\n",
       "            <td>37.562  </td> <td>-119.142 </td> <td>333       </td> <td>2018-06-25</td>\n",
       "        </tr>\n",
       "        <tr>\n",
       "            <td>37.56   </td> <td>-119.13  </td> <td>348.3     </td> <td>2018-06-25</td>\n",
       "        </tr>\n",
       "        <tr>\n",
       "            <td>37.557  </td> <td>-119.116 </td> <td>357.1     </td> <td>2018-06-25</td>\n",
       "        </tr>\n",
       "        <tr>\n",
       "            <td>37.552  </td> <td>-119.144 </td> <td>349.9     </td> <td>2018-06-25</td>\n",
       "        </tr>\n",
       "        <tr>\n",
       "            <td>37.55   </td> <td>-119.13  </td> <td>332.7     </td> <td>2018-06-25</td>\n",
       "        </tr>\n",
       "    </tbody>\n",
       "</table>\n",
       "<p>... (5 rows omitted)</p>"
      ],
      "text/plain": [
       "latitude | longitude | brightness | acq_date\n",
       "34.466   | -119.078  | 504        | 2017-12-06\n",
       "34.47    | -119.652  | 503.7      | 2017-12-16\n",
       "34.549   | -119.35   | 502.4      | 2017-12-11\n",
       "34.415   | -119.41   | 502.3      | 2017-12-10\n",
       "34.477   | -119.079  | 501.9      | 2017-12-06\n",
       "37.562   | -119.142  | 333        | 2018-06-25\n",
       "37.56    | -119.13   | 348.3      | 2018-06-25\n",
       "37.557   | -119.116  | 357.1      | 2018-06-25\n",
       "37.552   | -119.144  | 349.9      | 2018-06-25\n",
       "37.55    | -119.13   | 332.7      | 2018-06-25\n",
       "... (5 rows omitted)"
      ]
     },
     "execution_count": 10,
     "metadata": {},
     "output_type": "execute_result"
    }
   ],
   "source": [
    "filtered_data=Table().with_columns(\n",
    "        'latitude', lats,\n",
    "        'longitude', longs,\n",
    "        'brightness', brights,\n",
    "        'acq_date', dates\n",
    "        )\n",
    "filtered_data"
   ]
  },
  {
   "cell_type": "markdown",
   "metadata": {},
   "source": [
    "## Plotting the data"
   ]
  },
  {
   "cell_type": "markdown",
   "metadata": {},
   "source": [
    "Here's where things get a bit tricky. Ultimately, we would like to plot a figure with a specific set of data and a specific layout. Plotly has many attributes to help us accomplish our goal, but how do we know which ones to use? Luckily, Plotly has a [figure reference!](https://plot.ly/python/reference/)"
   ]
  },
  {
   "cell_type": "markdown",
   "metadata": {},
   "source": [
    "Let's initialize our data first. We want to have different-colored bubbles on our bubble map so that we can differentiate between the three levels of brightness. Let's create a list of colors to choose from, using their RGB values: "
   ]
  },
  {
   "cell_type": "code",
   "execution_count": null,
   "metadata": {},
   "outputs": [],
   "source": [
    "colors = [\"rgb(255,0,0)\", \"rgb(255,128,0)\", \"rgb(255,255,0)\"] #red, orange, yellow"
   ]
  },
  {
   "cell_type": "markdown",
   "metadata": {},
   "source": [
    "Next, we'll create a list called limits. Limits contains three elements, and each element contains the beginning index and ending index of a brightness level. This list will allow us to map certain attributes to a specific range of data. For example, if we assign the first element of [colors] to the first element in [limits], the 5 brightest fires will appear as red bubbles on the map."
   ]
  },
  {
   "cell_type": "code",
   "execution_count": 1,
   "metadata": {},
   "outputs": [],
   "source": [
    "limits=[(0,5),(5,10),(10,15)] #we are grouping by brightness, where first five (0,5) are brightest, second group of five (5,10) are medium, etc."
   ]
  },
  {
   "cell_type": "markdown",
   "metadata": {},
   "source": [
    "Now, it's time to create a list that contains all the information that we want to represent on the map. We'll call this list \"fires.\" In the end, we want this list to hold three dictionaries (one for each brightness level). \n",
    "\n",
    "Since we have three brightness levels, we want to assign specific attributes to each of them. To do this, we will iterature through each of the groups and create a dictionary of attributes for each. If you are unclear about these attributes, refer to the [figure reference!](https://plot.ly/python/reference/)."
   ]
  },
  {
   "cell_type": "code",
   "execution_count": 2,
   "metadata": {},
   "outputs": [
    {
     "ename": "NameError",
     "evalue": "name 'limits' is not defined",
     "output_type": "error",
     "traceback": [
      "\u001b[1;31m---------------------------------------------------------------------------\u001b[0m",
      "\u001b[1;31mNameError\u001b[0m                                 Traceback (most recent call last)",
      "\u001b[1;32m<ipython-input-2-3e12c30fc2b1>\u001b[0m in \u001b[0;36m<module>\u001b[1;34m()\u001b[0m\n\u001b[0;32m      4\u001b[0m \u001b[1;33m\u001b[0m\u001b[0m\n\u001b[0;32m      5\u001b[0m \u001b[0mfires\u001b[0m\u001b[1;33m=\u001b[0m\u001b[1;33m[\u001b[0m\u001b[1;33m]\u001b[0m \u001b[1;31m#the data that we want to represent on the map\u001b[0m\u001b[1;33m\u001b[0m\u001b[0m\n\u001b[1;32m----> 6\u001b[1;33m \u001b[1;32mfor\u001b[0m \u001b[0mi\u001b[0m \u001b[1;32min\u001b[0m \u001b[0mrange\u001b[0m\u001b[1;33m(\u001b[0m\u001b[0mlen\u001b[0m\u001b[1;33m(\u001b[0m\u001b[0mlimits\u001b[0m\u001b[1;33m)\u001b[0m\u001b[1;33m)\u001b[0m\u001b[1;33m:\u001b[0m \u001b[1;31m#we want to iterate 3 times\u001b[0m\u001b[1;33m\u001b[0m\u001b[0m\n\u001b[0m\u001b[0;32m      7\u001b[0m     \u001b[0mgroup\u001b[0m\u001b[1;33m=\u001b[0m\u001b[0mfiltered_data\u001b[0m\u001b[1;33m.\u001b[0m\u001b[0mtake\u001b[0m\u001b[1;33m(\u001b[0m\u001b[0mrange\u001b[0m\u001b[1;33m(\u001b[0m\u001b[0mlimits\u001b[0m\u001b[1;33m[\u001b[0m\u001b[0mi\u001b[0m\u001b[1;33m]\u001b[0m\u001b[1;33m[\u001b[0m\u001b[1;36m0\u001b[0m\u001b[1;33m]\u001b[0m\u001b[1;33m,\u001b[0m \u001b[0mlimits\u001b[0m\u001b[1;33m[\u001b[0m\u001b[0mi\u001b[0m\u001b[1;33m]\u001b[0m\u001b[1;33m[\u001b[0m\u001b[1;36m1\u001b[0m\u001b[1;33m]\u001b[0m\u001b[1;33m)\u001b[0m\u001b[1;33m)\u001b[0m \u001b[1;31m#i.e: in the first iteration, we are taking the top 5 rows (the brightest)\u001b[0m\u001b[1;33m\u001b[0m\u001b[0m\n\u001b[0;32m      8\u001b[0m     fire=dict(\n",
      "\u001b[1;31mNameError\u001b[0m: name 'limits' is not defined"
     ]
    }
   ],
   "source": [
    "\n",
    "#colors = [\"rgb(255,0,0)\", \"rgb(255,128,0)\", \"rgb(255,255,0)\"] #red, orange, yellow\n",
    "#limits=[(0,5),(5,10),(10,15)] #we are grouping by brightness, where first five (0,5) are brightest, second group of five (5,10) are medium, etc.\n",
    "\n",
    "fires=[] #the data that we want to represent on the map\n",
    "for i in range(len(limits)): #we want to iterate 3 times \n",
    "    group=filtered_data.take(range(limits[i][0], limits[i][1])) #i.e: in the first iteration, we are taking the top 5 rows (the brightest) \n",
    "    fire=dict(\n",
    "        type = 'scattergeo', #the type of figure we want to create \n",
    "        locationmode = 'USA-states', \n",
    "        lon = group['longitude'],\n",
    "        lat = group['latitude'],\n",
    "        location=['California'], #this doesn't do anything\n",
    "        #text = three_sub['text'],\n",
    "        marker=dict(\n",
    "                size=group['brightness'].item(0)/20, #scale the size of the bubble; our bubble size is based on the brightness \n",
    "                color=colors[i], #the color of the bubbles in this group \n",
    "                line = dict(width=0.5, color='rgb(40,40,40)'), \n",
    "                sizemode='diameter'\n",
    "                ), #sets the properties of the bubbles \n",
    "        name='{0}-{1}'.format(limits[i][0], limits[i][1])) #legend labels\n",
    "    fires.append(fire)"
   ]
  },
  {
   "cell_type": "markdown",
   "metadata": {},
   "source": [
    "Let's see what our \"fires\" dictionary looks like: "
   ]
  },
  {
   "cell_type": "code",
   "execution_count": 43,
   "metadata": {},
   "outputs": [
    {
     "data": {
      "text/plain": [
       "[{'lat': array([34.466, 34.47 , 34.549, 34.415, 34.477]),\n",
       "  'location': ['California'],\n",
       "  'locationmode': 'USA-states',\n",
       "  'lon': array([-119.078, -119.652, -119.35 , -119.41 , -119.079]),\n",
       "  'marker': {'color': 'rgb(255,0,0)',\n",
       "   'line': {'color': 'rgb(40,40,40)', 'width': 0.5},\n",
       "   'size': 25.2,\n",
       "   'sizemode': 'diameter'},\n",
       "  'name': '0-5',\n",
       "  'type': 'scattergeo'},\n",
       " {'lat': array([37.562, 37.56 , 37.557, 37.552, 37.55 ]),\n",
       "  'location': ['California'],\n",
       "  'locationmode': 'USA-states',\n",
       "  'lon': array([-119.142, -119.13 , -119.116, -119.144, -119.13 ]),\n",
       "  'marker': {'color': 'rgb(255,128,0)',\n",
       "   'line': {'color': 'rgb(40,40,40)', 'width': 0.5},\n",
       "   'size': 16.65,\n",
       "   'sizemode': 'diameter'},\n",
       "  'name': '5-10',\n",
       "  'type': 'scattergeo'},\n",
       " {'lat': array([36.255, 34.339, 37.681, 37.212, 36.693]),\n",
       "  'location': ['California'],\n",
       "  'locationmode': 'USA-states',\n",
       "  'lon': array([-118.412, -118.32 , -119.592, -119.418, -119.7  ]),\n",
       "  'marker': {'color': 'rgb(255,255,0)',\n",
       "   'line': {'color': 'rgb(40,40,40)', 'width': 0.5},\n",
       "   'size': 15.0,\n",
       "   'sizemode': 'diameter'},\n",
       "  'name': '10-15',\n",
       "  'type': 'scattergeo'}]"
      ]
     },
     "execution_count": 43,
     "metadata": {},
     "output_type": "execute_result"
    }
   ],
   "source": [
    "fires"
   ]
  },
  {
   "cell_type": "markdown",
   "metadata": {},
   "source": [
    "Next, we will dictate what our figure layout should be. "
   ]
  },
  {
   "cell_type": "code",
   "execution_count": 44,
   "metadata": {},
   "outputs": [
    {
     "data": {
      "text/html": [
       "<iframe id=\"igraph\" scrolling=\"no\" style=\"border:none;\" seamless=\"seamless\" src=\"https://plot.ly/~winifredc123/8.embed\" height=\"525px\" width=\"100%\"></iframe>"
      ],
      "text/plain": [
       "<plotly.tools.PlotlyDisplay object>"
      ]
     },
     "execution_count": 44,
     "metadata": {},
     "output_type": "execute_result"
    }
   ],
   "source": [
    "layout=dict(\n",
    "        title='Range of Wildfire Brightnesses in Southern California from 09/01/2017 to 09/01/2018',\n",
    "        showlegend=True,\n",
    "        geo = dict(\n",
    "            scope='CA', #doesn't do anything??\n",
    "            projection=dict( type='albers usa'), #provides the gray USA map \n",
    "            center=dict(lon=-116.4194, lat=34.9592), #centers the map on the middle of SoCal when you first create the map\n",
    "            zoom=6, #Zoom factor of map when you create it \n",
    "            showland = True,\n",
    "            landcolor = 'rgb(217, 217, 217)',\n",
    "            subunitwidth=1,\n",
    "            countrywidth=1,\n",
    "            subunitcolor=\"rgb(255, 255, 255)\",\n",
    "            countrycolor=\"rgb(255, 255, 255)\"\n",
    "        ),\n",
    "    )\n",
    "fig = dict(data=fires, layout=layout) #our figure with fires data and the layout we want \n",
    "py.iplot(fig, validate=False, filename='SoCal-FIRMS-bubble-map') #plot the data! "
   ]
  },
  {
   "cell_type": "code",
   "execution_count": 16,
   "metadata": {},
   "outputs": [
    {
     "data": {
      "text/plain": [
       "array([36.082, 35.547, 36.297, 42.326, 39.603])"
      ]
     },
     "execution_count": 16,
     "metadata": {},
     "output_type": "execute_result"
    }
   ],
   "source": [
    "dimmest['latitude']"
   ]
  },
  {
   "cell_type": "code",
   "execution_count": 19,
   "metadata": {},
   "outputs": [
    {
     "data": {
      "text/plain": [
       "36.082"
      ]
     },
     "execution_count": 19,
     "metadata": {},
     "output_type": "execute_result"
    }
   ],
   "source": [
    "dimmest.take(0)['latitude'].item(0)"
   ]
  },
  {
   "cell_type": "markdown",
   "metadata": {},
   "source": [
    "-  figure out how to just get california\n",
    "-  Figure out label data w/ the date\n",
    "-  legend title?\n",
    "\n"
   ]
  },
  {
   "cell_type": "code",
   "execution_count": null,
   "metadata": {},
   "outputs": [],
   "source": []
  }
 ],
 "metadata": {
  "kernelspec": {
   "display_name": "Python 3",
   "language": "python",
   "name": "python3"
  },
  "language_info": {
   "codemirror_mode": {
    "name": "ipython",
    "version": 3
   },
   "file_extension": ".py",
   "mimetype": "text/x-python",
   "name": "python",
   "nbconvert_exporter": "python",
   "pygments_lexer": "ipython3",
   "version": "3.6.4"
  }
 },
 "nbformat": 4,
 "nbformat_minor": 2
}
