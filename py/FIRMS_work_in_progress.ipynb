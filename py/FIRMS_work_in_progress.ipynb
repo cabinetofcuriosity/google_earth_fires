{
 "cells": [
  {
   "cell_type": "markdown",
   "metadata": {},
   "source": [
    "# Plotting Fire Data on a Bubble Map "
   ]
  },
  {
   "cell_type": "markdown",
   "metadata": {},
   "source": [
    "## Using Plotly for Python \n",
    "\n",
    "[Plotly](https://plot.ly/#/) has a [Python library](https://plot.ly/python/) that allows you to create interactive data visualizations online, such as line plots, scatter maps, heatmaps, and 3D network graphs. In this tutorial, we will create a bubble map that visualizes wildfire data in California (based on the FIRMS data we acquired). \n",
    "\n",
    "Follow the [Getting Started](https://plot.ly/python/getting-started/) tutorial to set up the Plotly.py library. Once that is done, let's import some libraries that we will use in this tutorial:"
   ]
  },
  {
   "cell_type": "code",
   "execution_count": 2,
   "metadata": {},
   "outputs": [],
   "source": [
    "import plotly.plotly as py\n",
    "#import pandas as pd\n",
    "from datascience import *\n",
    "import numpy as np"
   ]
  },
  {
   "cell_type": "markdown",
   "metadata": {},
   "source": [
    "Our FIRMS dataset is quite big, so let's narrow it down to just a few points on the map. I'd like to plot the 4 brightest, 4 most \"mediocre\"ly bright, and 4 dimmest wildfires in the dataset. \n",
    "\n",
    "First, let's load the .csv file into a table:"
   ]
  },
  {
   "cell_type": "code",
   "execution_count": 2,
   "metadata": {},
   "outputs": [
    {
     "data": {
      "text/html": [
       "<table border=\"1\" class=\"dataframe\">\n",
       "    <thead>\n",
       "        <tr>\n",
       "            <th>latitude</th> <th>longitude</th> <th>brightness</th> <th>scan</th> <th>track</th> <th>acq_date</th> <th>acq_time</th> <th>satellite</th> <th>instrument</th> <th>confidence</th> <th>version</th> <th>bright_t31</th> <th>frp</th> <th>type</th>\n",
       "        </tr>\n",
       "    </thead>\n",
       "    <tbody>\n",
       "        <tr>\n",
       "            <td>36.234  </td> <td>-118.43  </td> <td>321.9     </td> <td>1   </td> <td>1    </td> <td>2017-10-07</td> <td>1845    </td> <td>Terra    </td> <td>MODIS     </td> <td>44        </td> <td>6.1    </td> <td>302.5     </td> <td>14.5 </td> <td>0   </td>\n",
       "        </tr>\n",
       "        <tr>\n",
       "            <td>36.258  </td> <td>-118.421 </td> <td>319.4     </td> <td>4.7 </td> <td>2    </td> <td>2017-10-15</td> <td>1756    </td> <td>Terra    </td> <td>MODIS     </td> <td>72        </td> <td>6.1    </td> <td>294.9     </td> <td>138.7</td> <td>0   </td>\n",
       "        </tr>\n",
       "        <tr>\n",
       "            <td>36.259  </td> <td>-118.425 </td> <td>318.2     </td> <td>4.7 </td> <td>2    </td> <td>2017-10-15</td> <td>1756    </td> <td>Terra    </td> <td>MODIS     </td> <td>44        </td> <td>6.1    </td> <td>294.4     </td> <td>118.3</td> <td>0   </td>\n",
       "        </tr>\n",
       "        <tr>\n",
       "            <td>36.256  </td> <td>-118.42  </td> <td>345.1     </td> <td>1.1 </td> <td>1    </td> <td>2017-10-15</td> <td>2112    </td> <td>Aqua     </td> <td>MODIS     </td> <td>92        </td> <td>6.1    </td> <td>298.3     </td> <td>50   </td> <td>0   </td>\n",
       "        </tr>\n",
       "        <tr>\n",
       "            <td>36.272  </td> <td>-118.429 </td> <td>326.3     </td> <td>1.1 </td> <td>1    </td> <td>2017-10-16</td> <td>1839    </td> <td>Terra    </td> <td>MODIS     </td> <td>71        </td> <td>6.1    </td> <td>293       </td> <td>23.1 </td> <td>0   </td>\n",
       "        </tr>\n",
       "        <tr>\n",
       "            <td>36.271  </td> <td>-118.418 </td> <td>331.1     </td> <td>1.1 </td> <td>1    </td> <td>2017-10-16</td> <td>1839    </td> <td>Terra    </td> <td>MODIS     </td> <td>83        </td> <td>6.1    </td> <td>292.7     </td> <td>29.9 </td> <td>0   </td>\n",
       "        </tr>\n",
       "        <tr>\n",
       "            <td>36.255  </td> <td>-118.412 </td> <td>300       </td> <td>3   </td> <td>1.6  </td> <td>2017-10-16</td> <td>913     </td> <td>Aqua     </td> <td>MODIS     </td> <td>5         </td> <td>6.1    </td> <td>281.5     </td> <td>31.6 </td> <td>0   </td>\n",
       "        </tr>\n",
       "        <tr>\n",
       "            <td>36.256  </td> <td>-118.428 </td> <td>327       </td> <td>4   </td> <td>1.9  </td> <td>2017-10-16</td> <td>2017    </td> <td>Aqua     </td> <td>MODIS     </td> <td>77        </td> <td>6.1    </td> <td>278.8     </td> <td>192.8</td> <td>0   </td>\n",
       "        </tr>\n",
       "        <tr>\n",
       "            <td>36.253  </td> <td>-118.428 </td> <td>330.3     </td> <td>1.4 </td> <td>1.2  </td> <td>2017-10-17</td> <td>542     </td> <td>Terra    </td> <td>MODIS     </td> <td>100       </td> <td>6.1    </td> <td>281.1     </td> <td>49.7 </td> <td>0   </td>\n",
       "        </tr>\n",
       "        <tr>\n",
       "            <td>36.412  </td> <td>-119.232 </td> <td>339.2     </td> <td>1.7 </td> <td>1.3  </td> <td>2017-09-08</td> <td>1916    </td> <td>Terra    </td> <td>MODIS     </td> <td>87        </td> <td>6.1    </td> <td>302.5     </td> <td>73.2 </td> <td>0   </td>\n",
       "        </tr>\n",
       "    </tbody>\n",
       "</table>\n",
       "<p>... (6043 rows omitted)</p>"
      ],
      "text/plain": [
       "latitude | longitude | brightness | scan | track | acq_date   | acq_time | satellite | instrument | confidence | version | bright_t31 | frp   | type\n",
       "36.234   | -118.43   | 321.9      | 1    | 1     | 2017-10-07 | 1845     | Terra     | MODIS      | 44         | 6.1     | 302.5      | 14.5  | 0\n",
       "36.258   | -118.421  | 319.4      | 4.7  | 2     | 2017-10-15 | 1756     | Terra     | MODIS      | 72         | 6.1     | 294.9      | 138.7 | 0\n",
       "36.259   | -118.425  | 318.2      | 4.7  | 2     | 2017-10-15 | 1756     | Terra     | MODIS      | 44         | 6.1     | 294.4      | 118.3 | 0\n",
       "36.256   | -118.42   | 345.1      | 1.1  | 1     | 2017-10-15 | 2112     | Aqua      | MODIS      | 92         | 6.1     | 298.3      | 50    | 0\n",
       "36.272   | -118.429  | 326.3      | 1.1  | 1     | 2017-10-16 | 1839     | Terra     | MODIS      | 71         | 6.1     | 293        | 23.1  | 0\n",
       "36.271   | -118.418  | 331.1      | 1.1  | 1     | 2017-10-16 | 1839     | Terra     | MODIS      | 83         | 6.1     | 292.7      | 29.9  | 0\n",
       "36.255   | -118.412  | 300        | 3    | 1.6   | 2017-10-16 | 913      | Aqua      | MODIS      | 5          | 6.1     | 281.5      | 31.6  | 0\n",
       "36.256   | -118.428  | 327        | 4    | 1.9   | 2017-10-16 | 2017     | Aqua      | MODIS      | 77         | 6.1     | 278.8      | 192.8 | 0\n",
       "36.253   | -118.428  | 330.3      | 1.4  | 1.2   | 2017-10-17 | 542      | Terra     | MODIS      | 100        | 6.1     | 281.1      | 49.7  | 0\n",
       "36.412   | -119.232  | 339.2      | 1.7  | 1.3   | 2017-09-08 | 1916     | Terra     | MODIS      | 87         | 6.1     | 302.5      | 73.2  | 0\n",
       "... (6043 rows omitted)"
      ]
     },
     "execution_count": 2,
     "metadata": {},
     "output_type": "execute_result"
    }
   ],
   "source": [
    "data=Table().read_table('~/URAP/google_earth_fires/data/SoCal_fires.csv') #from https://github.com/jupyterhub/jupyterhub/issues/376\n",
    "data"
   ]
  },
  {
   "cell_type": "markdown",
   "metadata": {},
   "source": [
    "## Filtering the data"
   ]
  },
  {
   "cell_type": "markdown",
   "metadata": {},
   "source": [
    "Now, let's select our columns of interest. For the purposes of this tutorial, we care about the latitude, longitude, brightness, and dates of our data."
   ]
  },
  {
   "cell_type": "code",
   "execution_count": 3,
   "metadata": {},
   "outputs": [
    {
     "data": {
      "text/html": [
       "<table border=\"1\" class=\"dataframe\">\n",
       "    <thead>\n",
       "        <tr>\n",
       "            <th>latitude</th> <th>longitude</th> <th>brightness</th> <th>acq_date</th>\n",
       "        </tr>\n",
       "    </thead>\n",
       "    <tbody>\n",
       "        <tr>\n",
       "            <td>36.234  </td> <td>-118.43  </td> <td>321.9     </td> <td>2017-10-07</td>\n",
       "        </tr>\n",
       "        <tr>\n",
       "            <td>36.258  </td> <td>-118.421 </td> <td>319.4     </td> <td>2017-10-15</td>\n",
       "        </tr>\n",
       "        <tr>\n",
       "            <td>36.259  </td> <td>-118.425 </td> <td>318.2     </td> <td>2017-10-15</td>\n",
       "        </tr>\n",
       "        <tr>\n",
       "            <td>36.256  </td> <td>-118.42  </td> <td>345.1     </td> <td>2017-10-15</td>\n",
       "        </tr>\n",
       "        <tr>\n",
       "            <td>36.272  </td> <td>-118.429 </td> <td>326.3     </td> <td>2017-10-16</td>\n",
       "        </tr>\n",
       "        <tr>\n",
       "            <td>36.271  </td> <td>-118.418 </td> <td>331.1     </td> <td>2017-10-16</td>\n",
       "        </tr>\n",
       "        <tr>\n",
       "            <td>36.255  </td> <td>-118.412 </td> <td>300       </td> <td>2017-10-16</td>\n",
       "        </tr>\n",
       "        <tr>\n",
       "            <td>36.256  </td> <td>-118.428 </td> <td>327       </td> <td>2017-10-16</td>\n",
       "        </tr>\n",
       "        <tr>\n",
       "            <td>36.253  </td> <td>-118.428 </td> <td>330.3     </td> <td>2017-10-17</td>\n",
       "        </tr>\n",
       "        <tr>\n",
       "            <td>36.412  </td> <td>-119.232 </td> <td>339.2     </td> <td>2017-09-08</td>\n",
       "        </tr>\n",
       "    </tbody>\n",
       "</table>\n",
       "<p>... (6043 rows omitted)</p>"
      ],
      "text/plain": [
       "latitude | longitude | brightness | acq_date\n",
       "36.234   | -118.43   | 321.9      | 2017-10-07\n",
       "36.258   | -118.421  | 319.4      | 2017-10-15\n",
       "36.259   | -118.425  | 318.2      | 2017-10-15\n",
       "36.256   | -118.42   | 345.1      | 2017-10-15\n",
       "36.272   | -118.429  | 326.3      | 2017-10-16\n",
       "36.271   | -118.418  | 331.1      | 2017-10-16\n",
       "36.255   | -118.412  | 300        | 2017-10-16\n",
       "36.256   | -118.428  | 327        | 2017-10-16\n",
       "36.253   | -118.428  | 330.3      | 2017-10-17\n",
       "36.412   | -119.232  | 339.2      | 2017-09-08\n",
       "... (6043 rows omitted)"
      ]
     },
     "execution_count": 3,
     "metadata": {},
     "output_type": "execute_result"
    }
   ],
   "source": [
    "py_data=data.select(0,1,2,5) #get the columns you want\n",
    "py_data"
   ]
  },
  {
   "cell_type": "markdown",
   "metadata": {},
   "source": [
    "Next, let's find the top 5 brightest fires in our data. To do this, we can sort the brightness from brightest to dimmest, and use the numpy.take method to grab the first 5 rows. You will also do the same thing to find the 5 dimmest fires, except you will sort from dimmest to brightest."
   ]
  },
  {
   "cell_type": "code",
   "execution_count": 4,
   "metadata": {},
   "outputs": [
    {
     "data": {
      "text/html": [
       "<table border=\"1\" class=\"dataframe\">\n",
       "    <thead>\n",
       "        <tr>\n",
       "            <th>latitude</th> <th>longitude</th> <th>brightness</th> <th>acq_date</th>\n",
       "        </tr>\n",
       "    </thead>\n",
       "    <tbody>\n",
       "        <tr>\n",
       "            <td>34.466  </td> <td>-119.078 </td> <td>504       </td> <td>2017-12-06</td>\n",
       "        </tr>\n",
       "        <tr>\n",
       "            <td>34.47   </td> <td>-119.652 </td> <td>503.7     </td> <td>2017-12-16</td>\n",
       "        </tr>\n",
       "        <tr>\n",
       "            <td>34.549  </td> <td>-119.35  </td> <td>502.4     </td> <td>2017-12-11</td>\n",
       "        </tr>\n",
       "        <tr>\n",
       "            <td>34.415  </td> <td>-119.41  </td> <td>502.3     </td> <td>2017-12-10</td>\n",
       "        </tr>\n",
       "        <tr>\n",
       "            <td>34.477  </td> <td>-119.079 </td> <td>501.9     </td> <td>2017-12-06</td>\n",
       "        </tr>\n",
       "    </tbody>\n",
       "</table>"
      ],
      "text/plain": [
       "latitude | longitude | brightness | acq_date\n",
       "34.466   | -119.078  | 504        | 2017-12-06\n",
       "34.47    | -119.652  | 503.7      | 2017-12-16\n",
       "34.549   | -119.35   | 502.4      | 2017-12-11\n",
       "34.415   | -119.41   | 502.3      | 2017-12-10\n",
       "34.477   | -119.079  | 501.9      | 2017-12-06"
      ]
     },
     "execution_count": 4,
     "metadata": {},
     "output_type": "execute_result"
    }
   ],
   "source": [
    "brightest=py_data.sort('brightness', descending=True).take(range(0,5))\n",
    "brightest"
   ]
  },
  {
   "cell_type": "code",
   "execution_count": 5,
   "metadata": {},
   "outputs": [
    {
     "data": {
      "text/html": [
       "<table border=\"1\" class=\"dataframe\">\n",
       "    <thead>\n",
       "        <tr>\n",
       "            <th>latitude</th> <th>longitude</th> <th>brightness</th> <th>acq_date</th>\n",
       "        </tr>\n",
       "    </thead>\n",
       "    <tbody>\n",
       "        <tr>\n",
       "            <td>36.255  </td> <td>-118.412 </td> <td>300       </td> <td>2017-10-16</td>\n",
       "        </tr>\n",
       "        <tr>\n",
       "            <td>34.339  </td> <td>-118.32  </td> <td>300       </td> <td>2017-12-06</td>\n",
       "        </tr>\n",
       "        <tr>\n",
       "            <td>37.681  </td> <td>-119.592 </td> <td>300       </td> <td>2017-10-08</td>\n",
       "        </tr>\n",
       "        <tr>\n",
       "            <td>37.212  </td> <td>-119.418 </td> <td>300       </td> <td>2017-12-06</td>\n",
       "        </tr>\n",
       "        <tr>\n",
       "            <td>36.693  </td> <td>-119.7   </td> <td>300       </td> <td>2018-01-26</td>\n",
       "        </tr>\n",
       "    </tbody>\n",
       "</table>"
      ],
      "text/plain": [
       "latitude | longitude | brightness | acq_date\n",
       "36.255   | -118.412  | 300        | 2017-10-16\n",
       "34.339   | -118.32   | 300        | 2017-12-06\n",
       "37.681   | -119.592  | 300        | 2017-10-08\n",
       "37.212   | -119.418  | 300        | 2017-12-06\n",
       "36.693   | -119.7    | 300        | 2018-01-26"
      ]
     },
     "execution_count": 5,
     "metadata": {},
     "output_type": "execute_result"
    }
   ],
   "source": [
    "dimmest=py_data.sort('brightness',descending=False).take(range(0,5))\n",
    "dimmest"
   ]
  },
  {
   "cell_type": "markdown",
   "metadata": {},
   "source": [
    "Finding the middle 5 fires will take a bit more work. First, we will find the median of our brightness values. Then, we will find the index of table in which the median is located. Finally, we will want to take the two rows above the median and the two rows below the median to get the middle 5 of the table. "
   ]
  },
  {
   "cell_type": "code",
   "execution_count": 6,
   "metadata": {},
   "outputs": [
    {
     "data": {
      "text/plain": [
       "3017"
      ]
     },
     "execution_count": 6,
     "metadata": {},
     "output_type": "execute_result"
    }
   ],
   "source": [
    "bright_col=py_data.sort('brightness',descending=False).column('brightness') #the brightness column of our data\n",
    "medium=np.median(bright_col) #find median of brightnesses\n",
    "list(bright_col).index(medium) #find index of median\n"
   ]
  },
  {
   "cell_type": "code",
   "execution_count": 7,
   "metadata": {},
   "outputs": [
    {
     "data": {
      "text/html": [
       "<table border=\"1\" class=\"dataframe\">\n",
       "    <thead>\n",
       "        <tr>\n",
       "            <th>latitude</th> <th>longitude</th> <th>brightness</th> <th>acq_date</th>\n",
       "        </tr>\n",
       "    </thead>\n",
       "    <tbody>\n",
       "        <tr>\n",
       "            <td>34.456  </td> <td>-119.371 </td> <td>300.1     </td> <td>2017-12-09</td>\n",
       "        </tr>\n",
       "        <tr>\n",
       "            <td>34.478  </td> <td>-119.409 </td> <td>311.4     </td> <td>2017-12-09</td>\n",
       "        </tr>\n",
       "        <tr>\n",
       "            <td>34.476  </td> <td>-119.421 </td> <td>313.2     </td> <td>2017-12-09</td>\n",
       "        </tr>\n",
       "        <tr>\n",
       "            <td>34.474  </td> <td>-119.431 </td> <td>313.6     </td> <td>2017-12-09</td>\n",
       "        </tr>\n",
       "        <tr>\n",
       "            <td>34.436  </td> <td>-119.351 </td> <td>367.4     </td> <td>2017-12-09</td>\n",
       "        </tr>\n",
       "    </tbody>\n",
       "</table>"
      ],
      "text/plain": [
       "latitude | longitude | brightness | acq_date\n",
       "34.456   | -119.371  | 300.1      | 2017-12-09\n",
       "34.478   | -119.409  | 311.4      | 2017-12-09\n",
       "34.476   | -119.421  | 313.2      | 2017-12-09\n",
       "34.474   | -119.431  | 313.6      | 2017-12-09\n",
       "34.436   | -119.351  | 367.4      | 2017-12-09"
      ]
     },
     "execution_count": 7,
     "metadata": {},
     "output_type": "execute_result"
    }
   ],
   "source": [
    "middle=py_data.take(range((3017-2),(3017+3))) #take two above and two below median to get \"middle 5 brightest\"\n",
    "middle"
   ]
  },
  {
   "cell_type": "markdown",
   "metadata": {},
   "source": [
    "Now, it's time to concatenate all our data! I am going to create arrays for each variable that we are interested in, using data from our \"brightest\", \"middle\", and \"dimmest\" tables."
   ]
  },
  {
   "cell_type": "code",
   "execution_count": 8,
   "metadata": {},
   "outputs": [],
   "source": [
    "lats=np.append(np.append(brightest.column(0),(middle.column(0))), dimmest.column(0))\n",
    "longs=np.append(np.append(brightest.column(1),(middle.column(1))), dimmest.column(1))\n",
    "brights=np.append(np.append(brightest.column(2),(middle.column(2))), dimmest.column(2))\n",
    "dates=np.append(np.append(brightest.column(3),(middle.column(3))), dimmest.column(3))"
   ]
  },
  {
   "cell_type": "markdown",
   "metadata": {},
   "source": [
    "Now, let's create a new table with columns for these variables! This table will contain the latitude, longitude, brightness, and dates of the top 5 brightest, middle 5, and 5 dimmest fire data. "
   ]
  },
  {
   "cell_type": "code",
   "execution_count": 9,
   "metadata": {},
   "outputs": [
    {
     "data": {
      "text/html": [
       "<table border=\"1\" class=\"dataframe\">\n",
       "    <thead>\n",
       "        <tr>\n",
       "            <th>latitude</th> <th>longitude</th> <th>brightness</th> <th>acq_date</th>\n",
       "        </tr>\n",
       "    </thead>\n",
       "    <tbody>\n",
       "        <tr>\n",
       "            <td>34.466  </td> <td>-119.078 </td> <td>504       </td> <td>2017-12-06</td>\n",
       "        </tr>\n",
       "        <tr>\n",
       "            <td>34.47   </td> <td>-119.652 </td> <td>503.7     </td> <td>2017-12-16</td>\n",
       "        </tr>\n",
       "        <tr>\n",
       "            <td>34.549  </td> <td>-119.35  </td> <td>502.4     </td> <td>2017-12-11</td>\n",
       "        </tr>\n",
       "        <tr>\n",
       "            <td>34.415  </td> <td>-119.41  </td> <td>502.3     </td> <td>2017-12-10</td>\n",
       "        </tr>\n",
       "        <tr>\n",
       "            <td>34.477  </td> <td>-119.079 </td> <td>501.9     </td> <td>2017-12-06</td>\n",
       "        </tr>\n",
       "        <tr>\n",
       "            <td>34.456  </td> <td>-119.371 </td> <td>300.1     </td> <td>2017-12-09</td>\n",
       "        </tr>\n",
       "        <tr>\n",
       "            <td>34.478  </td> <td>-119.409 </td> <td>311.4     </td> <td>2017-12-09</td>\n",
       "        </tr>\n",
       "        <tr>\n",
       "            <td>34.476  </td> <td>-119.421 </td> <td>313.2     </td> <td>2017-12-09</td>\n",
       "        </tr>\n",
       "        <tr>\n",
       "            <td>34.474  </td> <td>-119.431 </td> <td>313.6     </td> <td>2017-12-09</td>\n",
       "        </tr>\n",
       "        <tr>\n",
       "            <td>34.436  </td> <td>-119.351 </td> <td>367.4     </td> <td>2017-12-09</td>\n",
       "        </tr>\n",
       "    </tbody>\n",
       "</table>\n",
       "<p>... (5 rows omitted)</p>"
      ],
      "text/plain": [
       "latitude | longitude | brightness | acq_date\n",
       "34.466   | -119.078  | 504        | 2017-12-06\n",
       "34.47    | -119.652  | 503.7      | 2017-12-16\n",
       "34.549   | -119.35   | 502.4      | 2017-12-11\n",
       "34.415   | -119.41   | 502.3      | 2017-12-10\n",
       "34.477   | -119.079  | 501.9      | 2017-12-06\n",
       "34.456   | -119.371  | 300.1      | 2017-12-09\n",
       "34.478   | -119.409  | 311.4      | 2017-12-09\n",
       "34.476   | -119.421  | 313.2      | 2017-12-09\n",
       "34.474   | -119.431  | 313.6      | 2017-12-09\n",
       "34.436   | -119.351  | 367.4      | 2017-12-09\n",
       "... (5 rows omitted)"
      ]
     },
     "execution_count": 9,
     "metadata": {},
     "output_type": "execute_result"
    }
   ],
   "source": [
    "filtered_data=Table().with_columns(\n",
    "        'latitude', lats,\n",
    "        'longitude', longs,\n",
    "        'brightness', brights,\n",
    "        'acq_date', dates\n",
    "        )\n",
    "filtered_data"
   ]
  },
  {
   "cell_type": "markdown",
   "metadata": {},
   "source": [
    "## Plotting the data"
   ]
  },
  {
   "cell_type": "markdown",
   "metadata": {},
   "source": [
    "Here's where things get a bit tricky. Ultimately, we would like to plot a figure with a specific set of data and a specific layout. Plotly has many attributes to help us accomplish our goal, but how do we know which ones to use? Luckily, Plotly has a [figure reference!](https://plot.ly/python/reference/)"
   ]
  },
  {
   "cell_type": "markdown",
   "metadata": {},
   "source": [
    "Let's initialize our data first. We want to have different-colored bubbles on our bubble map so that we can differentiate between the three levels of brightness. Let's create a list of colors to choose from, using their RGB values: "
   ]
  },
  {
   "cell_type": "code",
   "execution_count": 10,
   "metadata": {},
   "outputs": [],
   "source": [
    "colors = [\"rgb(255,0,0)\", \"rgb(255,128,0)\", \"rgb(255,255,0)\"] #red, orange, yellow"
   ]
  },
  {
   "cell_type": "markdown",
   "metadata": {},
   "source": [
    "Next, we'll create a list called limits. Limits contains three elements, and each element contains the beginning index and ending index of a brightness level. This list will allow us to map certain attributes to a specific range of data. For example, if we assign the first element of [colors] to the first element in [limits], the 5 brightest fires will appear as red bubbles on the map."
   ]
  },
  {
   "cell_type": "code",
   "execution_count": 11,
   "metadata": {},
   "outputs": [],
   "source": [
    "limits=[(0,5),(5,10),(10,15)] #we are grouping by brightness, where first five (0,5) are brightest, second group of five (5,10) are medium, etc."
   ]
  },
  {
   "cell_type": "markdown",
   "metadata": {},
   "source": [
    "Now, it's time to create a list that contains all the information that we want to represent on the map. We'll call this list \"fires.\" In the end, we want this list to hold three dictionaries (one for each brightness level). \n",
    "\n",
    "Since we have three brightness levels, we want to assign specific attributes to each of them. To do this, we will iterature through each of the groups and create a dictionary of attributes for each. If you are unclear about these attributes, refer to the [figure reference!](https://plot.ly/python/reference/)."
   ]
  },
  {
   "cell_type": "code",
   "execution_count": 12,
   "metadata": {},
   "outputs": [],
   "source": [
    "\n",
    "#colors = [\"rgb(255,0,0)\", \"rgb(255,128,0)\", \"rgb(255,255,0)\"] #red, orange, yellow\n",
    "#limits=[(0,5),(5,10),(10,15)] #we are grouping by brightness, where first five (0,5) are brightest, second group of five (5,10) are medium, etc.\n",
    "\n",
    "fires=[] #the data that we want to represent on the map\n",
    "for i in range(len(limits)): #we want to iterate 3 times to create 3 traces on the map \n",
    "    group=filtered_data.take(range(limits[i][0], limits[i][1])) #i.e: in the first iteration, we are taking the top 5 rows (the brightest) \n",
    "    fire=dict(\n",
    "        type = 'scattergeo', #the type of figure we want to create \n",
    "        locationmode = 'USA-states', \n",
    "        lon = group['longitude'],\n",
    "        lat = group['latitude'],\n",
    "        location=['California'], #this doesn't do anything\n",
    "        #text = three_sub['text'],\n",
    "        marker=dict(\n",
    "                size=group['brightness'].item(0)/20, #scale the size of the bubble; our bubble size is based on the brightness \n",
    "                color=colors[i], #the color of the bubbles in this group \n",
    "                line = dict(width=0.5, color='rgb(40,40,40)'), \n",
    "                sizemode='diameter'\n",
    "                ), #sets the properties of the bubbles \n",
    "        name='{0}-{1}'.format(limits[i][0], limits[i][1])) #legend labels\n",
    "    fires.append(fire)"
   ]
  },
  {
   "cell_type": "markdown",
   "metadata": {},
   "source": [
    "Let's see what our \"fires\" dictionary looks like: "
   ]
  },
  {
   "cell_type": "code",
   "execution_count": 13,
   "metadata": {},
   "outputs": [
    {
     "data": {
      "text/plain": [
       "[{'lat': array([34.466, 34.47 , 34.549, 34.415, 34.477]),\n",
       "  'location': ['California'],\n",
       "  'locationmode': 'USA-states',\n",
       "  'lon': array([-119.078, -119.652, -119.35 , -119.41 , -119.079]),\n",
       "  'marker': {'color': 'rgb(255,0,0)',\n",
       "   'line': {'color': 'rgb(40,40,40)', 'width': 0.5},\n",
       "   'size': 25.2,\n",
       "   'sizemode': 'diameter'},\n",
       "  'name': '0-5',\n",
       "  'type': 'scattergeo'},\n",
       " {'lat': array([34.456, 34.478, 34.476, 34.474, 34.436]),\n",
       "  'location': ['California'],\n",
       "  'locationmode': 'USA-states',\n",
       "  'lon': array([-119.371, -119.409, -119.421, -119.431, -119.351]),\n",
       "  'marker': {'color': 'rgb(255,128,0)',\n",
       "   'line': {'color': 'rgb(40,40,40)', 'width': 0.5},\n",
       "   'size': 15.005,\n",
       "   'sizemode': 'diameter'},\n",
       "  'name': '5-10',\n",
       "  'type': 'scattergeo'},\n",
       " {'lat': array([36.255, 34.339, 37.681, 37.212, 36.693]),\n",
       "  'location': ['California'],\n",
       "  'locationmode': 'USA-states',\n",
       "  'lon': array([-118.412, -118.32 , -119.592, -119.418, -119.7  ]),\n",
       "  'marker': {'color': 'rgb(255,255,0)',\n",
       "   'line': {'color': 'rgb(40,40,40)', 'width': 0.5},\n",
       "   'size': 15.0,\n",
       "   'sizemode': 'diameter'},\n",
       "  'name': '10-15',\n",
       "  'type': 'scattergeo'}]"
      ]
     },
     "execution_count": 13,
     "metadata": {},
     "output_type": "execute_result"
    }
   ],
   "source": [
    "fires"
   ]
  },
  {
   "cell_type": "markdown",
   "metadata": {},
   "source": [
    "Next, we will dictate what our figure layout should be. "
   ]
  },
  {
   "cell_type": "code",
   "execution_count": 14,
   "metadata": {},
   "outputs": [
    {
     "data": {
      "text/html": [
       "<iframe id=\"igraph\" scrolling=\"no\" style=\"border:none;\" seamless=\"seamless\" src=\"https://plot.ly/~winifredc123/8.embed\" height=\"525px\" width=\"100%\"></iframe>"
      ],
      "text/plain": [
       "<plotly.tools.PlotlyDisplay object>"
      ]
     },
     "execution_count": 14,
     "metadata": {},
     "output_type": "execute_result"
    }
   ],
   "source": [
    "layout=dict(\n",
    "        title='Range of Wildfire Brightnesses in California from 09/01/2017 to 09/01/2018',\n",
    "        showlegend=True,\n",
    "        geo = dict(\n",
    "            scope='CA', #doesn't do anything??\n",
    "            projection=dict( type='albers usa'), #provides the gray USA map \n",
    "            center=dict(lon=-116.4194, lat=34.9592), #centers the map on the middle of SoCal when you first create the map\n",
    "            zoom=6, #Zoom factor of map when you create it \n",
    "            showland = True,\n",
    "            landcolor = 'rgb(217, 217, 217)',\n",
    "            subunitwidth=1,\n",
    "            countrywidth=1,\n",
    "            subunitcolor=\"rgb(255, 255, 255)\",\n",
    "            countrycolor=\"rgb(255, 255, 255)\"\n",
    "        ),\n",
    "    )\n",
    "fig = dict(data=fires, layout=layout) #our figure with fires data and the layout we want \n",
    "py.iplot(fig, validate=False, filename='SoCal-FIRMS-bubble-map') #plot the data! "
   ]
  },
  {
   "cell_type": "code",
   "execution_count": 15,
   "metadata": {},
   "outputs": [
    {
     "data": {
      "text/plain": [
       "array([36.255, 34.339, 37.681, 37.212, 36.693])"
      ]
     },
     "execution_count": 15,
     "metadata": {},
     "output_type": "execute_result"
    }
   ],
   "source": [
    "dimmest['latitude']"
   ]
  },
  {
   "cell_type": "code",
   "execution_count": 16,
   "metadata": {},
   "outputs": [
    {
     "data": {
      "text/plain": [
       "36.255"
      ]
     },
     "execution_count": 16,
     "metadata": {},
     "output_type": "execute_result"
    }
   ],
   "source": [
    "dimmest.take(0)['latitude'].item(0)"
   ]
  },
  {
   "cell_type": "markdown",
   "metadata": {},
   "source": [
    "### Resources"
   ]
  },
  {
   "cell_type": "markdown",
   "metadata": {},
   "source": [
    "-  [basemap](https://jakevdp.github.io/PythonDataScienceHandbook/04.13-geographic-data-with-basemap.html)\n",
    "-  [basemap legends](https://jakevdp.github.io/PythonDataScienceHandbook/04.06-customizing-legends.html)\n",
    "-  [i4 channel details](https://viirsland.gsfc.nasa.gov/PDF/VIIRS_activefire_375m_ATBD.pdf)\n",
    "-  [ah](https://help.plot.ly/excel/bubble-maps/)"
   ]
  },
  {
   "cell_type": "markdown",
   "metadata": {},
   "source": [
    "## Add more data points! \n",
    "Here, I am just doing the same steps but getting a total of 300 data points in the end and tweaking the map."
   ]
  },
  {
   "cell_type": "code",
   "execution_count": 88,
   "metadata": {},
   "outputs": [
    {
     "data": {
      "text/html": [
       "<table border=\"1\" class=\"dataframe\">\n",
       "    <thead>\n",
       "        <tr>\n",
       "            <th>latitude</th> <th>longitude</th> <th>brightness</th> <th>acq_date</th>\n",
       "        </tr>\n",
       "    </thead>\n",
       "    <tbody>\n",
       "        <tr>\n",
       "            <td>34.466  </td> <td>-119.078 </td> <td>504       </td> <td>2017-12-06</td>\n",
       "        </tr>\n",
       "        <tr>\n",
       "            <td>34.47   </td> <td>-119.652 </td> <td>503.7     </td> <td>2017-12-16</td>\n",
       "        </tr>\n",
       "        <tr>\n",
       "            <td>34.549  </td> <td>-119.35  </td> <td>502.4     </td> <td>2017-12-11</td>\n",
       "        </tr>\n",
       "        <tr>\n",
       "            <td>34.415  </td> <td>-119.41  </td> <td>502.3     </td> <td>2017-12-10</td>\n",
       "        </tr>\n",
       "        <tr>\n",
       "            <td>34.477  </td> <td>-119.079 </td> <td>501.9     </td> <td>2017-12-06</td>\n",
       "        </tr>\n",
       "        <tr>\n",
       "            <td>34.474  </td> <td>-119.096 </td> <td>501.5     </td> <td>2017-12-06</td>\n",
       "        </tr>\n",
       "        <tr>\n",
       "            <td>34.444  </td> <td>-119.334 </td> <td>501.1     </td> <td>2017-12-09</td>\n",
       "        </tr>\n",
       "        <tr>\n",
       "            <td>34.48   </td> <td>-119.654 </td> <td>500.1     </td> <td>2017-12-16</td>\n",
       "        </tr>\n",
       "        <tr>\n",
       "            <td>34.344  </td> <td>-119.185 </td> <td>500       </td> <td>2017-12-05</td>\n",
       "        </tr>\n",
       "        <tr>\n",
       "            <td>34.404  </td> <td>-119.146 </td> <td>500       </td> <td>2017-12-05</td>\n",
       "        </tr>\n",
       "    </tbody>\n",
       "</table>\n",
       "<p>... (90 rows omitted)</p>"
      ],
      "text/plain": [
       "latitude | longitude | brightness | acq_date\n",
       "34.466   | -119.078  | 504        | 2017-12-06\n",
       "34.47    | -119.652  | 503.7      | 2017-12-16\n",
       "34.549   | -119.35   | 502.4      | 2017-12-11\n",
       "34.415   | -119.41   | 502.3      | 2017-12-10\n",
       "34.477   | -119.079  | 501.9      | 2017-12-06\n",
       "34.474   | -119.096  | 501.5      | 2017-12-06\n",
       "34.444   | -119.334  | 501.1      | 2017-12-09\n",
       "34.48    | -119.654  | 500.1      | 2017-12-16\n",
       "34.344   | -119.185  | 500        | 2017-12-05\n",
       "34.404   | -119.146  | 500        | 2017-12-05\n",
       "... (90 rows omitted)"
      ]
     },
     "execution_count": 88,
     "metadata": {},
     "output_type": "execute_result"
    }
   ],
   "source": [
    "brightest100=py_data.sort('brightness', descending=True).take(range(0,100))\n",
    "brightest100"
   ]
  },
  {
   "cell_type": "code",
   "execution_count": 89,
   "metadata": {},
   "outputs": [
    {
     "data": {
      "text/html": [
       "<table border=\"1\" class=\"dataframe\">\n",
       "    <thead>\n",
       "        <tr>\n",
       "            <th>latitude</th> <th>longitude</th> <th>brightness</th> <th>acq_date</th>\n",
       "        </tr>\n",
       "    </thead>\n",
       "    <tbody>\n",
       "        <tr>\n",
       "            <td>36.255  </td> <td>-118.412 </td> <td>300       </td> <td>2017-10-16</td>\n",
       "        </tr>\n",
       "        <tr>\n",
       "            <td>34.339  </td> <td>-118.32  </td> <td>300       </td> <td>2017-12-06</td>\n",
       "        </tr>\n",
       "        <tr>\n",
       "            <td>37.681  </td> <td>-119.592 </td> <td>300       </td> <td>2017-10-08</td>\n",
       "        </tr>\n",
       "        <tr>\n",
       "            <td>37.212  </td> <td>-119.418 </td> <td>300       </td> <td>2017-12-06</td>\n",
       "        </tr>\n",
       "        <tr>\n",
       "            <td>36.693  </td> <td>-119.7   </td> <td>300       </td> <td>2018-01-26</td>\n",
       "        </tr>\n",
       "        <tr>\n",
       "            <td>36.971  </td> <td>-119.957 </td> <td>300       </td> <td>2017-12-04</td>\n",
       "        </tr>\n",
       "        <tr>\n",
       "            <td>36.082  </td> <td>-118.757 </td> <td>300       </td> <td>2017-09-11</td>\n",
       "        </tr>\n",
       "        <tr>\n",
       "            <td>37.243  </td> <td>-120.353 </td> <td>300       </td> <td>2018-01-26</td>\n",
       "        </tr>\n",
       "        <tr>\n",
       "            <td>36.546  </td> <td>-119.693 </td> <td>300.1     </td> <td>2017-12-20</td>\n",
       "        </tr>\n",
       "        <tr>\n",
       "            <td>34.461  </td> <td>-118.964 </td> <td>300.1     </td> <td>2017-12-12</td>\n",
       "        </tr>\n",
       "    </tbody>\n",
       "</table>\n",
       "<p>... (90 rows omitted)</p>"
      ],
      "text/plain": [
       "latitude | longitude | brightness | acq_date\n",
       "36.255   | -118.412  | 300        | 2017-10-16\n",
       "34.339   | -118.32   | 300        | 2017-12-06\n",
       "37.681   | -119.592  | 300        | 2017-10-08\n",
       "37.212   | -119.418  | 300        | 2017-12-06\n",
       "36.693   | -119.7    | 300        | 2018-01-26\n",
       "36.971   | -119.957  | 300        | 2017-12-04\n",
       "36.082   | -118.757  | 300        | 2017-09-11\n",
       "37.243   | -120.353  | 300        | 2018-01-26\n",
       "36.546   | -119.693  | 300.1      | 2017-12-20\n",
       "34.461   | -118.964  | 300.1      | 2017-12-12\n",
       "... (90 rows omitted)"
      ]
     },
     "execution_count": 89,
     "metadata": {},
     "output_type": "execute_result"
    }
   ],
   "source": [
    "dimmest100=py_data.sort('brightness', descending=False).take(range(0, 100))\n",
    "dimmest100"
   ]
  },
  {
   "cell_type": "code",
   "execution_count": 90,
   "metadata": {},
   "outputs": [
    {
     "data": {
      "text/plain": [
       "3017"
      ]
     },
     "execution_count": 90,
     "metadata": {},
     "output_type": "execute_result"
    }
   ],
   "source": [
    "bright_col=py_data.sort('brightness',descending=False).column('brightness')#the brightness column of our data\n",
    "medium=np.median(bright_col) #find median of brightnesses\n",
    "list(bright_col).index(medium) #find index of median\n"
   ]
  },
  {
   "cell_type": "code",
   "execution_count": 91,
   "metadata": {},
   "outputs": [
    {
     "data": {
      "text/html": [
       "<table border=\"1\" class=\"dataframe\">\n",
       "    <thead>\n",
       "        <tr>\n",
       "            <th>latitude</th> <th>longitude</th> <th>brightness</th> <th>acq_date</th>\n",
       "        </tr>\n",
       "    </thead>\n",
       "    <tbody>\n",
       "        <tr>\n",
       "            <td>34.389  </td> <td>-119.176 </td> <td>378.7     </td> <td>2017-12-05</td>\n",
       "        </tr>\n",
       "        <tr>\n",
       "            <td>34.415  </td> <td>-119.231 </td> <td>390       </td> <td>2017-12-05</td>\n",
       "        </tr>\n",
       "        <tr>\n",
       "            <td>34.404  </td> <td>-119.231 </td> <td>382.6     </td> <td>2017-12-05</td>\n",
       "        </tr>\n",
       "        <tr>\n",
       "            <td>34.393  </td> <td>-119.234 </td> <td>427.3     </td> <td>2017-12-05</td>\n",
       "        </tr>\n",
       "        <tr>\n",
       "            <td>34.362  </td> <td>-119.276 </td> <td>344.9     </td> <td>2017-12-05</td>\n",
       "        </tr>\n",
       "        <tr>\n",
       "            <td>34.416  </td> <td>-119.245 </td> <td>351.1     </td> <td>2017-12-05</td>\n",
       "        </tr>\n",
       "        <tr>\n",
       "            <td>34.339  </td> <td>-119.299 </td> <td>340.9     </td> <td>2017-12-06</td>\n",
       "        </tr>\n",
       "        <tr>\n",
       "            <td>34.478  </td> <td>-119.164 </td> <td>434.8     </td> <td>2017-12-06</td>\n",
       "        </tr>\n",
       "        <tr>\n",
       "            <td>34.373  </td> <td>-119.407 </td> <td>373.8     </td> <td>2017-12-06</td>\n",
       "        </tr>\n",
       "        <tr>\n",
       "            <td>34.364  </td> <td>-119.359 </td> <td>349.9     </td> <td>2017-12-06</td>\n",
       "        </tr>\n",
       "    </tbody>\n",
       "</table>\n",
       "<p>... (90 rows omitted)</p>"
      ],
      "text/plain": [
       "latitude | longitude | brightness | acq_date\n",
       "34.389   | -119.176  | 378.7      | 2017-12-05\n",
       "34.415   | -119.231  | 390        | 2017-12-05\n",
       "34.404   | -119.231  | 382.6      | 2017-12-05\n",
       "34.393   | -119.234  | 427.3      | 2017-12-05\n",
       "34.362   | -119.276  | 344.9      | 2017-12-05\n",
       "34.416   | -119.245  | 351.1      | 2017-12-05\n",
       "34.339   | -119.299  | 340.9      | 2017-12-06\n",
       "34.478   | -119.164  | 434.8      | 2017-12-06\n",
       "34.373   | -119.407  | 373.8      | 2017-12-06\n",
       "34.364   | -119.359  | 349.9      | 2017-12-06\n",
       "... (90 rows omitted)"
      ]
     },
     "execution_count": 91,
     "metadata": {},
     "output_type": "execute_result"
    }
   ],
   "source": [
    "middle100=py_data.take(range((3017-50),(3017+50))) #take two above and two below median to get \"middle 50 brightest\"\n",
    "middle100"
   ]
  },
  {
   "cell_type": "code",
   "execution_count": 92,
   "metadata": {},
   "outputs": [],
   "source": [
    "lats100=np.append(np.append(brightest100.column(0),(middle100.column(0))), dimmest100.column(0))\n",
    "longs100=np.append(np.append(brightest100.column(1),(middle100.column(1))), dimmest100.column(1))\n",
    "brights100=np.append(np.append(brightest100.column(2),(middle100.column(2))), dimmest100.column(2))\n",
    "dates100=np.append(np.append(brightest100.column(3),(middle100.column(3))), dimmest100.column(3))"
   ]
  },
  {
   "cell_type": "code",
   "execution_count": 95,
   "metadata": {},
   "outputs": [
    {
     "data": {
      "text/html": [
       "<table border=\"1\" class=\"dataframe\">\n",
       "    <thead>\n",
       "        <tr>\n",
       "            <th>latitude</th> <th>longitude</th> <th>brightness</th> <th>acq_date</th>\n",
       "        </tr>\n",
       "    </thead>\n",
       "    <tbody>\n",
       "        <tr>\n",
       "            <td>34.466  </td> <td>-119.078 </td> <td>504       </td> <td>2017-12-06</td>\n",
       "        </tr>\n",
       "        <tr>\n",
       "            <td>34.47   </td> <td>-119.652 </td> <td>503.7     </td> <td>2017-12-16</td>\n",
       "        </tr>\n",
       "        <tr>\n",
       "            <td>34.549  </td> <td>-119.35  </td> <td>502.4     </td> <td>2017-12-11</td>\n",
       "        </tr>\n",
       "        <tr>\n",
       "            <td>34.415  </td> <td>-119.41  </td> <td>502.3     </td> <td>2017-12-10</td>\n",
       "        </tr>\n",
       "        <tr>\n",
       "            <td>34.477  </td> <td>-119.079 </td> <td>501.9     </td> <td>2017-12-06</td>\n",
       "        </tr>\n",
       "        <tr>\n",
       "            <td>34.474  </td> <td>-119.096 </td> <td>501.5     </td> <td>2017-12-06</td>\n",
       "        </tr>\n",
       "        <tr>\n",
       "            <td>34.444  </td> <td>-119.334 </td> <td>501.1     </td> <td>2017-12-09</td>\n",
       "        </tr>\n",
       "        <tr>\n",
       "            <td>34.48   </td> <td>-119.654 </td> <td>500.1     </td> <td>2017-12-16</td>\n",
       "        </tr>\n",
       "        <tr>\n",
       "            <td>34.344  </td> <td>-119.185 </td> <td>500       </td> <td>2017-12-05</td>\n",
       "        </tr>\n",
       "        <tr>\n",
       "            <td>34.404  </td> <td>-119.146 </td> <td>500       </td> <td>2017-12-05</td>\n",
       "        </tr>\n",
       "        <tr>\n",
       "            <td>34.55   </td> <td>-119.173 </td> <td>500       </td> <td>2017-12-17</td>\n",
       "        </tr>\n",
       "        <tr>\n",
       "            <td>36.626  </td> <td>-121.771 </td> <td>500       </td> <td>2017-10-05</td>\n",
       "        </tr>\n",
       "        <tr>\n",
       "            <td>34.426  </td> <td>-119.23  </td> <td>500       </td> <td>2017-12-05</td>\n",
       "        </tr>\n",
       "        <tr>\n",
       "            <td>34.512  </td> <td>-119.423 </td> <td>500       </td> <td>2017-12-10</td>\n",
       "        </tr>\n",
       "        <tr>\n",
       "            <td>34.488  </td> <td>-119.258 </td> <td>500       </td> <td>2017-12-07</td>\n",
       "        </tr>\n",
       "        <tr>\n",
       "            <td>34.424  </td> <td>-119.212 </td> <td>500       </td> <td>2017-12-05</td>\n",
       "        </tr>\n",
       "        <tr>\n",
       "            <td>34.348  </td> <td>-119.152 </td> <td>500       </td> <td>2017-12-05</td>\n",
       "        </tr>\n",
       "        <tr>\n",
       "            <td>34.497  </td> <td>-119.26  </td> <td>500       </td> <td>2017-12-07</td>\n",
       "        </tr>\n",
       "        <tr>\n",
       "            <td>34.519  </td> <td>-119.205 </td> <td>498.9     </td> <td>2017-12-14</td>\n",
       "        </tr>\n",
       "        <tr>\n",
       "            <td>34.51   </td> <td>-119.235 </td> <td>498.5     </td> <td>2017-12-07</td>\n",
       "        </tr>\n",
       "        <tr>\n",
       "            <td>34.481  </td> <td>-119.642 </td> <td>494.8     </td> <td>2017-12-16</td>\n",
       "        </tr>\n",
       "        <tr>\n",
       "            <td>34.532  </td> <td>-119.335 </td> <td>492.6     </td> <td>2017-12-11</td>\n",
       "        </tr>\n",
       "        <tr>\n",
       "            <td>34.463  </td> <td>-119.096 </td> <td>492       </td> <td>2017-12-06</td>\n",
       "        </tr>\n",
       "        <tr>\n",
       "            <td>34.411  </td> <td>-119.418 </td> <td>490.8     </td> <td>2017-12-10</td>\n",
       "        </tr>\n",
       "        <tr>\n",
       "            <td>34.509  </td> <td>-119.25  </td> <td>489.1     </td> <td>2017-12-07</td>\n",
       "        </tr>\n",
       "        <tr>\n",
       "            <td>34.547  </td> <td>-119.361 </td> <td>486.8     </td> <td>2017-12-11</td>\n",
       "        </tr>\n",
       "        <tr>\n",
       "            <td>34.628  </td> <td>-119.422 </td> <td>481.8     </td> <td>2017-12-18</td>\n",
       "        </tr>\n",
       "        <tr>\n",
       "            <td>34.392  </td> <td>-119.391 </td> <td>481.2     </td> <td>2017-12-11</td>\n",
       "        </tr>\n",
       "        <tr>\n",
       "            <td>34.349  </td> <td>-119.136 </td> <td>480       </td> <td>2017-12-05</td>\n",
       "        </tr>\n",
       "        <tr>\n",
       "            <td>34.527  </td> <td>-119.398 </td> <td>478.5     </td> <td>2017-12-10</td>\n",
       "        </tr>\n",
       "        <tr>\n",
       "            <td>34.474  </td> <td>-119.309 </td> <td>478.5     </td> <td>2017-12-07</td>\n",
       "        </tr>\n",
       "        <tr>\n",
       "            <td>34.487  </td> <td>-119.269 </td> <td>478.2     </td> <td>2017-12-07</td>\n",
       "        </tr>\n",
       "        <tr>\n",
       "            <td>34.54   </td> <td>-119.139 </td> <td>475.4     </td> <td>2017-12-14</td>\n",
       "        </tr>\n",
       "        <tr>\n",
       "            <td>37.559  </td> <td>-119.136 </td> <td>473.3     </td> <td>2018-06-24</td>\n",
       "        </tr>\n",
       "        <tr>\n",
       "            <td>35.813  </td> <td>-119.459 </td> <td>471.7     </td> <td>2017-10-01</td>\n",
       "        </tr>\n",
       "        <tr>\n",
       "            <td>37.677  </td> <td>-119.557 </td> <td>471.3     </td> <td>2017-10-17</td>\n",
       "        </tr>\n",
       "        <tr>\n",
       "            <td>34.431  </td> <td>-119.437 </td> <td>470.6     </td> <td>2017-12-10</td>\n",
       "        </tr>\n",
       "        <tr>\n",
       "            <td>34.417  </td> <td>-119.439 </td> <td>469.6     </td> <td>2017-12-10</td>\n",
       "        </tr>\n",
       "        <tr>\n",
       "            <td>34.523  </td> <td>-119.21  </td> <td>468.6     </td> <td>2017-12-14</td>\n",
       "        </tr>\n",
       "        <tr>\n",
       "            <td>34.394  </td> <td>-119.252 </td> <td>467.5     </td> <td>2017-12-05</td>\n",
       "        </tr>\n",
       "    </tbody>\n",
       "</table>\n",
       "<p>... (260 rows omitted)</p>"
      ],
      "text/plain": [
       "<IPython.core.display.HTML object>"
      ]
     },
     "metadata": {},
     "output_type": "display_data"
    }
   ],
   "source": [
    "filtered_data100=Table().with_columns(\n",
    "        'latitude', lats100,\n",
    "        'longitude', longs100,\n",
    "        'brightness', brights100,\n",
    "        'acq_date', dates100\n",
    "        )\n",
    "filtered_data100.show(40)"
   ]
  },
  {
   "cell_type": "markdown",
   "metadata": {},
   "source": [
    "One thing I wanted to do was add the brightness value to the label of each bubble. I did this by adding a \"text\" attribute to the fire dictionary and setting it equal to the \"brightness\" column of each group of fires. I also changed the trace names in the legend by creating a new list of labels called \"legend labels\" and editing the \"name\" attribute in the fire dictionary."
   ]
  },
  {
   "cell_type": "code",
   "execution_count": 97,
   "metadata": {},
   "outputs": [],
   "source": [
    "limits100=[(0,100),(100,200),(200,300)]\n",
    "legendlabels=['Bright','Moderate', 'Dim']\n",
    "fires100=[] \n",
    "for i in range(len(limits)): \n",
    "    group=filtered_data100.take(range(limits100[i][0], limits100[i][1])) #i.e: in the first iteration, we are taking the top 100 rows (the brightest) \n",
    "    fire=dict(\n",
    "        type = 'scattergeo',\n",
    "        locationmode = 'USA-states', \n",
    "        lon = group['longitude'],\n",
    "        lat = group['latitude'],\n",
    "        text= group.column('brightness'), #group.column('acq_date') \n",
    "        #name=legendlabels[i],\n",
    "        location=['California'], \n",
    "        marker=dict(\n",
    "                size=group['brightness']/20, \n",
    "                color=colors[i], \n",
    "                line = dict(width=0.5, color='rgb(40,40,40)'), #the outline of each bubble \n",
    "                sizemode='diameter'\n",
    "                ), \n",
    "        name=legendlabels[i]) \n",
    "    fires100.append(fire)\n"
   ]
  },
  {
   "cell_type": "code",
   "execution_count": 98,
   "metadata": {},
   "outputs": [
    {
     "data": {
      "text/html": [
       "<iframe id=\"igraph\" scrolling=\"no\" style=\"border:none;\" seamless=\"seamless\" src=\"https://plot.ly/~winifredc123/10.embed\" height=\"525px\" width=\"100%\"></iframe>"
      ],
      "text/plain": [
       "<plotly.tools.PlotlyDisplay object>"
      ]
     },
     "execution_count": 98,
     "metadata": {},
     "output_type": "execute_result"
    }
   ],
   "source": [
    "layout100=dict(\n",
    "        title='Range of Wildfire Brightnesses in California from 09/01/2017 to 09/01/2018',\n",
    "        showlegend=True,\n",
    "        opacity=0.7,\n",
    "        geo = dict(\n",
    "            scope='CA', #doesn't do anything??\n",
    "            projection=dict( type='albers usa'), \n",
    "            center=dict(lon=-119.4179, lat=36.7783), \n",
    "            showland = True,\n",
    "            landcolor = 'rgb(64,64,64)',\n",
    "            subunitwidth=1,\n",
    "            countrywidth=1,\n",
    "            subunitcolor=\"rgb(255, 255, 255)\",\n",
    "            countrycolor=\"rgb(255, 255, 255)\"\n",
    "        ),\n",
    "    )\n",
    "fig = dict(data=fires100, layout=layout100)\n",
    "py.iplot(fig, validate=False, filename='FIRMS100-bubble-map') "
   ]
  },
  {
   "cell_type": "markdown",
   "metadata": {},
   "source": [
    "Tip: you can hide a specific trace by clicking on its bubble in the legend! \n",
    "\n",
    "As we can see, the most intense fires of 2017 seem to be located in Southern California, in the area north of Los Angeles. On the other hand, fires with less intensity were scattered up and down the Central Valley. "
   ]
  },
  {
   "cell_type": "markdown",
   "metadata": {},
   "source": [
    "## CalFires"
   ]
  },
  {
   "cell_type": "code",
   "execution_count": 28,
   "metadata": {},
   "outputs": [],
   "source": [
    "calfires_data=Table().read_table('~/URAP/google_earth_fires/data/calfires2017.csv')"
   ]
  },
  {
   "cell_type": "code",
   "execution_count": 29,
   "metadata": {},
   "outputs": [
    {
     "data": {
      "text/html": [
       "<table border=\"1\" class=\"dataframe\">\n",
       "    <thead>\n",
       "        <tr>\n",
       "            <th>YEAR_</th> <th>STATE</th> <th>AGENCY</th> <th>UNIT_ID</th> <th>FIRE_NAME</th> <th>INC_NUM</th> <th>ALARM_DATE</th> <th>CONT_DATE</th> <th>CAUSE</th> <th>COMMENTS</th> <th>REPORT_AC</th> <th>GIS_ACRES</th> <th>C_METHOD</th> <th>OBJECTIVE</th>\n",
       "        </tr>\n",
       "    </thead>\n",
       "    <tbody>\n",
       "        <tr>\n",
       "            <td>2017 </td> <td>California</td> <td>California Department of Forestry and Fire Protection</td> <td>Tulare County                </td> <td>DINELY      </td> <td>286    </td> <td>6/7/2017  </td> <td>6/11/2017 </td> <td>2 - Equipment Use          </td> <td><Null>                                 </td> <td>339      </td> <td>340.564  </td> <td>1 - GPS Ground</td> <td>Suppression (Wildfire)</td>\n",
       "        </tr>\n",
       "        <tr>\n",
       "            <td>2017 </td> <td>California</td> <td>California Department of Forestry and Fire Protection</td> <td>Tulare County                </td> <td>ROADRUNNER  </td> <td>441    </td> <td>7/30/2017 </td> <td>8/1/2017  </td> <td>7 - Arson                  </td> <td><Null>                                 </td> <td>2289     </td> <td>2284.6   </td> <td>1 - GPS Ground</td> <td>Suppression (Wildfire)</td>\n",
       "        </tr>\n",
       "        <tr>\n",
       "            <td>2017 </td> <td>California</td> <td>California Department of Forestry and Fire Protection</td> <td>Tulare County                </td> <td>ELEPHANT 2  </td> <td>420    </td> <td>7/20/2017 </td> <td>7/22/2017 </td> <td>7 - Arson                  </td> <td><Null>                                 </td> <td>416      </td> <td>415.212  </td> <td>1 - GPS Ground</td> <td>Suppression (Wildfire)</td>\n",
       "        </tr>\n",
       "        <tr>\n",
       "            <td>2017 </td> <td>California</td> <td>California Department of Forestry and Fire Protection</td> <td>Tehama - Glenn CAL FIRE      </td> <td>TEHAMA      </td> <td>10345  </td> <td>10/30/2017</td> <td>10/31/2017</td> <td>10 - Vehicle               </td> <td><Null>                                 </td> <td>194      </td> <td>194.002  </td> <td>1 - GPS Ground</td> <td>Suppression (Wildfire)</td>\n",
       "        </tr>\n",
       "        <tr>\n",
       "            <td>2017 </td> <td>California</td> <td>California Department of Forestry and Fire Protection</td> <td>Tuolumne - Calaveras CAL FIRE</td> <td>JACKSONVILLE</td> <td>9024   </td> <td>7/29/2017 </td> <td>7/30/2017 </td> <td>14 - Unknown / Unidentified</td> <td><Null>                                 </td> <td><Null>   </td> <td>684.356  </td> <td>1 - GPS Ground</td> <td>Suppression (Wildfire)</td>\n",
       "        </tr>\n",
       "        <tr>\n",
       "            <td>2017 </td> <td>California</td> <td>California Department of Forestry and Fire Protection</td> <td>Tuolumne - Calaveras CAL FIRE</td> <td>MARIA       </td> <td>8497   </td> <td>7/17/2017 </td> <td>7/17/2017 </td> <td>14 - Unknown / Unidentified</td> <td><Null>                                 </td> <td><Null>   </td> <td>114.56   </td> <td>1 - GPS Ground</td> <td>Suppression (Wildfire)</td>\n",
       "        </tr>\n",
       "        <tr>\n",
       "            <td>2017 </td> <td>California</td> <td>California Department of Forestry and Fire Protection</td> <td>Tuolumne - Calaveras CAL FIRE</td> <td>TWIST       </td> <td>9089   </td> <td>7/30/2017 </td> <td>7/30/2017 </td> <td>14 - Unknown / Unidentified</td> <td><Null>                                 </td> <td><Null>   </td> <td>124.244  </td> <td>1 - GPS Ground</td> <td>Suppression (Wildfire)</td>\n",
       "        </tr>\n",
       "        <tr>\n",
       "            <td>2017 </td> <td>California</td> <td>California Department of Forestry and Fire Protection</td> <td>Tuolumne - Calaveras CAL FIRE</td> <td>POINT       </td> <td>12170  </td> <td>10/9/2017 </td> <td>10/9/2017 </td> <td>11 - Powerline             </td> <td>October 2017 Siege                     </td> <td>130      </td> <td>130.236  </td> <td>1 - GPS Ground</td> <td>Suppression (Wildfire)</td>\n",
       "        </tr>\n",
       "        <tr>\n",
       "            <td>2017 </td> <td>California</td> <td>California Department of Forestry and Fire Protection</td> <td>San Luis Obispo CAL FIRE     </td> <td>LUCY        </td> <td>6548   </td> <td>6/14/2017 </td> <td>6/14/2017 </td> <td>11 - Powerline             </td> <td>Bird into energized power lines        </td> <td>150      </td> <td>147.667  </td> <td>1 - GPS Ground</td> <td>Suppression (Wildfire)</td>\n",
       "        </tr>\n",
       "        <tr>\n",
       "            <td>2017 </td> <td>California</td> <td>California Department of Forestry and Fire Protection</td> <td>San Luis Obispo CAL FIRE     </td> <td>OLIVE       </td> <td>8451   </td> <td>7/24/2017 </td> <td>7/24/2017 </td> <td>10 - Vehicle               </td> <td>Overheated brake and or AC clutch parts</td> <td>251      </td> <td>236.868  </td> <td>1 - GPS Ground</td> <td>Suppression (Wildfire)</td>\n",
       "        </tr>\n",
       "    </tbody>\n",
       "</table>\n",
       "<p>... (172 rows omitted)</p>"
      ],
      "text/plain": [
       "YEAR_ | STATE      | AGENCY                                                | UNIT_ID                       | FIRE_NAME    | INC_NUM | ALARM_DATE | CONT_DATE  | CAUSE                       | COMMENTS                                | REPORT_AC | GIS_ACRES | C_METHOD       | OBJECTIVE\n",
       "2017  | California | California Department of Forestry and Fire Protection | Tulare County                 | DINELY       | 286     | 6/7/2017   | 6/11/2017  | 2 - Equipment Use           | <Null>                                  | 339       | 340.564   | 1 - GPS Ground | Suppression (Wildfire)\n",
       "2017  | California | California Department of Forestry and Fire Protection | Tulare County                 | ROADRUNNER   | 441     | 7/30/2017  | 8/1/2017   | 7 - Arson                   | <Null>                                  | 2289      | 2284.6    | 1 - GPS Ground | Suppression (Wildfire)\n",
       "2017  | California | California Department of Forestry and Fire Protection | Tulare County                 | ELEPHANT 2   | 420     | 7/20/2017  | 7/22/2017  | 7 - Arson                   | <Null>                                  | 416       | 415.212   | 1 - GPS Ground | Suppression (Wildfire)\n",
       "2017  | California | California Department of Forestry and Fire Protection | Tehama - Glenn CAL FIRE       | TEHAMA       | 10345   | 10/30/2017 | 10/31/2017 | 10 - Vehicle                | <Null>                                  | 194       | 194.002   | 1 - GPS Ground | Suppression (Wildfire)\n",
       "2017  | California | California Department of Forestry and Fire Protection | Tuolumne - Calaveras CAL FIRE | JACKSONVILLE | 9024    | 7/29/2017  | 7/30/2017  | 14 - Unknown / Unidentified | <Null>                                  | <Null>    | 684.356   | 1 - GPS Ground | Suppression (Wildfire)\n",
       "2017  | California | California Department of Forestry and Fire Protection | Tuolumne - Calaveras CAL FIRE | MARIA        | 8497    | 7/17/2017  | 7/17/2017  | 14 - Unknown / Unidentified | <Null>                                  | <Null>    | 114.56    | 1 - GPS Ground | Suppression (Wildfire)\n",
       "2017  | California | California Department of Forestry and Fire Protection | Tuolumne - Calaveras CAL FIRE | TWIST        | 9089    | 7/30/2017  | 7/30/2017  | 14 - Unknown / Unidentified | <Null>                                  | <Null>    | 124.244   | 1 - GPS Ground | Suppression (Wildfire)\n",
       "2017  | California | California Department of Forestry and Fire Protection | Tuolumne - Calaveras CAL FIRE | POINT        | 12170   | 10/9/2017  | 10/9/2017  | 11 - Powerline              | October 2017 Siege                      | 130       | 130.236   | 1 - GPS Ground | Suppression (Wildfire)\n",
       "2017  | California | California Department of Forestry and Fire Protection | San Luis Obispo CAL FIRE      | LUCY         | 6548    | 6/14/2017  | 6/14/2017  | 11 - Powerline              | Bird into energized power lines         | 150       | 147.667   | 1 - GPS Ground | Suppression (Wildfire)\n",
       "2017  | California | California Department of Forestry and Fire Protection | San Luis Obispo CAL FIRE      | OLIVE        | 8451    | 7/24/2017  | 7/24/2017  | 10 - Vehicle                | Overheated brake and or AC clutch parts | 251       | 236.868   | 1 - GPS Ground | Suppression (Wildfire)\n",
       "... (172 rows omitted)"
      ]
     },
     "execution_count": 29,
     "metadata": {},
     "output_type": "execute_result"
    }
   ],
   "source": [
    "calfires_data"
   ]
  },
  {
   "cell_type": "markdown",
   "metadata": {},
   "source": [
    "https://www.mapsofworld.com/usa/states/california/lat-long.html"
   ]
  },
  {
   "cell_type": "code",
   "execution_count": 30,
   "metadata": {},
   "outputs": [
    {
     "data": {
      "text/html": [
       "<table border=\"1\" class=\"dataframe\">\n",
       "    <thead>\n",
       "        <tr>\n",
       "            <th>UNIT_ID</th> <th>FIRE_NAME</th> <th>ALARM_DATE</th> <th>CAUSE</th> <th>GIS_ACRES</th>\n",
       "        </tr>\n",
       "    </thead>\n",
       "    <tbody>\n",
       "        <tr>\n",
       "            <td>Tulare County                </td> <td>DINELY      </td> <td>6/7/2017  </td> <td>2 - Equipment Use          </td> <td>340.564  </td>\n",
       "        </tr>\n",
       "        <tr>\n",
       "            <td>Tulare County                </td> <td>ROADRUNNER  </td> <td>7/30/2017 </td> <td>7 - Arson                  </td> <td>2284.6   </td>\n",
       "        </tr>\n",
       "        <tr>\n",
       "            <td>Tulare County                </td> <td>ELEPHANT 2  </td> <td>7/20/2017 </td> <td>7 - Arson                  </td> <td>415.212  </td>\n",
       "        </tr>\n",
       "        <tr>\n",
       "            <td>Tehama - Glenn CAL FIRE      </td> <td>TEHAMA      </td> <td>10/30/2017</td> <td>10 - Vehicle               </td> <td>194.002  </td>\n",
       "        </tr>\n",
       "        <tr>\n",
       "            <td>Tuolumne - Calaveras CAL FIRE</td> <td>JACKSONVILLE</td> <td>7/29/2017 </td> <td>14 - Unknown / Unidentified</td> <td>684.356  </td>\n",
       "        </tr>\n",
       "        <tr>\n",
       "            <td>Tuolumne - Calaveras CAL FIRE</td> <td>MARIA       </td> <td>7/17/2017 </td> <td>14 - Unknown / Unidentified</td> <td>114.56   </td>\n",
       "        </tr>\n",
       "        <tr>\n",
       "            <td>Tuolumne - Calaveras CAL FIRE</td> <td>TWIST       </td> <td>7/30/2017 </td> <td>14 - Unknown / Unidentified</td> <td>124.244  </td>\n",
       "        </tr>\n",
       "        <tr>\n",
       "            <td>Tuolumne - Calaveras CAL FIRE</td> <td>POINT       </td> <td>10/9/2017 </td> <td>11 - Powerline             </td> <td>130.236  </td>\n",
       "        </tr>\n",
       "        <tr>\n",
       "            <td>San Luis Obispo CAL FIRE     </td> <td>LUCY        </td> <td>6/14/2017 </td> <td>11 - Powerline             </td> <td>147.667  </td>\n",
       "        </tr>\n",
       "        <tr>\n",
       "            <td>San Luis Obispo CAL FIRE     </td> <td>OLIVE       </td> <td>7/24/2017 </td> <td>10 - Vehicle               </td> <td>236.868  </td>\n",
       "        </tr>\n",
       "    </tbody>\n",
       "</table>\n",
       "<p>... (172 rows omitted)</p>"
      ],
      "text/plain": [
       "UNIT_ID                       | FIRE_NAME    | ALARM_DATE | CAUSE                       | GIS_ACRES\n",
       "Tulare County                 | DINELY       | 6/7/2017   | 2 - Equipment Use           | 340.564\n",
       "Tulare County                 | ROADRUNNER   | 7/30/2017  | 7 - Arson                   | 2284.6\n",
       "Tulare County                 | ELEPHANT 2   | 7/20/2017  | 7 - Arson                   | 415.212\n",
       "Tehama - Glenn CAL FIRE       | TEHAMA       | 10/30/2017 | 10 - Vehicle                | 194.002\n",
       "Tuolumne - Calaveras CAL FIRE | JACKSONVILLE | 7/29/2017  | 14 - Unknown / Unidentified | 684.356\n",
       "Tuolumne - Calaveras CAL FIRE | MARIA        | 7/17/2017  | 14 - Unknown / Unidentified | 114.56\n",
       "Tuolumne - Calaveras CAL FIRE | TWIST        | 7/30/2017  | 14 - Unknown / Unidentified | 124.244\n",
       "Tuolumne - Calaveras CAL FIRE | POINT        | 10/9/2017  | 11 - Powerline              | 130.236\n",
       "San Luis Obispo CAL FIRE      | LUCY         | 6/14/2017  | 11 - Powerline              | 147.667\n",
       "San Luis Obispo CAL FIRE      | OLIVE        | 7/24/2017  | 10 - Vehicle                | 236.868\n",
       "... (172 rows omitted)"
      ]
     },
     "execution_count": 30,
     "metadata": {},
     "output_type": "execute_result"
    }
   ],
   "source": [
    "calfires_selected=calfires_data.select(3,4,6,8,11)\n",
    "calfires_selected"
   ]
  },
  {
   "cell_type": "code",
   "execution_count": 31,
   "metadata": {},
   "outputs": [],
   "source": [
    "causes_selected=calfires_selected.group('CAUSE')"
   ]
  },
  {
   "cell_type": "code",
   "execution_count": 32,
   "metadata": {},
   "outputs": [
    {
     "data": {
      "text/html": [
       "<table border=\"1\" class=\"dataframe\">\n",
       "    <thead>\n",
       "        <tr>\n",
       "            <th>CAUSE</th> <th>count</th>\n",
       "        </tr>\n",
       "    </thead>\n",
       "    <tbody>\n",
       "        <tr>\n",
       "            <td>4 - Campfire               </td> <td>2    </td>\n",
       "        </tr>\n",
       "        <tr>\n",
       "            <td>5 - Debris                 </td> <td>5    </td>\n",
       "        </tr>\n",
       "        <tr>\n",
       "            <td>11 - Powerline             </td> <td>11   </td>\n",
       "        </tr>\n",
       "        <tr>\n",
       "            <td>7 - Arson                  </td> <td>11   </td>\n",
       "        </tr>\n",
       "        <tr>\n",
       "            <td>10 - Vehicle               </td> <td>16   </td>\n",
       "        </tr>\n",
       "        <tr>\n",
       "            <td>2 - Equipment Use          </td> <td>18   </td>\n",
       "        </tr>\n",
       "        <tr>\n",
       "            <td>9 - Miscellaneous          </td> <td>21   </td>\n",
       "        </tr>\n",
       "        <tr>\n",
       "            <td>14 - Unknown / Unidentified</td> <td>40   </td>\n",
       "        </tr>\n",
       "        <tr>\n",
       "            <td>1 - Lightning              </td> <td>58   </td>\n",
       "        </tr>\n",
       "    </tbody>\n",
       "</table>"
      ],
      "text/plain": [
       "CAUSE                       | count\n",
       "4 - Campfire                | 2\n",
       "5 - Debris                  | 5\n",
       "11 - Powerline              | 11\n",
       "7 - Arson                   | 11\n",
       "10 - Vehicle                | 16\n",
       "2 - Equipment Use           | 18\n",
       "9 - Miscellaneous           | 21\n",
       "14 - Unknown / Unidentified | 40\n",
       "1 - Lightning               | 58"
      ]
     },
     "execution_count": 32,
     "metadata": {},
     "output_type": "execute_result"
    }
   ],
   "source": [
    "causes_selected.sort('count')"
   ]
  },
  {
   "cell_type": "markdown",
   "metadata": {},
   "source": [
    "We want cases where the cause is known, so we will filter out causes that are unknown or miscellaneous."
   ]
  },
  {
   "cell_type": "code",
   "execution_count": 46,
   "metadata": {},
   "outputs": [
    {
     "data": {
      "text/html": [
       "<table border=\"1\" class=\"dataframe\">\n",
       "    <thead>\n",
       "        <tr>\n",
       "            <th>UNIT_ID</th> <th>FIRE_NAME</th> <th>ALARM_DATE</th> <th>CAUSE</th> <th>GIS_ACRES</th>\n",
       "        </tr>\n",
       "    </thead>\n",
       "    <tbody>\n",
       "        <tr>\n",
       "            <td>Tulare County                </td> <td>DINELY    </td> <td>6/7/2017  </td> <td>2 - Equipment Use</td> <td>340.564  </td>\n",
       "        </tr>\n",
       "        <tr>\n",
       "            <td>Tulare County                </td> <td>ROADRUNNER</td> <td>7/30/2017 </td> <td>7 - Arson        </td> <td>2284.6   </td>\n",
       "        </tr>\n",
       "        <tr>\n",
       "            <td>Tulare County                </td> <td>ELEPHANT 2</td> <td>7/20/2017 </td> <td>7 - Arson        </td> <td>415.212  </td>\n",
       "        </tr>\n",
       "        <tr>\n",
       "            <td>Tehama - Glenn CAL FIRE      </td> <td>TEHAMA    </td> <td>10/30/2017</td> <td>10 - Vehicle     </td> <td>194.002  </td>\n",
       "        </tr>\n",
       "        <tr>\n",
       "            <td>Tuolumne - Calaveras CAL FIRE</td> <td>POINT     </td> <td>10/9/2017 </td> <td>11 - Powerline   </td> <td>130.236  </td>\n",
       "        </tr>\n",
       "        <tr>\n",
       "            <td>San Luis Obispo CAL FIRE     </td> <td>LUCY      </td> <td>6/14/2017 </td> <td>11 - Powerline   </td> <td>147.667  </td>\n",
       "        </tr>\n",
       "        <tr>\n",
       "            <td>San Luis Obispo CAL FIRE     </td> <td>OLIVE     </td> <td>7/24/2017 </td> <td>10 - Vehicle     </td> <td>236.868  </td>\n",
       "        </tr>\n",
       "        <tr>\n",
       "            <td>San Luis Obispo CAL FIRE     </td> <td>STONE     </td> <td>7/9/2017  </td> <td>2 - Equipment Use</td> <td>340.437  </td>\n",
       "        </tr>\n",
       "        <tr>\n",
       "            <td>San Luis Obispo CAL FIRE     </td> <td>ALAMO     </td> <td>7/6/2017  </td> <td>10 - Vehicle     </td> <td>28834.2  </td>\n",
       "        </tr>\n",
       "        <tr>\n",
       "            <td>San Luis Obispo CAL FIRE     </td> <td>HILL      </td> <td>6/26/2017 </td> <td>10 - Vehicle     </td> <td>1645.59  </td>\n",
       "        </tr>\n",
       "    </tbody>\n",
       "</table>\n",
       "<p>... (111 rows omitted)</p>"
      ],
      "text/plain": [
       "UNIT_ID                       | FIRE_NAME  | ALARM_DATE | CAUSE             | GIS_ACRES\n",
       "Tulare County                 | DINELY     | 6/7/2017   | 2 - Equipment Use | 340.564\n",
       "Tulare County                 | ROADRUNNER | 7/30/2017  | 7 - Arson         | 2284.6\n",
       "Tulare County                 | ELEPHANT 2 | 7/20/2017  | 7 - Arson         | 415.212\n",
       "Tehama - Glenn CAL FIRE       | TEHAMA     | 10/30/2017 | 10 - Vehicle      | 194.002\n",
       "Tuolumne - Calaveras CAL FIRE | POINT      | 10/9/2017  | 11 - Powerline    | 130.236\n",
       "San Luis Obispo CAL FIRE      | LUCY       | 6/14/2017  | 11 - Powerline    | 147.667\n",
       "San Luis Obispo CAL FIRE      | OLIVE      | 7/24/2017  | 10 - Vehicle      | 236.868\n",
       "San Luis Obispo CAL FIRE      | STONE      | 7/9/2017   | 2 - Equipment Use | 340.437\n",
       "San Luis Obispo CAL FIRE      | ALAMO      | 7/6/2017   | 10 - Vehicle      | 28834.2\n",
       "San Luis Obispo CAL FIRE      | HILL       | 6/26/2017  | 10 - Vehicle      | 1645.59\n",
       "... (111 rows omitted)"
      ]
     },
     "execution_count": 46,
     "metadata": {},
     "output_type": "execute_result"
    }
   ],
   "source": [
    "calfires_known=calfires_selected.where('CAUSE', are.not_equal_to('9 - Miscellaneous')).where('CAUSE', are.not_equal_to('14 - Unknown / Unidentified'))\n",
    "calfires_known"
   ]
  },
  {
   "cell_type": "code",
   "execution_count": 40,
   "metadata": {},
   "outputs": [
    {
     "data": {
      "text/html": [
       "<table border=\"1\" class=\"dataframe\">\n",
       "    <thead>\n",
       "        <tr>\n",
       "            <th>UNIT_ID</th> <th>GIS_ACRES max</th>\n",
       "        </tr>\n",
       "    </thead>\n",
       "    <tbody>\n",
       "        <tr>\n",
       "            <td>Amador - El Dorado CAL FIRE</td> <td>1268.11      </td>\n",
       "        </tr>\n",
       "        <tr>\n",
       "            <td>Butte CAL FIRE             </td> <td>8415.8       </td>\n",
       "        </tr>\n",
       "        <tr>\n",
       "            <td>Cleveland National Forest  </td> <td>866.273      </td>\n",
       "        </tr>\n",
       "        <tr>\n",
       "            <td>Eldorado National Forest   </td> <td>426.702      </td>\n",
       "        </tr>\n",
       "        <tr>\n",
       "            <td>Fresno-Kings CAL FIRE      </td> <td>48886.7      </td>\n",
       "        </tr>\n",
       "        <tr>\n",
       "            <td>Inyo National Forest       </td> <td>2294.25      </td>\n",
       "        </tr>\n",
       "        <tr>\n",
       "            <td>Klamath National Forest    </td> <td>91125.3      </td>\n",
       "        </tr>\n",
       "        <tr>\n",
       "            <td>Los Angeles City FD        </td> <td>371.308      </td>\n",
       "        </tr>\n",
       "        <tr>\n",
       "            <td>Los Angeles County         </td> <td>759.758      </td>\n",
       "        </tr>\n",
       "        <tr>\n",
       "            <td>Los Padres National Forest </td> <td>450.84       </td>\n",
       "        </tr>\n",
       "    </tbody>\n",
       "</table>\n",
       "<p>... (28 rows omitted)</p>"
      ],
      "text/plain": [
       "UNIT_ID                     | GIS_ACRES max\n",
       "Amador - El Dorado CAL FIRE | 1268.11\n",
       "Butte CAL FIRE              | 8415.8\n",
       "Cleveland National Forest   | 866.273\n",
       "Eldorado National Forest    | 426.702\n",
       "Fresno-Kings CAL FIRE       | 48886.7\n",
       "Inyo National Forest        | 2294.25\n",
       "Klamath National Forest     | 91125.3\n",
       "Los Angeles City FD         | 371.308\n",
       "Los Angeles County          | 759.758\n",
       "Los Padres National Forest  | 450.84\n",
       "... (28 rows omitted)"
      ]
     },
     "execution_count": 40,
     "metadata": {},
     "output_type": "execute_result"
    }
   ],
   "source": [
    "cities=calfires_known.group('UNIT_ID', max).select(0,4)\n",
    "cities"
   ]
  },
  {
   "cell_type": "code",
   "execution_count": 47,
   "metadata": {},
   "outputs": [
    {
     "data": {
      "text/html": [
       "<table border=\"1\" class=\"dataframe\">\n",
       "    <thead>\n",
       "        <tr>\n",
       "            <th>GIS_ACRES max</th> <th>UNIT_ID</th> <th>FIRE_NAME</th> <th>ALARM_DATE</th> <th>CAUSE</th>\n",
       "        </tr>\n",
       "    </thead>\n",
       "    <tbody>\n",
       "        <tr>\n",
       "            <td>91125.3      </td> <td>Klamath National Forest         </td> <td>OAK        </td> <td>8/11/2017 </td> <td>1 - Lightning    </td>\n",
       "        </tr>\n",
       "        <tr>\n",
       "            <td>83581.4      </td> <td>Northern CA District - BLM      </td> <td>LONG VALLEY</td> <td>7/11/2017 </td> <td>10 - Vehicle     </td>\n",
       "        </tr>\n",
       "        <tr>\n",
       "            <td>48886.7      </td> <td>Fresno-Kings CAL FIRE           </td> <td>GARZA      </td> <td>7/9/2017  </td> <td>10 - Vehicle     </td>\n",
       "        </tr>\n",
       "        <tr>\n",
       "            <td>45704        </td> <td>Modoc National Forest           </td> <td>STEELE     </td> <td>7/26/2017 </td> <td>1 - Lightning    </td>\n",
       "        </tr>\n",
       "        <tr>\n",
       "            <td>36619.4      </td> <td>Sequoia National Forest         </td> <td>PIER       </td> <td>8/29/2017 </td> <td>7 - Arson        </td>\n",
       "        </tr>\n",
       "        <tr>\n",
       "            <td>32893.3      </td> <td>Rouge River- Siskiyou           </td> <td>ABNEY      </td> <td>8/10/2017 </td> <td>1 - Lightning    </td>\n",
       "        </tr>\n",
       "        <tr>\n",
       "            <td>28834.2      </td> <td>San Luis Obispo CAL FIRE        </td> <td>ALAMO      </td> <td>7/6/2017  </td> <td>10 - Vehicle     </td>\n",
       "        </tr>\n",
       "        <tr>\n",
       "            <td>21317.9      </td> <td>Six Rivers National Forest      </td> <td>HAYPRESS   </td> <td>8/10/2017 </td> <td>1 - Lightning    </td>\n",
       "        </tr>\n",
       "        <tr>\n",
       "            <td>13357.3      </td> <td>Shasta-Trinity National Forest  </td> <td>BUCK       </td> <td>9/12/2017 </td> <td>1 - Lightning    </td>\n",
       "        </tr>\n",
       "        <tr>\n",
       "            <td>9198.03      </td> <td>Orange County                   </td> <td>CANYON II  </td> <td>10/9/2017 </td> <td>5 - Debris       </td>\n",
       "        </tr>\n",
       "        <tr>\n",
       "            <td>8923.5       </td> <td>Northern California District BLM</td> <td>SLINKARD   </td> <td>8/29/2017 </td> <td>1 - Lightning    </td>\n",
       "        </tr>\n",
       "        <tr>\n",
       "            <td>8577.55      </td> <td>Yosemite National Park          </td> <td>EMPIRE     </td> <td>7/31/2017 </td> <td>1 - Lightning    </td>\n",
       "        </tr>\n",
       "        <tr>\n",
       "            <td>8415.8       </td> <td>Butte CAL FIRE                  </td> <td>CHEROKEE   </td> <td>10/8/2017 </td> <td>11 - Powerline   </td>\n",
       "        </tr>\n",
       "        <tr>\n",
       "            <td>6303.66      </td> <td>Riverside CAL FIRE              </td> <td>MANZANITA  </td> <td>6/26/2017 </td> <td>10 - Vehicle     </td>\n",
       "        </tr>\n",
       "        <tr>\n",
       "            <td>4423.21      </td> <td>Stanislaus National Forest      </td> <td>MCCORMICK  </td> <td>8/18/2017 </td> <td>1 - Lightning    </td>\n",
       "        </tr>\n",
       "        <tr>\n",
       "            <td>4339.35      </td> <td>Plumas National Forest          </td> <td>MINERVA 5  </td> <td>7/29/2017 </td> <td>7 - Arson        </td>\n",
       "        </tr>\n",
       "        <tr>\n",
       "            <td>2294.25      </td> <td>Inyo National Forest            </td> <td>INDIAN     </td> <td>8/3/2017  </td> <td>1 - Lightning    </td>\n",
       "        </tr>\n",
       "        <tr>\n",
       "            <td>2284.6       </td> <td>Tulare County                   </td> <td>ROADRUNNER </td> <td>7/30/2017 </td> <td>7 - Arson        </td>\n",
       "        </tr>\n",
       "        <tr>\n",
       "            <td>1821.77      </td> <td>Monterey - San Benito CAL FIRE  </td> <td>PARKFIELD  </td> <td>7/8/2017  </td> <td>11 - Powerline   </td>\n",
       "        </tr>\n",
       "        <tr>\n",
       "            <td>1268.11      </td> <td>Amador - El Dorado CAL FIRE     </td> <td>LATROBE    </td> <td>7/26/2017 </td> <td>5 - Debris       </td>\n",
       "        </tr>\n",
       "        <tr>\n",
       "            <td>1019.99      </td> <td>Tahoe National Forest           </td> <td>CHILCOOT   </td> <td>8/6/2017  </td> <td>1 - Lightning    </td>\n",
       "        </tr>\n",
       "        <tr>\n",
       "            <td>994.073      </td> <td>Shasta - Trinity CAL FIRE       </td> <td>BERRY      </td> <td>9/12/2017 </td> <td>1 - Lightning    </td>\n",
       "        </tr>\n",
       "        <tr>\n",
       "            <td>988.467      </td> <td>Madera - Mariposa CAL FIRE      </td> <td>MISSION    </td> <td>9/3/2017  </td> <td>11 - Powerline   </td>\n",
       "        </tr>\n",
       "        <tr>\n",
       "            <td>867.02       </td> <td>Nevada - Yuba - Placer CAL FIRE </td> <td>BEALE      </td> <td>8/20/2017 </td> <td>11 - Powerline   </td>\n",
       "        </tr>\n",
       "        <tr>\n",
       "            <td>866.273      </td> <td>Cleveland National Forest       </td> <td>WILDOMAR   </td> <td>10/26/2017</td> <td>10 - Vehicle     </td>\n",
       "        </tr>\n",
       "        <tr>\n",
       "            <td>759.758      </td> <td>Los Angeles County              </td> <td>PLACERITA  </td> <td>6/25/2017 </td> <td>7 - Arson        </td>\n",
       "        </tr>\n",
       "        <tr>\n",
       "            <td>669.209      </td> <td>San Bernardino National Forest  </td> <td>MART       </td> <td>6/27/2017 </td> <td>7 - Arson        </td>\n",
       "        </tr>\n",
       "        <tr>\n",
       "            <td>653.508      </td> <td>Siskiyou CAL FIRE               </td> <td>BATTLE     </td> <td>6/28/2017 </td> <td>2 - Equipment Use</td>\n",
       "        </tr>\n",
       "        <tr>\n",
       "            <td>611.202      </td> <td>Sierra National Forest          </td> <td>BUTTE      </td> <td>8/7/2017  </td> <td>1 - Lightning    </td>\n",
       "        </tr>\n",
       "        <tr>\n",
       "            <td>450.84       </td> <td>Los Padres National Forest      </td> <td>RED        </td> <td>8/2/2017  </td> <td>1 - Lightning    </td>\n",
       "        </tr>\n",
       "        <tr>\n",
       "            <td>429.704      </td> <td>Santa Barbara County            </td> <td>RUCKER     </td> <td>9/29/2017 </td> <td>10 - Vehicle     </td>\n",
       "        </tr>\n",
       "        <tr>\n",
       "            <td>426.702      </td> <td>Eldorado National Forest        </td> <td>TABLE      </td> <td>9/8/2017  </td> <td>1 - Lightning    </td>\n",
       "        </tr>\n",
       "        <tr>\n",
       "            <td>371.308      </td> <td>Los Angeles City FD             </td> <td>SKIRBALL   </td> <td>12/6/2017 </td> <td>4 - Campfire     </td>\n",
       "        </tr>\n",
       "        <tr>\n",
       "            <td>336.624      </td> <td>San Bernardino CAL FIRE         </td> <td>BRYANT 2   </td> <td>8/3/2017  </td> <td>7 - Arson        </td>\n",
       "        </tr>\n",
       "        <tr>\n",
       "            <td>332.587      </td> <td>San Diego CAL FIRE              </td> <td>JENNINGS 2 </td> <td>7/11/2017 </td> <td>10 - Vehicle     </td>\n",
       "        </tr>\n",
       "        <tr>\n",
       "            <td>317.201      </td> <td>San Mateo - Santa Cruz CAL FIRE </td> <td>BEAR       </td> <td>10/16/2017</td> <td>7 - Arson        </td>\n",
       "        </tr>\n",
       "        <tr>\n",
       "            <td>194.002      </td> <td>Tehama - Glenn CAL FIRE         </td> <td>TEHAMA     </td> <td>10/30/2017</td> <td>10 - Vehicle     </td>\n",
       "        </tr>\n",
       "        <tr>\n",
       "            <td>130.236      </td> <td>Tuolumne - Calaveras CAL FIRE   </td> <td>POINT      </td> <td>10/9/2017 </td> <td>11 - Powerline   </td>\n",
       "        </tr>\n",
       "    </tbody>\n",
       "</table>"
      ],
      "text/plain": [
       "<IPython.core.display.HTML object>"
      ]
     },
     "metadata": {},
     "output_type": "display_data"
    }
   ],
   "source": [
    "calfires=cities.join('GIS_ACRES max', calfires_known, 'GIS_ACRES').drop(2)\n",
    "calfires.sort('GIS_ACRES max', descending=True).show(40)"
   ]
  },
  {
   "cell_type": "markdown",
   "metadata": {},
   "source": [
    "## Cal Fires 1900s-2016 "
   ]
  },
  {
   "cell_type": "code",
   "execution_count": 36,
   "metadata": {},
   "outputs": [
    {
     "data": {
      "text/html": [
       "<table border=\"1\" class=\"dataframe\">\n",
       "    <thead>\n",
       "        <tr>\n",
       "            <th>YEAR</th> <th>UNIT_ID</th> <th>FIRE_NAME</th> <th>ALARM_DATE</th> <th>CAUSE</th> <th>GIS_ACRES</th>\n",
       "        </tr>\n",
       "    </thead>\n",
       "    <tbody>\n",
       "        <tr>\n",
       "            <td>1910</td> <td>Six Rivers National Forest</td> <td>BLUFF CREEK     </td> <td>7/24/1910 </td> <td>4 - Campfire </td> <td>298.717  </td>\n",
       "        </tr>\n",
       "        <tr>\n",
       "            <td>1910</td> <td>Six Rivers National Forest</td> <td>CRAWFORD CREEK 2</td> <td>8/7/1910  </td> <td>7 - Arson    </td> <td>497.885  </td>\n",
       "        </tr>\n",
       "        <tr>\n",
       "            <td>1910</td> <td>Six Rivers National Forest</td> <td>MILL CREEK      </td> <td>8/15/1910 </td> <td>4 - Campfire </td> <td>398.293  </td>\n",
       "        </tr>\n",
       "        <tr>\n",
       "            <td>1910</td> <td>Six Rivers National Forest</td> <td>RED CAP         </td> <td>9/10/1910 </td> <td>5 - Debris   </td> <td>497.881  </td>\n",
       "        </tr>\n",
       "        <tr>\n",
       "            <td>1910</td> <td>Sequoia National Forest   </td> <td>                </td> <td><Null>    </td> <td>1 - Lightning</td> <td>328.55   </td>\n",
       "        </tr>\n",
       "        <tr>\n",
       "            <td>1910</td> <td>Sequoia National Forest   </td> <td>                </td> <td><Null>    </td> <td>1 - Lightning</td> <td>2059.64  </td>\n",
       "        </tr>\n",
       "        <tr>\n",
       "            <td>1910</td> <td>Modoc National Forest     </td> <td>                </td> <td><Null>    </td> <td>1 - Lightning</td> <td>1428.76  </td>\n",
       "        </tr>\n",
       "        <tr>\n",
       "            <td>1910</td> <td>Modoc National Forest     </td> <td>GLASS MOUNTAIN  </td> <td>7/13/1910 </td> <td>1 - Lightning</td> <td>146968   </td>\n",
       "        </tr>\n",
       "        <tr>\n",
       "            <td>1911</td> <td>Sierra National Forest    </td> <td>                </td> <td><Null>    </td> <td>1 - Lightning</td> <td>419.395  </td>\n",
       "        </tr>\n",
       "        <tr>\n",
       "            <td>1911</td> <td>Six Rivers National Forest</td> <td>BLUFF CREEK     </td> <td>8/30/1911 </td> <td>7 - Arson    </td> <td>1372.7   </td>\n",
       "        </tr>\n",
       "    </tbody>\n",
       "</table>\n",
       "<p>... (3472 rows omitted)</p>"
      ],
      "text/plain": [
       "YEAR | UNIT_ID                    | FIRE_NAME        | ALARM_DATE | CAUSE         | GIS_ACRES\n",
       "1910 | Six Rivers National Forest | BLUFF CREEK      | 7/24/1910  | 4 - Campfire  | 298.717\n",
       "1910 | Six Rivers National Forest | CRAWFORD CREEK 2 | 8/7/1910   | 7 - Arson     | 497.885\n",
       "1910 | Six Rivers National Forest | MILL CREEK       | 8/15/1910  | 4 - Campfire  | 398.293\n",
       "1910 | Six Rivers National Forest | RED CAP          | 9/10/1910  | 5 - Debris    | 497.881\n",
       "1910 | Sequoia National Forest    |                  | <Null>     | 1 - Lightning | 328.55\n",
       "1910 | Sequoia National Forest    |                  | <Null>     | 1 - Lightning | 2059.64\n",
       "1910 | Modoc National Forest      |                  | <Null>     | 1 - Lightning | 1428.76\n",
       "1910 | Modoc National Forest      | GLASS MOUNTAIN   | 7/13/1910  | 1 - Lightning | 146968\n",
       "1911 | Sierra National Forest     |                  | <Null>     | 1 - Lightning | 419.395\n",
       "1911 | Six Rivers National Forest | BLUFF CREEK      | 8/30/1911  | 7 - Arson     | 1372.7\n",
       "... (3472 rows omitted)"
      ]
     },
     "execution_count": 36,
     "metadata": {},
     "output_type": "execute_result"
    }
   ],
   "source": [
    "calfires16=Table().read_table('~/URAP/google_earth_fires/data/calfires_upto2016.csv').select(0,3,4,6,8,11).where('CAUSE', are.not_equal_to('<Null>')).where('CAUSE', are.not_equal_to('9 - Miscellaneous')).where('CAUSE', are.not_equal_to('14 - Unknown / Unidentified'))\n",
    "calfires16"
   ]
  },
  {
   "cell_type": "code",
   "execution_count": 37,
   "metadata": {},
   "outputs": [
    {
     "data": {
      "text/html": [
       "<table border=\"1\" class=\"dataframe\">\n",
       "    <thead>\n",
       "        <tr>\n",
       "            <th>CAUSE</th> <th>1910</th> <th>1911</th> <th>1912</th> <th>1913</th> <th>1914</th> <th>1915</th> <th>1916</th> <th>1917</th> <th>1918</th> <th>1919</th> <th>1920</th> <th>1921</th> <th>1922</th> <th>1923</th> <th>1924</th> <th>1925</th> <th>1926</th> <th>1927</th> <th>1928</th> <th>1929</th> <th>1930</th> <th>1931</th> <th>1932</th> <th>1933</th> <th>1934</th> <th>1935</th> <th>1936</th> <th>1937</th> <th>1938</th> <th>1939</th> <th>1940</th> <th>1941</th> <th>1942</th> <th>1943</th> <th>1944</th> <th>1945</th> <th>1946</th> <th>1947</th> <th>1948</th> <th>1949</th> <th>1950</th> <th>1951</th> <th>1952</th> <th>1953</th> <th>1954</th> <th>1955</th> <th>1956</th> <th>1957</th> <th>1958</th> <th>1959</th> <th>1960</th> <th>1961</th> <th>1962</th> <th>1963</th> <th>1964</th> <th>1965</th> <th>1966</th> <th>1967</th> <th>1968</th> <th>1969</th> <th>1970</th> <th>1971</th> <th>1972</th> <th>1973</th> <th>1974</th> <th>1975</th> <th>1976</th> <th>1977</th> <th>1978</th> <th>1979</th> <th>1980</th> <th>1981</th> <th>1982</th> <th>1983</th> <th>1984</th> <th>1985</th> <th>1986</th> <th>1987</th> <th>1988</th> <th>1989</th> <th>1990</th> <th>1991</th> <th>1992</th> <th>1993</th> <th>1994</th> <th>1995</th> <th>1996</th> <th>1997</th> <th>1998</th> <th>1999</th> <th>2000</th> <th>2001</th> <th>2002</th> <th>2003</th> <th>2004</th> <th>2005</th> <th>2006</th> <th>2007</th> <th>2008</th> <th>2009</th> <th>2010</th> <th>2011</th> <th>2012</th> <th>2013</th> <th>2014</th> <th>2015</th> <th>2016</th>\n",
       "        </tr>\n",
       "    </thead>\n",
       "    <tbody>\n",
       "        <tr>\n",
       "            <td>1 - Lightning                </td> <td>4   </td> <td>4   </td> <td>1   </td> <td>3   </td> <td>3   </td> <td>3   </td> <td>3   </td> <td>26  </td> <td>20  </td> <td>4   </td> <td>20  </td> <td>2   </td> <td>4   </td> <td>2   </td> <td>22  </td> <td>7   </td> <td>14  </td> <td>4   </td> <td>5   </td> <td>4   </td> <td>2   </td> <td>3   </td> <td>3   </td> <td>0   </td> <td>4   </td> <td>3   </td> <td>2   </td> <td>1   </td> <td>8   </td> <td>12  </td> <td>3   </td> <td>2   </td> <td>1   </td> <td>3   </td> <td>5   </td> <td>4   </td> <td>5   </td> <td>3   </td> <td>0   </td> <td>10  </td> <td>12  </td> <td>13  </td> <td>3   </td> <td>16  </td> <td>1   </td> <td>13  </td> <td>6   </td> <td>2   </td> <td>4   </td> <td>6   </td> <td>10  </td> <td>8   </td> <td>3   </td> <td>4   </td> <td>2   </td> <td>4   </td> <td>6   </td> <td>4   </td> <td>0   </td> <td>3   </td> <td>1   </td> <td>1   </td> <td>10  </td> <td>7   </td> <td>8   </td> <td>3   </td> <td>3   </td> <td>16  </td> <td>16  </td> <td>10  </td> <td>19  </td> <td>9   </td> <td>4   </td> <td>4   </td> <td>19  </td> <td>16  </td> <td>8   </td> <td>94  </td> <td>33  </td> <td>2   </td> <td>28  </td> <td>11  </td> <td>17  </td> <td>4   </td> <td>21  </td> <td>8   </td> <td>37  </td> <td>11  </td> <td>6   </td> <td>63  </td> <td>8   </td> <td>24  </td> <td>14  </td> <td>76  </td> <td>18  </td> <td>33  </td> <td>75  </td> <td>37  </td> <td>140 </td> <td>28  </td> <td>24  </td> <td>43  </td> <td>27  </td> <td>14  </td> <td>20  </td> <td>55  </td> <td>11  </td>\n",
       "        </tr>\n",
       "        <tr>\n",
       "            <td>10 - Vehicle                 </td> <td>0   </td> <td>0   </td> <td>0   </td> <td>0   </td> <td>0   </td> <td>0   </td> <td>0   </td> <td>0   </td> <td>0   </td> <td>0   </td> <td>0   </td> <td>0   </td> <td>0   </td> <td>0   </td> <td>0   </td> <td>0   </td> <td>0   </td> <td>0   </td> <td>0   </td> <td>0   </td> <td>0   </td> <td>0   </td> <td>0   </td> <td>0   </td> <td>0   </td> <td>0   </td> <td>0   </td> <td>0   </td> <td>0   </td> <td>0   </td> <td>0   </td> <td>0   </td> <td>0   </td> <td>0   </td> <td>0   </td> <td>0   </td> <td>0   </td> <td>0   </td> <td>0   </td> <td>0   </td> <td>0   </td> <td>0   </td> <td>0   </td> <td>0   </td> <td>0   </td> <td>0   </td> <td>0   </td> <td>0   </td> <td>0   </td> <td>0   </td> <td>1   </td> <td>0   </td> <td>0   </td> <td>0   </td> <td>0   </td> <td>0   </td> <td>0   </td> <td>0   </td> <td>0   </td> <td>0   </td> <td>0   </td> <td>0   </td> <td>0   </td> <td>0   </td> <td>0   </td> <td>0   </td> <td>0   </td> <td>0   </td> <td>0   </td> <td>0   </td> <td>1   </td> <td>1   </td> <td>0   </td> <td>0   </td> <td>1   </td> <td>0   </td> <td>0   </td> <td>0   </td> <td>0   </td> <td>2   </td> <td>0   </td> <td>0   </td> <td>2   </td> <td>2   </td> <td>7   </td> <td>3   </td> <td>4   </td> <td>5   </td> <td>4   </td> <td>4   </td> <td>4   </td> <td>6   </td> <td>4   </td> <td>11  </td> <td>7   </td> <td>13  </td> <td>10  </td> <td>3   </td> <td>9   </td> <td>6   </td> <td>1   </td> <td>10  </td> <td>1   </td> <td>4   </td> <td>8   </td> <td>5   </td> <td>9   </td>\n",
       "        </tr>\n",
       "        <tr>\n",
       "            <td>11 - Powerline               </td> <td>0   </td> <td>0   </td> <td>0   </td> <td>0   </td> <td>0   </td> <td>0   </td> <td>0   </td> <td>0   </td> <td>0   </td> <td>0   </td> <td>0   </td> <td>0   </td> <td>0   </td> <td>0   </td> <td>0   </td> <td>0   </td> <td>0   </td> <td>0   </td> <td>0   </td> <td>0   </td> <td>0   </td> <td>0   </td> <td>0   </td> <td>0   </td> <td>0   </td> <td>0   </td> <td>0   </td> <td>0   </td> <td>0   </td> <td>0   </td> <td>0   </td> <td>0   </td> <td>0   </td> <td>0   </td> <td>0   </td> <td>0   </td> <td>0   </td> <td>0   </td> <td>0   </td> <td>0   </td> <td>0   </td> <td>0   </td> <td>0   </td> <td>0   </td> <td>0   </td> <td>0   </td> <td>0   </td> <td>0   </td> <td>0   </td> <td>1   </td> <td>0   </td> <td>0   </td> <td>0   </td> <td>0   </td> <td>0   </td> <td>0   </td> <td>0   </td> <td>0   </td> <td>0   </td> <td>0   </td> <td>0   </td> <td>0   </td> <td>0   </td> <td>0   </td> <td>0   </td> <td>0   </td> <td>0   </td> <td>1   </td> <td>0   </td> <td>0   </td> <td>0   </td> <td>0   </td> <td>0   </td> <td>0   </td> <td>1   </td> <td>0   </td> <td>0   </td> <td>0   </td> <td>0   </td> <td>0   </td> <td>1   </td> <td>0   </td> <td>5   </td> <td>5   </td> <td>1   </td> <td>9   </td> <td>6   </td> <td>8   </td> <td>5   </td> <td>6   </td> <td>4   </td> <td>2   </td> <td>12  </td> <td>3   </td> <td>6   </td> <td>4   </td> <td>5   </td> <td>8   </td> <td>4   </td> <td>6   </td> <td>5   </td> <td>5   </td> <td>6   </td> <td>2   </td> <td>2   </td> <td>3   </td> <td>3   </td>\n",
       "        </tr>\n",
       "        <tr>\n",
       "            <td>12 - Firefighter Training    </td> <td>0   </td> <td>0   </td> <td>0   </td> <td>0   </td> <td>0   </td> <td>0   </td> <td>0   </td> <td>0   </td> <td>0   </td> <td>0   </td> <td>0   </td> <td>0   </td> <td>0   </td> <td>0   </td> <td>0   </td> <td>0   </td> <td>0   </td> <td>0   </td> <td>0   </td> <td>0   </td> <td>0   </td> <td>0   </td> <td>0   </td> <td>0   </td> <td>0   </td> <td>0   </td> <td>0   </td> <td>0   </td> <td>0   </td> <td>0   </td> <td>0   </td> <td>0   </td> <td>0   </td> <td>0   </td> <td>0   </td> <td>0   </td> <td>0   </td> <td>0   </td> <td>0   </td> <td>0   </td> <td>0   </td> <td>0   </td> <td>0   </td> <td>0   </td> <td>0   </td> <td>0   </td> <td>0   </td> <td>0   </td> <td>0   </td> <td>0   </td> <td>0   </td> <td>0   </td> <td>0   </td> <td>0   </td> <td>0   </td> <td>0   </td> <td>0   </td> <td>0   </td> <td>0   </td> <td>0   </td> <td>0   </td> <td>0   </td> <td>0   </td> <td>0   </td> <td>0   </td> <td>0   </td> <td>0   </td> <td>0   </td> <td>0   </td> <td>0   </td> <td>0   </td> <td>0   </td> <td>0   </td> <td>0   </td> <td>0   </td> <td>0   </td> <td>0   </td> <td>0   </td> <td>0   </td> <td>0   </td> <td>0   </td> <td>0   </td> <td>0   </td> <td>0   </td> <td>0   </td> <td>0   </td> <td>1   </td> <td>1   </td> <td>0   </td> <td>0   </td> <td>0   </td> <td>1   </td> <td>0   </td> <td>0   </td> <td>1   </td> <td>0   </td> <td>0   </td> <td>0   </td> <td>0   </td> <td>0   </td> <td>0   </td> <td>0   </td> <td>0   </td> <td>0   </td> <td>0   </td> <td>0   </td> <td>0   </td>\n",
       "        </tr>\n",
       "        <tr>\n",
       "            <td>13 - Non-Firefighter Training</td> <td>0   </td> <td>0   </td> <td>0   </td> <td>0   </td> <td>0   </td> <td>0   </td> <td>0   </td> <td>0   </td> <td>0   </td> <td>0   </td> <td>0   </td> <td>0   </td> <td>0   </td> <td>0   </td> <td>0   </td> <td>0   </td> <td>0   </td> <td>0   </td> <td>0   </td> <td>0   </td> <td>0   </td> <td>0   </td> <td>0   </td> <td>0   </td> <td>0   </td> <td>0   </td> <td>0   </td> <td>0   </td> <td>0   </td> <td>0   </td> <td>0   </td> <td>0   </td> <td>0   </td> <td>0   </td> <td>0   </td> <td>0   </td> <td>0   </td> <td>0   </td> <td>0   </td> <td>0   </td> <td>0   </td> <td>0   </td> <td>0   </td> <td>0   </td> <td>0   </td> <td>0   </td> <td>0   </td> <td>0   </td> <td>0   </td> <td>0   </td> <td>0   </td> <td>0   </td> <td>0   </td> <td>0   </td> <td>0   </td> <td>0   </td> <td>0   </td> <td>0   </td> <td>0   </td> <td>0   </td> <td>0   </td> <td>0   </td> <td>0   </td> <td>0   </td> <td>0   </td> <td>0   </td> <td>0   </td> <td>0   </td> <td>0   </td> <td>0   </td> <td>0   </td> <td>0   </td> <td>0   </td> <td>0   </td> <td>0   </td> <td>0   </td> <td>0   </td> <td>0   </td> <td>0   </td> <td>0   </td> <td>0   </td> <td>0   </td> <td>0   </td> <td>0   </td> <td>0   </td> <td>0   </td> <td>0   </td> <td>0   </td> <td>2   </td> <td>1   </td> <td>1   </td> <td>1   </td> <td>0   </td> <td>2   </td> <td>0   </td> <td>0   </td> <td>0   </td> <td>0   </td> <td>0   </td> <td>0   </td> <td>0   </td> <td>0   </td> <td>0   </td> <td>0   </td> <td>0   </td> <td>0   </td> <td>0   </td>\n",
       "        </tr>\n",
       "        <tr>\n",
       "            <td>15 - Structure               </td> <td>0   </td> <td>0   </td> <td>0   </td> <td>0   </td> <td>0   </td> <td>0   </td> <td>0   </td> <td>0   </td> <td>0   </td> <td>0   </td> <td>0   </td> <td>0   </td> <td>0   </td> <td>0   </td> <td>0   </td> <td>0   </td> <td>0   </td> <td>0   </td> <td>0   </td> <td>0   </td> <td>0   </td> <td>0   </td> <td>0   </td> <td>0   </td> <td>0   </td> <td>0   </td> <td>0   </td> <td>0   </td> <td>0   </td> <td>1   </td> <td>0   </td> <td>0   </td> <td>0   </td> <td>0   </td> <td>0   </td> <td>0   </td> <td>0   </td> <td>0   </td> <td>0   </td> <td>0   </td> <td>0   </td> <td>0   </td> <td>0   </td> <td>0   </td> <td>1   </td> <td>0   </td> <td>0   </td> <td>0   </td> <td>0   </td> <td>0   </td> <td>0   </td> <td>0   </td> <td>0   </td> <td>0   </td> <td>0   </td> <td>0   </td> <td>0   </td> <td>0   </td> <td>0   </td> <td>0   </td> <td>0   </td> <td>0   </td> <td>0   </td> <td>0   </td> <td>0   </td> <td>0   </td> <td>0   </td> <td>0   </td> <td>0   </td> <td>0   </td> <td>0   </td> <td>0   </td> <td>0   </td> <td>0   </td> <td>0   </td> <td>0   </td> <td>0   </td> <td>0   </td> <td>0   </td> <td>0   </td> <td>0   </td> <td>0   </td> <td>0   </td> <td>0   </td> <td>0   </td> <td>0   </td> <td>0   </td> <td>0   </td> <td>0   </td> <td>0   </td> <td>0   </td> <td>0   </td> <td>0   </td> <td>1   </td> <td>1   </td> <td>0   </td> <td>0   </td> <td>1   </td> <td>0   </td> <td>2   </td> <td>0   </td> <td>1   </td> <td>0   </td> <td>0   </td> <td>0   </td> <td>0   </td> <td>1   </td>\n",
       "        </tr>\n",
       "        <tr>\n",
       "            <td>16 - Aircraft                </td> <td>0   </td> <td>0   </td> <td>0   </td> <td>0   </td> <td>0   </td> <td>0   </td> <td>0   </td> <td>0   </td> <td>0   </td> <td>0   </td> <td>0   </td> <td>0   </td> <td>0   </td> <td>0   </td> <td>0   </td> <td>0   </td> <td>0   </td> <td>0   </td> <td>0   </td> <td>0   </td> <td>0   </td> <td>0   </td> <td>0   </td> <td>0   </td> <td>0   </td> <td>0   </td> <td>0   </td> <td>0   </td> <td>0   </td> <td>0   </td> <td>0   </td> <td>0   </td> <td>0   </td> <td>0   </td> <td>0   </td> <td>0   </td> <td>0   </td> <td>0   </td> <td>0   </td> <td>0   </td> <td>0   </td> <td>0   </td> <td>0   </td> <td>0   </td> <td>0   </td> <td>0   </td> <td>0   </td> <td>0   </td> <td>0   </td> <td>0   </td> <td>0   </td> <td>0   </td> <td>0   </td> <td>0   </td> <td>0   </td> <td>0   </td> <td>0   </td> <td>1   </td> <td>0   </td> <td>0   </td> <td>0   </td> <td>0   </td> <td>0   </td> <td>0   </td> <td>0   </td> <td>0   </td> <td>0   </td> <td>0   </td> <td>0   </td> <td>0   </td> <td>0   </td> <td>0   </td> <td>0   </td> <td>0   </td> <td>0   </td> <td>0   </td> <td>0   </td> <td>0   </td> <td>0   </td> <td>0   </td> <td>0   </td> <td>0   </td> <td>0   </td> <td>0   </td> <td>0   </td> <td>0   </td> <td>0   </td> <td>0   </td> <td>0   </td> <td>0   </td> <td>0   </td> <td>0   </td> <td>0   </td> <td>3   </td> <td>0   </td> <td>1   </td> <td>0   </td> <td>0   </td> <td>0   </td> <td>0   </td> <td>0   </td> <td>1   </td> <td>0   </td> <td>0   </td> <td>0   </td> <td>0   </td> <td>1   </td>\n",
       "        </tr>\n",
       "        <tr>\n",
       "            <td>18 - Escaped Prescribed Burn </td> <td>0   </td> <td>0   </td> <td>0   </td> <td>0   </td> <td>0   </td> <td>0   </td> <td>0   </td> <td>0   </td> <td>0   </td> <td>0   </td> <td>0   </td> <td>0   </td> <td>0   </td> <td>0   </td> <td>0   </td> <td>0   </td> <td>0   </td> <td>0   </td> <td>0   </td> <td>0   </td> <td>0   </td> <td>0   </td> <td>0   </td> <td>0   </td> <td>0   </td> <td>0   </td> <td>0   </td> <td>0   </td> <td>0   </td> <td>0   </td> <td>0   </td> <td>0   </td> <td>0   </td> <td>0   </td> <td>0   </td> <td>0   </td> <td>0   </td> <td>0   </td> <td>0   </td> <td>0   </td> <td>0   </td> <td>0   </td> <td>0   </td> <td>0   </td> <td>2   </td> <td>0   </td> <td>0   </td> <td>0   </td> <td>0   </td> <td>0   </td> <td>0   </td> <td>0   </td> <td>0   </td> <td>0   </td> <td>1   </td> <td>0   </td> <td>0   </td> <td>1   </td> <td>0   </td> <td>0   </td> <td>0   </td> <td>0   </td> <td>0   </td> <td>0   </td> <td>0   </td> <td>0   </td> <td>0   </td> <td>0   </td> <td>0   </td> <td>0   </td> <td>1   </td> <td>0   </td> <td>1   </td> <td>0   </td> <td>0   </td> <td>0   </td> <td>1   </td> <td>1   </td> <td>2   </td> <td>0   </td> <td>0   </td> <td>0   </td> <td>1   </td> <td>0   </td> <td>0   </td> <td>1   </td> <td>2   </td> <td>4   </td> <td>0   </td> <td>1   </td> <td>2   </td> <td>0   </td> <td>1   </td> <td>2   </td> <td>1   </td> <td>2   </td> <td>1   </td> <td>0   </td> <td>2   </td> <td>3   </td> <td>0   </td> <td>1   </td> <td>1   </td> <td>1   </td> <td>2   </td> <td>1   </td> <td>1   </td>\n",
       "        </tr>\n",
       "        <tr>\n",
       "            <td>19 - Illegal Alien Campfire  </td> <td>0   </td> <td>0   </td> <td>0   </td> <td>0   </td> <td>0   </td> <td>0   </td> <td>0   </td> <td>0   </td> <td>0   </td> <td>0   </td> <td>0   </td> <td>0   </td> <td>0   </td> <td>0   </td> <td>0   </td> <td>0   </td> <td>0   </td> <td>0   </td> <td>0   </td> <td>0   </td> <td>0   </td> <td>0   </td> <td>0   </td> <td>0   </td> <td>0   </td> <td>0   </td> <td>0   </td> <td>0   </td> <td>0   </td> <td>0   </td> <td>0   </td> <td>0   </td> <td>0   </td> <td>0   </td> <td>0   </td> <td>0   </td> <td>0   </td> <td>0   </td> <td>0   </td> <td>0   </td> <td>0   </td> <td>0   </td> <td>0   </td> <td>0   </td> <td>0   </td> <td>0   </td> <td>0   </td> <td>0   </td> <td>0   </td> <td>0   </td> <td>0   </td> <td>0   </td> <td>0   </td> <td>0   </td> <td>0   </td> <td>0   </td> <td>0   </td> <td>0   </td> <td>0   </td> <td>0   </td> <td>0   </td> <td>0   </td> <td>0   </td> <td>0   </td> <td>0   </td> <td>0   </td> <td>0   </td> <td>0   </td> <td>0   </td> <td>0   </td> <td>0   </td> <td>0   </td> <td>0   </td> <td>0   </td> <td>0   </td> <td>0   </td> <td>0   </td> <td>0   </td> <td>0   </td> <td>0   </td> <td>0   </td> <td>0   </td> <td>0   </td> <td>0   </td> <td>0   </td> <td>0   </td> <td>0   </td> <td>0   </td> <td>0   </td> <td>0   </td> <td>0   </td> <td>0   </td> <td>0   </td> <td>0   </td> <td>0   </td> <td>4   </td> <td>0   </td> <td>0   </td> <td>0   </td> <td>0   </td> <td>0   </td> <td>0   </td> <td>0   </td> <td>0   </td> <td>0   </td> <td>0   </td> <td>0   </td>\n",
       "        </tr>\n",
       "        <tr>\n",
       "            <td>2 - Equipment Use            </td> <td>0   </td> <td>0   </td> <td>0   </td> <td>0   </td> <td>0   </td> <td>0   </td> <td>1   </td> <td>0   </td> <td>0   </td> <td>0   </td> <td>0   </td> <td>0   </td> <td>0   </td> <td>0   </td> <td>1   </td> <td>0   </td> <td>0   </td> <td>0   </td> <td>2   </td> <td>0   </td> <td>0   </td> <td>0   </td> <td>2   </td> <td>1   </td> <td>0   </td> <td>0   </td> <td>0   </td> <td>0   </td> <td>0   </td> <td>0   </td> <td>0   </td> <td>0   </td> <td>0   </td> <td>0   </td> <td>5   </td> <td>0   </td> <td>0   </td> <td>0   </td> <td>0   </td> <td>1   </td> <td>1   </td> <td>1   </td> <td>1   </td> <td>0   </td> <td>2   </td> <td>2   </td> <td>0   </td> <td>0   </td> <td>0   </td> <td>3   </td> <td>1   </td> <td>1   </td> <td>0   </td> <td>0   </td> <td>1   </td> <td>0   </td> <td>0   </td> <td>1   </td> <td>0   </td> <td>3   </td> <td>3   </td> <td>2   </td> <td>1   </td> <td>5   </td> <td>2   </td> <td>3   </td> <td>0   </td> <td>0   </td> <td>3   </td> <td>4   </td> <td>7   </td> <td>14  </td> <td>10  </td> <td>15  </td> <td>8   </td> <td>18  </td> <td>8   </td> <td>12  </td> <td>13  </td> <td>12  </td> <td>3   </td> <td>2   </td> <td>13  </td> <td>12  </td> <td>13  </td> <td>15  </td> <td>31  </td> <td>12  </td> <td>12  </td> <td>17  </td> <td>10  </td> <td>14  </td> <td>11  </td> <td>25  </td> <td>21  </td> <td>17  </td> <td>13  </td> <td>16  </td> <td>9   </td> <td>11  </td> <td>14  </td> <td>16  </td> <td>14  </td> <td>6   </td> <td>3   </td> <td>8   </td> <td>11  </td>\n",
       "        </tr>\n",
       "        <tr>\n",
       "            <td>3 - Smoking                  </td> <td>0   </td> <td>0   </td> <td>0   </td> <td>0   </td> <td>0   </td> <td>0   </td> <td>0   </td> <td>0   </td> <td>0   </td> <td>0   </td> <td>0   </td> <td>0   </td> <td>1   </td> <td>0   </td> <td>1   </td> <td>0   </td> <td>3   </td> <td>0   </td> <td>0   </td> <td>1   </td> <td>1   </td> <td>2   </td> <td>0   </td> <td>2   </td> <td>3   </td> <td>0   </td> <td>0   </td> <td>0   </td> <td>0   </td> <td>3   </td> <td>1   </td> <td>0   </td> <td>0   </td> <td>0   </td> <td>1   </td> <td>1   </td> <td>1   </td> <td>4   </td> <td>1   </td> <td>3   </td> <td>2   </td> <td>3   </td> <td>0   </td> <td>0   </td> <td>3   </td> <td>2   </td> <td>1   </td> <td>0   </td> <td>0   </td> <td>4   </td> <td>2   </td> <td>0   </td> <td>0   </td> <td>0   </td> <td>1   </td> <td>2   </td> <td>2   </td> <td>0   </td> <td>1   </td> <td>0   </td> <td>5   </td> <td>3   </td> <td>3   </td> <td>1   </td> <td>2   </td> <td>4   </td> <td>3   </td> <td>2   </td> <td>1   </td> <td>3   </td> <td>0   </td> <td>2   </td> <td>3   </td> <td>1   </td> <td>3   </td> <td>3   </td> <td>3   </td> <td>1   </td> <td>6   </td> <td>3   </td> <td>1   </td> <td>1   </td> <td>2   </td> <td>1   </td> <td>4   </td> <td>7   </td> <td>3   </td> <td>3   </td> <td>1   </td> <td>2   </td> <td>1   </td> <td>1   </td> <td>3   </td> <td>0   </td> <td>1   </td> <td>1   </td> <td>1   </td> <td>1   </td> <td>1   </td> <td>1   </td> <td>0   </td> <td>1   </td> <td>1   </td> <td>2   </td> <td>0   </td> <td>0   </td> <td>1   </td>\n",
       "        </tr>\n",
       "        <tr>\n",
       "            <td>4 - Campfire                 </td> <td>2   </td> <td>0   </td> <td>0   </td> <td>0   </td> <td>0   </td> <td>0   </td> <td>0   </td> <td>0   </td> <td>0   </td> <td>0   </td> <td>0   </td> <td>2   </td> <td>2   </td> <td>0   </td> <td>0   </td> <td>0   </td> <td>0   </td> <td>0   </td> <td>0   </td> <td>1   </td> <td>0   </td> <td>1   </td> <td>0   </td> <td>0   </td> <td>1   </td> <td>0   </td> <td>0   </td> <td>0   </td> <td>0   </td> <td>0   </td> <td>1   </td> <td>0   </td> <td>0   </td> <td>0   </td> <td>0   </td> <td>0   </td> <td>0   </td> <td>0   </td> <td>1   </td> <td>1   </td> <td>0   </td> <td>1   </td> <td>0   </td> <td>0   </td> <td>1   </td> <td>0   </td> <td>0   </td> <td>0   </td> <td>0   </td> <td>1   </td> <td>0   </td> <td>0   </td> <td>1   </td> <td>0   </td> <td>0   </td> <td>0   </td> <td>2   </td> <td>0   </td> <td>0   </td> <td>0   </td> <td>6   </td> <td>2   </td> <td>5   </td> <td>1   </td> <td>3   </td> <td>3   </td> <td>1   </td> <td>3   </td> <td>1   </td> <td>3   </td> <td>3   </td> <td>4   </td> <td>1   </td> <td>0   </td> <td>7   </td> <td>3   </td> <td>4   </td> <td>0   </td> <td>4   </td> <td>3   </td> <td>1   </td> <td>4   </td> <td>2   </td> <td>3   </td> <td>3   </td> <td>4   </td> <td>9   </td> <td>1   </td> <td>2   </td> <td>5   </td> <td>5   </td> <td>5   </td> <td>5   </td> <td>3   </td> <td>2   </td> <td>8   </td> <td>5   </td> <td>8   </td> <td>6   </td> <td>3   </td> <td>1   </td> <td>3   </td> <td>5   </td> <td>6   </td> <td>3   </td> <td>2   </td> <td>3   </td>\n",
       "        </tr>\n",
       "        <tr>\n",
       "            <td>5 - Debris                   </td> <td>1   </td> <td>0   </td> <td>0   </td> <td>0   </td> <td>0   </td> <td>1   </td> <td>2   </td> <td>8   </td> <td>2   </td> <td>0   </td> <td>1   </td> <td>0   </td> <td>3   </td> <td>0   </td> <td>1   </td> <td>2   </td> <td>2   </td> <td>0   </td> <td>4   </td> <td>14  </td> <td>3   </td> <td>0   </td> <td>4   </td> <td>0   </td> <td>1   </td> <td>0   </td> <td>6   </td> <td>0   </td> <td>0   </td> <td>2   </td> <td>0   </td> <td>0   </td> <td>0   </td> <td>0   </td> <td>3   </td> <td>0   </td> <td>1   </td> <td>1   </td> <td>0   </td> <td>1   </td> <td>0   </td> <td>0   </td> <td>2   </td> <td>0   </td> <td>0   </td> <td>1   </td> <td>0   </td> <td>0   </td> <td>0   </td> <td>2   </td> <td>2   </td> <td>1   </td> <td>1   </td> <td>0   </td> <td>1   </td> <td>0   </td> <td>1   </td> <td>1   </td> <td>3   </td> <td>0   </td> <td>2   </td> <td>3   </td> <td>1   </td> <td>2   </td> <td>1   </td> <td>1   </td> <td>2   </td> <td>2   </td> <td>3   </td> <td>1   </td> <td>2   </td> <td>4   </td> <td>3   </td> <td>2   </td> <td>3   </td> <td>4   </td> <td>4   </td> <td>3   </td> <td>4   </td> <td>2   </td> <td>2   </td> <td>4   </td> <td>0   </td> <td>2   </td> <td>4   </td> <td>5   </td> <td>6   </td> <td>2   </td> <td>0   </td> <td>4   </td> <td>4   </td> <td>7   </td> <td>10  </td> <td>6   </td> <td>5   </td> <td>1   </td> <td>5   </td> <td>5   </td> <td>4   </td> <td>2   </td> <td>1   </td> <td>3   </td> <td>4   </td> <td>4   </td> <td>3   </td> <td>4   </td> <td>2   </td>\n",
       "        </tr>\n",
       "        <tr>\n",
       "            <td>6 - Railroad                 </td> <td>0   </td> <td>0   </td> <td>0   </td> <td>0   </td> <td>0   </td> <td>0   </td> <td>0   </td> <td>0   </td> <td>0   </td> <td>0   </td> <td>0   </td> <td>0   </td> <td>0   </td> <td>0   </td> <td>0   </td> <td>0   </td> <td>0   </td> <td>0   </td> <td>0   </td> <td>0   </td> <td>0   </td> <td>0   </td> <td>0   </td> <td>0   </td> <td>0   </td> <td>0   </td> <td>0   </td> <td>0   </td> <td>1   </td> <td>0   </td> <td>0   </td> <td>0   </td> <td>0   </td> <td>0   </td> <td>0   </td> <td>1   </td> <td>0   </td> <td>0   </td> <td>0   </td> <td>0   </td> <td>0   </td> <td>0   </td> <td>0   </td> <td>0   </td> <td>0   </td> <td>0   </td> <td>0   </td> <td>2   </td> <td>0   </td> <td>0   </td> <td>0   </td> <td>0   </td> <td>0   </td> <td>1   </td> <td>0   </td> <td>0   </td> <td>0   </td> <td>0   </td> <td>0   </td> <td>0   </td> <td>1   </td> <td>2   </td> <td>0   </td> <td>1   </td> <td>0   </td> <td>1   </td> <td>0   </td> <td>0   </td> <td>1   </td> <td>0   </td> <td>0   </td> <td>0   </td> <td>0   </td> <td>0   </td> <td>0   </td> <td>0   </td> <td>0   </td> <td>1   </td> <td>0   </td> <td>0   </td> <td>1   </td> <td>0   </td> <td>0   </td> <td>0   </td> <td>1   </td> <td>0   </td> <td>0   </td> <td>0   </td> <td>0   </td> <td>0   </td> <td>4   </td> <td>2   </td> <td>1   </td> <td>1   </td> <td>1   </td> <td>2   </td> <td>0   </td> <td>1   </td> <td>2   </td> <td>0   </td> <td>1   </td> <td>2   </td> <td>0   </td> <td>0   </td> <td>1   </td> <td>0   </td> <td>1   </td>\n",
       "        </tr>\n",
       "        <tr>\n",
       "            <td>7 - Arson                    </td> <td>1   </td> <td>2   </td> <td>0   </td> <td>0   </td> <td>0   </td> <td>0   </td> <td>0   </td> <td>0   </td> <td>0   </td> <td>0   </td> <td>0   </td> <td>0   </td> <td>0   </td> <td>0   </td> <td>1   </td> <td>0   </td> <td>2   </td> <td>0   </td> <td>0   </td> <td>0   </td> <td>0   </td> <td>1   </td> <td>2   </td> <td>1   </td> <td>2   </td> <td>1   </td> <td>0   </td> <td>0   </td> <td>0   </td> <td>5   </td> <td>1   </td> <td>0   </td> <td>0   </td> <td>0   </td> <td>0   </td> <td>0   </td> <td>0   </td> <td>0   </td> <td>0   </td> <td>0   </td> <td>0   </td> <td>0   </td> <td>0   </td> <td>0   </td> <td>0   </td> <td>0   </td> <td>0   </td> <td>1   </td> <td>0   </td> <td>0   </td> <td>0   </td> <td>1   </td> <td>0   </td> <td>0   </td> <td>0   </td> <td>0   </td> <td>1   </td> <td>1   </td> <td>2   </td> <td>0   </td> <td>2   </td> <td>5   </td> <td>8   </td> <td>3   </td> <td>5   </td> <td>3   </td> <td>2   </td> <td>2   </td> <td>5   </td> <td>5   </td> <td>9   </td> <td>22  </td> <td>14  </td> <td>16  </td> <td>11  </td> <td>14  </td> <td>10  </td> <td>9   </td> <td>15  </td> <td>5   </td> <td>4   </td> <td>2   </td> <td>7   </td> <td>10  </td> <td>13  </td> <td>13  </td> <td>27  </td> <td>12  </td> <td>11  </td> <td>12  </td> <td>10  </td> <td>18  </td> <td>15  </td> <td>15  </td> <td>16  </td> <td>11  </td> <td>12  </td> <td>7   </td> <td>13  </td> <td>7   </td> <td>3   </td> <td>4   </td> <td>10  </td> <td>6   </td> <td>2   </td> <td>7   </td> <td>9   </td>\n",
       "        </tr>\n",
       "        <tr>\n",
       "            <td>8 - Playing with fire        </td> <td>0   </td> <td>0   </td> <td>0   </td> <td>0   </td> <td>0   </td> <td>0   </td> <td>0   </td> <td>0   </td> <td>0   </td> <td>0   </td> <td>0   </td> <td>0   </td> <td>0   </td> <td>0   </td> <td>0   </td> <td>0   </td> <td>0   </td> <td>0   </td> <td>0   </td> <td>0   </td> <td>0   </td> <td>0   </td> <td>0   </td> <td>0   </td> <td>0   </td> <td>0   </td> <td>0   </td> <td>0   </td> <td>0   </td> <td>1   </td> <td>0   </td> <td>0   </td> <td>0   </td> <td>0   </td> <td>0   </td> <td>0   </td> <td>0   </td> <td>1   </td> <td>0   </td> <td>0   </td> <td>0   </td> <td>0   </td> <td>0   </td> <td>0   </td> <td>0   </td> <td>0   </td> <td>0   </td> <td>1   </td> <td>0   </td> <td>0   </td> <td>0   </td> <td>0   </td> <td>0   </td> <td>0   </td> <td>0   </td> <td>0   </td> <td>0   </td> <td>0   </td> <td>0   </td> <td>0   </td> <td>1   </td> <td>0   </td> <td>1   </td> <td>0   </td> <td>1   </td> <td>2   </td> <td>0   </td> <td>0   </td> <td>0   </td> <td>2   </td> <td>0   </td> <td>7   </td> <td>1   </td> <td>3   </td> <td>1   </td> <td>3   </td> <td>2   </td> <td>4   </td> <td>5   </td> <td>1   </td> <td>1   </td> <td>0   </td> <td>2   </td> <td>5   </td> <td>0   </td> <td>1   </td> <td>4   </td> <td>3   </td> <td>1   </td> <td>1   </td> <td>1   </td> <td>0   </td> <td>1   </td> <td>1   </td> <td>2   </td> <td>2   </td> <td>1   </td> <td>3   </td> <td>3   </td> <td>0   </td> <td>3   </td> <td>1   </td> <td>1   </td> <td>1   </td> <td>0   </td> <td>2   </td> <td>1   </td>\n",
       "        </tr>\n",
       "    </tbody>\n",
       "</table>"
      ],
      "text/plain": [
       "<IPython.core.display.HTML object>"
      ]
     },
     "metadata": {},
     "output_type": "display_data"
    }
   ],
   "source": [
    "calfires16.pivot('YEAR','CAUSE').show(20)"
   ]
  },
  {
   "cell_type": "markdown",
   "metadata": {},
   "source": [
    "As we can see, human-caused fires occur more often in the 21st century!"
   ]
  },
  {
   "cell_type": "code",
   "execution_count": 38,
   "metadata": {},
   "outputs": [],
   "source": [
    "import plotly.tools as tls\n",
    "%matplotlib inline\n",
    "import matplotlib.pyplot as plt\n",
    "import matplotlib\n"
   ]
  },
  {
   "cell_type": "code",
   "execution_count": 39,
   "metadata": {},
   "outputs": [
    {
     "data": {
      "text/html": [
       "<table border=\"1\" class=\"dataframe\">\n",
       "    <thead>\n",
       "        <tr>\n",
       "            <th>CAUSE</th> <th>count</th>\n",
       "        </tr>\n",
       "    </thead>\n",
       "    <tbody>\n",
       "        <tr>\n",
       "            <td>1 - Lightning               </td> <td>1485 </td>\n",
       "        </tr>\n",
       "        <tr>\n",
       "            <td>2 - Equipment Use           </td> <td>519  </td>\n",
       "        </tr>\n",
       "        <tr>\n",
       "            <td>7 - Arson                   </td> <td>466  </td>\n",
       "        </tr>\n",
       "        <tr>\n",
       "            <td>5 - Debris                  </td> <td>226  </td>\n",
       "        </tr>\n",
       "        <tr>\n",
       "            <td>4 - Campfire                </td> <td>182  </td>\n",
       "        </tr>\n",
       "        <tr>\n",
       "            <td>10 - Vehicle                </td> <td>148  </td>\n",
       "        </tr>\n",
       "        <tr>\n",
       "            <td>3 - Smoking                 </td> <td>145  </td>\n",
       "        </tr>\n",
       "        <tr>\n",
       "            <td>11 - Powerline              </td> <td>129  </td>\n",
       "        </tr>\n",
       "        <tr>\n",
       "            <td>8 - Playing with fire       </td> <td>78   </td>\n",
       "        </tr>\n",
       "        <tr>\n",
       "            <td>18 - Escaped Prescribed Burn</td> <td>40   </td>\n",
       "        </tr>\n",
       "    </tbody>\n",
       "</table>\n",
       "<p>... (6 rows omitted)</p>"
      ],
      "text/plain": [
       "CAUSE                        | count\n",
       "1 - Lightning                | 1485\n",
       "2 - Equipment Use            | 519\n",
       "7 - Arson                    | 466\n",
       "5 - Debris                   | 226\n",
       "4 - Campfire                 | 182\n",
       "10 - Vehicle                 | 148\n",
       "3 - Smoking                  | 145\n",
       "11 - Powerline               | 129\n",
       "8 - Playing with fire        | 78\n",
       "18 - Escaped Prescribed Burn | 40\n",
       "... (6 rows omitted)"
      ]
     },
     "execution_count": 39,
     "metadata": {},
     "output_type": "execute_result"
    }
   ],
   "source": [
    "causes16=calfires16.group('CAUSE').sort('count', descending=True)\n",
    "causes16"
   ]
  },
  {
   "cell_type": "code",
   "execution_count": 40,
   "metadata": {},
   "outputs": [
    {
     "data": {
      "image/png": "[encoded data removed]",
      "text/plain": [
       "<matplotlib.figure.Figure at 0x2164553a198>"
      ]
     },
     "metadata": {},
     "output_type": "display_data"
    }
   ],
   "source": [
    "causes16.barh('CAUSE')"
   ]
  },
  {
   "cell_type": "code",
   "execution_count": null,
   "metadata": {},
   "outputs": [],
   "source": []
  }
 ],
 "metadata": {
  "kernelspec": {
   "display_name": "Python 3",
   "language": "python",
   "name": "python3"
  },
  "language_info": {
   "codemirror_mode": {
    "name": "ipython",
    "version": 3
   },
   "file_extension": ".py",
   "mimetype": "text/x-python",
   "name": "python",
   "nbconvert_exporter": "python",
   "pygments_lexer": "ipython3",
   "version": "3.6.4"
  }
 },
 "nbformat": 4,
 "nbformat_minor": 2
}
