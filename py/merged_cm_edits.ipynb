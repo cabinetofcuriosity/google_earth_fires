{
 "cells": [
  {
   "cell_type": "markdown",
   "metadata": {},
   "source": [
    "# Google Earth Engine- Plotting Fire Data on a Bubble Map "
   ]
  },
  {
   "cell_type": "markdown",
   "metadata": {},
   "source": [
    "My name is Winifred, and I am a second-year student studying Computer Science at UC Berkeley. I was first exposed to data science one year ago and quickly realized just how applicable it is to various fields of study. After joining the Cabinet of Curiosity team, I learned more about existing natural history databases and collaborated with other team members to dive into and study these databases. I became particularly interested in the [Google Earth Engine database](https://earthengine.google.com/) and the vast amount of geophysical, climate, and imagery data it contained. Data visualization was also something I wanted to learn more about, which led me to exploring California wildfire data from the Earth Engine database and using Plotly to create a map that represented this data.. "
   ]
  },
  {
   "cell_type": "markdown",
   "metadata": {},
   "source": [
    "## Acquiring Data From Google Earth Engine\n",
    "\n",
    "Google Earth Engine hosts satellite imagery and other geospatial data and is a tool that allows for analysis of these datasets, which are made available for global-scale data mining. Images of Earth may go back more than 40 years and are ingested on a daily basis. Datasets include the USGS/NASA Landsat catalog, precipitation data, elevation data, and many more. Earth Engine also allows users to upload their own data for analysis. \n",
    "\n",
    "Earth Engine has been used in many interesting case studies, such as the [Map of Life](http://species.mol.org/species/map/Perdix_dauurica), as well as analysis of [global forest cover change](http://species.mol.org/species/map/Perdix_dauurica)."
   ]
  },
  {
   "cell_type": "markdown",
   "metadata": {},
   "source": [
    "## Downloading Data \n",
    "\n",
    "Browse the [Data Catalog](https://developers.google.com/earth-engine/datasets/catalog/) to find a dataset that interests you. I picked one that contains [data about fires](https://developers.google.com/earth-engine/datasets/catalog/FIRMS). Notice the link  listed under the \"Dataset Provider\" section."
   ]
  },
  {
   "cell_type": "markdown",
   "metadata": {},
   "source": [
    "<img src = \"../images/dataset_provider.PNG\">\n"
   ]
  },
  {
   "cell_type": "markdown",
   "metadata": {},
   "source": [
    "FIRMS provides \"active fire data\", which consists of data from the past 24 hours, 48 hours, and 7 days. However, because FIRMS data dates back to November 2000, I wanted to know how to download data older than 7 days.\n",
    "\n",
    "Once you've reached the FIRMS dataset provider link, scroll down and select \"Archive Download.\" Then, click on \"Create New Request.\" "
   ]
  },
  {
   "cell_type": "markdown",
   "metadata": {},
   "source": [
    "<img src='../images/nasa_page.PNG'>"
   ]
  },
  {
   "cell_type": "markdown",
   "metadata": {},
   "source": [
    "<img src='../images/archive_page.png'>"
   ]
  },
  {
   "cell_type": "markdown",
   "metadata": {},
   "source": [
    "I wanted to narrow down the data to Southern California wildfires, so in the Download Request box, I decided to get data on a custom region and drew a polygon that roughly enclosed California. For fire data source, I chose VIIRS, which is an instrument  used to detect fires and gather data. My date range of choice was September 1st 2017 to September 1st 2018, and I decided to download it as a .csv file. Finally, you must enter your email so that FIRMS can send the data to you. You should receive an email within a few days."
   ]
  },
  {
   "cell_type": "markdown",
   "metadata": {},
   "source": [
    "<img src='../images/download_request.png'>"
   ]
  },
  {
   "cell_type": "markdown",
   "metadata": {},
   "source": [
    "Once you receive the email, just download the .csv file, and you're ready to go! "
   ]
  },
  {
   "cell_type": "markdown",
   "metadata": {},
   "source": [
    "## Using Plotly for Python \n",
    "\n",
    "[Plotly](https://plot.ly/#/) has a [Python library](https://plot.ly/python/) that allows you to create interactive data visualizations online, such as line plots, scatter maps, heatmaps, and 3D network graphs. In this tutorial, we will create a bubble map that visualizes wildfire data in California (based on the FIRMS data we acquired). \n",
    "\n",
    "I knew I wanted to visualize the data using a map, and after looking at many different graphing libraries, I decided to use Plotly. Plotly seemed to be the most user-friendly because the website had very thorough [map tutorials](https://plot.ly/python/maps/) and easy-to-follow [documentation](https://plot.ly/python/reference/#scattergeo). Additionally, Plotly hosts graphs, which can be embedded anywhere. These graphs are saved in your account.  "
   ]
  },
  {
   "cell_type": "markdown",
   "metadata": {},
   "source": [
    "First, install Plotly's Python package using\n",
    "\n",
    "``` pip install plotly```"
   ]
  },
  {
   "cell_type": "markdown",
   "metadata": {},
   "source": [
    "Next, [create an account](https://plot.ly/Auth/login/?action=signup&next=%2Fsettings%2Fapi#/) and obtain your API key. This will be used to set your credentials. "
   ]
  },
  {
   "cell_type": "markdown",
   "metadata": {},
   "source": [
    "Now, you're ready to fire up Python and set up your credentials: \n",
    "\n",
    "```import plotly \n",
    "plotly.tools.set_credentials_file(username='your_username', api_key='your_api_key') ```\n"
   ]
  },
  {
   "cell_type": "markdown",
   "metadata": {},
   "source": [
    "Once that is done, let's import some libraries that we will use in this tutorial:"
   ]
  },
  {
   "cell_type": "code",
   "execution_count": 1,
   "metadata": {},
   "outputs": [],
   "source": [
    "import plotly.plotly as py\n",
    "import pandas as pd\n",
    "from datascience import *\n",
    "import numpy as np\n",
    "\n",
    "#included for distribution figures.\n",
    "import seaborn as sns\n",
    "import matplotlib.pyplot as plt\n",
    "from scipy import stats"
   ]
  },
  {
   "cell_type": "markdown",
   "metadata": {},
   "source": [
    "## Using the FIRMS dataset"
   ]
  },
  {
   "cell_type": "markdown",
   "metadata": {},
   "source": [
    "Our FIRMS dataset is quite big, so let's narrow it down to just a few points on the map. I'd like to plot 5 bright, 5 moderately bright, and 5 dim wildfires in the dataset. \n",
    "\n",
    "First, let's load the .csv file into a table:"
   ]
  },
  {
   "cell_type": "code",
   "execution_count": 2,
   "metadata": {},
   "outputs": [
    {
     "data": {
      "text/html": [
       "<div>\n",
       "<style scoped>\n",
       "    .dataframe tbody tr th:only-of-type {\n",
       "        vertical-align: middle;\n",
       "    }\n",
       "\n",
       "    .dataframe tbody tr th {\n",
       "        vertical-align: top;\n",
       "    }\n",
       "\n",
       "    .dataframe thead th {\n",
       "        text-align: right;\n",
       "    }\n",
       "</style>\n",
       "<table border=\"1\" class=\"dataframe\">\n",
       "  <thead>\n",
       "    <tr style=\"text-align: right;\">\n",
       "      <th></th>\n",
       "      <th>latitude</th>\n",
       "      <th>longitude</th>\n",
       "      <th>brightness</th>\n",
       "      <th>scan</th>\n",
       "      <th>track</th>\n",
       "      <th>acq_date</th>\n",
       "      <th>acq_time</th>\n",
       "      <th>satellite</th>\n",
       "      <th>instrument</th>\n",
       "      <th>confidence</th>\n",
       "      <th>version</th>\n",
       "      <th>bright_t31</th>\n",
       "      <th>frp</th>\n",
       "      <th>type</th>\n",
       "    </tr>\n",
       "  </thead>\n",
       "  <tbody>\n",
       "    <tr>\n",
       "      <th>0</th>\n",
       "      <td>36.234</td>\n",
       "      <td>-118.430</td>\n",
       "      <td>321.9</td>\n",
       "      <td>1.0</td>\n",
       "      <td>1.0</td>\n",
       "      <td>2017-10-07</td>\n",
       "      <td>1845</td>\n",
       "      <td>Terra</td>\n",
       "      <td>MODIS</td>\n",
       "      <td>44</td>\n",
       "      <td>6.1</td>\n",
       "      <td>302.5</td>\n",
       "      <td>14.5</td>\n",
       "      <td>0</td>\n",
       "    </tr>\n",
       "    <tr>\n",
       "      <th>1</th>\n",
       "      <td>36.258</td>\n",
       "      <td>-118.421</td>\n",
       "      <td>319.4</td>\n",
       "      <td>4.7</td>\n",
       "      <td>2.0</td>\n",
       "      <td>2017-10-15</td>\n",
       "      <td>1756</td>\n",
       "      <td>Terra</td>\n",
       "      <td>MODIS</td>\n",
       "      <td>72</td>\n",
       "      <td>6.1</td>\n",
       "      <td>294.9</td>\n",
       "      <td>138.7</td>\n",
       "      <td>0</td>\n",
       "    </tr>\n",
       "    <tr>\n",
       "      <th>2</th>\n",
       "      <td>36.259</td>\n",
       "      <td>-118.425</td>\n",
       "      <td>318.2</td>\n",
       "      <td>4.7</td>\n",
       "      <td>2.0</td>\n",
       "      <td>2017-10-15</td>\n",
       "      <td>1756</td>\n",
       "      <td>Terra</td>\n",
       "      <td>MODIS</td>\n",
       "      <td>44</td>\n",
       "      <td>6.1</td>\n",
       "      <td>294.4</td>\n",
       "      <td>118.3</td>\n",
       "      <td>0</td>\n",
       "    </tr>\n",
       "    <tr>\n",
       "      <th>3</th>\n",
       "      <td>36.256</td>\n",
       "      <td>-118.420</td>\n",
       "      <td>345.1</td>\n",
       "      <td>1.1</td>\n",
       "      <td>1.0</td>\n",
       "      <td>2017-10-15</td>\n",
       "      <td>2112</td>\n",
       "      <td>Aqua</td>\n",
       "      <td>MODIS</td>\n",
       "      <td>92</td>\n",
       "      <td>6.1</td>\n",
       "      <td>298.3</td>\n",
       "      <td>50.0</td>\n",
       "      <td>0</td>\n",
       "    </tr>\n",
       "    <tr>\n",
       "      <th>4</th>\n",
       "      <td>36.272</td>\n",
       "      <td>-118.429</td>\n",
       "      <td>326.3</td>\n",
       "      <td>1.1</td>\n",
       "      <td>1.0</td>\n",
       "      <td>2017-10-16</td>\n",
       "      <td>1839</td>\n",
       "      <td>Terra</td>\n",
       "      <td>MODIS</td>\n",
       "      <td>71</td>\n",
       "      <td>6.1</td>\n",
       "      <td>293.0</td>\n",
       "      <td>23.1</td>\n",
       "      <td>0</td>\n",
       "    </tr>\n",
       "  </tbody>\n",
       "</table>\n",
       "</div>"
      ],
      "text/plain": [
       "   latitude  longitude  brightness  scan  track    acq_date  acq_time  \\\n",
       "0    36.234   -118.430       321.9   1.0    1.0  2017-10-07      1845   \n",
       "1    36.258   -118.421       319.4   4.7    2.0  2017-10-15      1756   \n",
       "2    36.259   -118.425       318.2   4.7    2.0  2017-10-15      1756   \n",
       "3    36.256   -118.420       345.1   1.1    1.0  2017-10-15      2112   \n",
       "4    36.272   -118.429       326.3   1.1    1.0  2017-10-16      1839   \n",
       "\n",
       "  satellite instrument  confidence  version  bright_t31    frp  type  \n",
       "0     Terra      MODIS          44      6.1       302.5   14.5     0  \n",
       "1     Terra      MODIS          72      6.1       294.9  138.7     0  \n",
       "2     Terra      MODIS          44      6.1       294.4  118.3     0  \n",
       "3      Aqua      MODIS          92      6.1       298.3   50.0     0  \n",
       "4     Terra      MODIS          71      6.1       293.0   23.1     0  "
      ]
     },
     "execution_count": 2,
     "metadata": {},
     "output_type": "execute_result"
    }
   ],
   "source": [
    "data= pd.read_csv('../data/SoCal_fires.csv')  \n",
    "data.head()"
   ]
  },
  {
   "cell_type": "markdown",
   "metadata": {},
   "source": [
    "## Filtering the data"
   ]
  },
  {
   "cell_type": "markdown",
   "metadata": {},
   "source": [
    "Now, let's select our columns of interest. For the purposes of this tutorial, we care about the latitude, longitude, brightness, and dates of our data."
   ]
  },
  {
   "cell_type": "code",
   "execution_count": 3,
   "metadata": {},
   "outputs": [
    {
     "data": {
      "text/html": [
       "<div>\n",
       "<style scoped>\n",
       "    .dataframe tbody tr th:only-of-type {\n",
       "        vertical-align: middle;\n",
       "    }\n",
       "\n",
       "    .dataframe tbody tr th {\n",
       "        vertical-align: top;\n",
       "    }\n",
       "\n",
       "    .dataframe thead th {\n",
       "        text-align: right;\n",
       "    }\n",
       "</style>\n",
       "<table border=\"1\" class=\"dataframe\">\n",
       "  <thead>\n",
       "    <tr style=\"text-align: right;\">\n",
       "      <th></th>\n",
       "      <th>latitude</th>\n",
       "      <th>longitude</th>\n",
       "      <th>brightness</th>\n",
       "      <th>acq_date</th>\n",
       "    </tr>\n",
       "  </thead>\n",
       "  <tbody>\n",
       "    <tr>\n",
       "      <th>0</th>\n",
       "      <td>36.234</td>\n",
       "      <td>-118.430</td>\n",
       "      <td>321.9</td>\n",
       "      <td>2017-10-07</td>\n",
       "    </tr>\n",
       "    <tr>\n",
       "      <th>1</th>\n",
       "      <td>36.258</td>\n",
       "      <td>-118.421</td>\n",
       "      <td>319.4</td>\n",
       "      <td>2017-10-15</td>\n",
       "    </tr>\n",
       "    <tr>\n",
       "      <th>2</th>\n",
       "      <td>36.259</td>\n",
       "      <td>-118.425</td>\n",
       "      <td>318.2</td>\n",
       "      <td>2017-10-15</td>\n",
       "    </tr>\n",
       "    <tr>\n",
       "      <th>3</th>\n",
       "      <td>36.256</td>\n",
       "      <td>-118.420</td>\n",
       "      <td>345.1</td>\n",
       "      <td>2017-10-15</td>\n",
       "    </tr>\n",
       "    <tr>\n",
       "      <th>4</th>\n",
       "      <td>36.272</td>\n",
       "      <td>-118.429</td>\n",
       "      <td>326.3</td>\n",
       "      <td>2017-10-16</td>\n",
       "    </tr>\n",
       "  </tbody>\n",
       "</table>\n",
       "</div>"
      ],
      "text/plain": [
       "   latitude  longitude  brightness    acq_date\n",
       "0    36.234   -118.430       321.9  2017-10-07\n",
       "1    36.258   -118.421       319.4  2017-10-15\n",
       "2    36.259   -118.425       318.2  2017-10-15\n",
       "3    36.256   -118.420       345.1  2017-10-15\n",
       "4    36.272   -118.429       326.3  2017-10-16"
      ]
     },
     "execution_count": 3,
     "metadata": {},
     "output_type": "execute_result"
    }
   ],
   "source": [
    "# list(data) # list all the column names\n",
    "py_data = data[['latitude', 'longitude', 'brightness', 'acq_date']] #pandas\n",
    "py_data.head()"
   ]
  },
  {
   "cell_type": "markdown",
   "metadata": {},
   "source": [
    "## Subsetting the data \n",
    "\n",
    "Now, let's subset and look at the distribution of the data. We probably wouldn't expect there to be an equal amount of fires throughout the varying degrees of brightness; if that were the case, we'd have just as many small, dim fires as large, intense fires. \n"
   ]
  },
  {
   "cell_type": "code",
   "execution_count": 4,
   "metadata": {},
   "outputs": [
    {
     "name": "stderr",
     "output_type": "stream",
     "text": [
      "/anaconda3/lib/python3.7/site-packages/scipy/stats/stats.py:1713: FutureWarning:\n",
      "\n",
      "Using a non-tuple sequence for multidimensional indexing is deprecated; use `arr[tuple(seq)]` instead of `arr[seq]`. In the future this will be interpreted as an array index, `arr[np.array(seq)]`, which will result either in an error or a different result.\n",
      "\n"
     ]
    },
    {
     "data": {
      "text/plain": [
       "<matplotlib.axes._subplots.AxesSubplot at 0x1a24556978>"
      ]
     },
     "execution_count": 4,
     "metadata": {},
     "output_type": "execute_result"
    },
    {
     "data": {
      "image/png": "[encoded data removed]",
      "text/plain": [
       "<Figure size 432x288 with 1 Axes>"
      ]
     },
     "metadata": {},
     "output_type": "display_data"
    }
   ],
   "source": [
    "## Let's look at the distribution of the brightness.\n",
    "%matplotlib inline\n",
    "\n",
    "sns.set(color_codes=True)\n",
    "sns.distplot(py_data['brightness'])"
   ]
  },
  {
   "cell_type": "code",
   "execution_count": 5,
   "metadata": {},
   "outputs": [
    {
     "name": "stderr",
     "output_type": "stream",
     "text": [
      "/anaconda3/lib/python3.7/site-packages/ipykernel_launcher.py:2: SettingWithCopyWarning:\n",
      "\n",
      "\n",
      "A value is trying to be set on a copy of a slice from a DataFrame.\n",
      "Try using .loc[row_indexer,col_indexer] = value instead\n",
      "\n",
      "See the caveats in the documentation: http://pandas.pydata.org/pandas-docs/stable/indexing.html#indexing-view-versus-copy\n",
      "\n"
     ]
    },
    {
     "data": {
      "text/html": [
       "<div>\n",
       "<style scoped>\n",
       "    .dataframe tbody tr th:only-of-type {\n",
       "        vertical-align: middle;\n",
       "    }\n",
       "\n",
       "    .dataframe tbody tr th {\n",
       "        vertical-align: top;\n",
       "    }\n",
       "\n",
       "    .dataframe thead th {\n",
       "        text-align: right;\n",
       "    }\n",
       "</style>\n",
       "<table border=\"1\" class=\"dataframe\">\n",
       "  <thead>\n",
       "    <tr style=\"text-align: right;\">\n",
       "      <th></th>\n",
       "      <th>latitude</th>\n",
       "      <th>longitude</th>\n",
       "      <th>brightness</th>\n",
       "      <th>acq_date</th>\n",
       "      <th>quantile</th>\n",
       "    </tr>\n",
       "  </thead>\n",
       "  <tbody>\n",
       "    <tr>\n",
       "      <th>0</th>\n",
       "      <td>36.234</td>\n",
       "      <td>-118.430</td>\n",
       "      <td>321.9</td>\n",
       "      <td>2017-10-07</td>\n",
       "      <td>moderate</td>\n",
       "    </tr>\n",
       "    <tr>\n",
       "      <th>1</th>\n",
       "      <td>36.258</td>\n",
       "      <td>-118.421</td>\n",
       "      <td>319.4</td>\n",
       "      <td>2017-10-15</td>\n",
       "      <td>moderate</td>\n",
       "    </tr>\n",
       "    <tr>\n",
       "      <th>2</th>\n",
       "      <td>36.259</td>\n",
       "      <td>-118.425</td>\n",
       "      <td>318.2</td>\n",
       "      <td>2017-10-15</td>\n",
       "      <td>moderate</td>\n",
       "    </tr>\n",
       "    <tr>\n",
       "      <th>3</th>\n",
       "      <td>36.256</td>\n",
       "      <td>-118.420</td>\n",
       "      <td>345.1</td>\n",
       "      <td>2017-10-15</td>\n",
       "      <td>bright</td>\n",
       "    </tr>\n",
       "    <tr>\n",
       "      <th>4</th>\n",
       "      <td>36.272</td>\n",
       "      <td>-118.429</td>\n",
       "      <td>326.3</td>\n",
       "      <td>2017-10-16</td>\n",
       "      <td>moderate</td>\n",
       "    </tr>\n",
       "  </tbody>\n",
       "</table>\n",
       "</div>"
      ],
      "text/plain": [
       "   latitude  longitude  brightness    acq_date  quantile\n",
       "0    36.234   -118.430       321.9  2017-10-07  moderate\n",
       "1    36.258   -118.421       319.4  2017-10-15  moderate\n",
       "2    36.259   -118.425       318.2  2017-10-15  moderate\n",
       "3    36.256   -118.420       345.1  2017-10-15    bright\n",
       "4    36.272   -118.429       326.3  2017-10-16  moderate"
      ]
     },
     "execution_count": 5,
     "metadata": {},
     "output_type": "execute_result"
    }
   ],
   "source": [
    "## Split into three quanitles.\n",
    "py_data['quantile'] = pd.qcut(py_data['brightness'], 3, labels=[\"dim\", \"moderate\", \"bright\"]) \n",
    "py_data.head()"
   ]
  },
  {
   "cell_type": "code",
   "execution_count": 7,
   "metadata": {},
   "outputs": [
    {
     "data": {
      "text/plain": [
       "<matplotlib.axes._subplots.AxesSubplot at 0x1a2495e7f0>"
      ]
     },
     "execution_count": 7,
     "metadata": {},
     "output_type": "execute_result"
    },
    {
     "data": {
      "image/png": "[encoded data removed]",
      "text/plain": [
       "<Figure size 432x288 with 1 Axes>"
      ]
     },
     "metadata": {},
     "output_type": "display_data"
    }
   ],
   "source": [
    "sns.boxplot(data=py_data, x='quantile', y='brightness')\n",
    "#sns.distplot(py_data['brightness'], hue='quantile')"
   ]
  },
  {
   "cell_type": "markdown",
   "metadata": {},
   "source": [
    "As we can see, the dataset contains a lot more dim fires. Because there is an uneven distribution of fires per degree of brightness, we will randomly sample from each quantile. I will first split up the table by quantile, and then sample from each table. "
   ]
  },
  {
   "cell_type": "code",
   "execution_count": 8,
   "metadata": {},
   "outputs": [],
   "source": [
    "#filter out the tables \n",
    "dim_data = py_data[py_data[\"quantile\"] == \"dim\"]\n",
    "moderate_data = py_data[py_data[\"quantile\"] == \"moderate\"]\n",
    "bright_data = py_data[py_data[\"quantile\"] == \"bright\"]"
   ]
  },
  {
   "cell_type": "code",
   "execution_count": 9,
   "metadata": {},
   "outputs": [
    {
     "data": {
      "text/html": [
       "<div>\n",
       "<style scoped>\n",
       "    .dataframe tbody tr th:only-of-type {\n",
       "        vertical-align: middle;\n",
       "    }\n",
       "\n",
       "    .dataframe tbody tr th {\n",
       "        vertical-align: top;\n",
       "    }\n",
       "\n",
       "    .dataframe thead th {\n",
       "        text-align: right;\n",
       "    }\n",
       "</style>\n",
       "<table border=\"1\" class=\"dataframe\">\n",
       "  <thead>\n",
       "    <tr style=\"text-align: right;\">\n",
       "      <th></th>\n",
       "      <th>latitude</th>\n",
       "      <th>longitude</th>\n",
       "      <th>brightness</th>\n",
       "      <th>acq_date</th>\n",
       "      <th>quantile</th>\n",
       "    </tr>\n",
       "  </thead>\n",
       "  <tbody>\n",
       "    <tr>\n",
       "      <th>5196</th>\n",
       "      <td>36.524</td>\n",
       "      <td>-119.922</td>\n",
       "      <td>308.7</td>\n",
       "      <td>2017-11-14</td>\n",
       "      <td>dim</td>\n",
       "    </tr>\n",
       "    <tr>\n",
       "      <th>3480</th>\n",
       "      <td>36.975</td>\n",
       "      <td>-120.192</td>\n",
       "      <td>303.2</td>\n",
       "      <td>2017-12-21</td>\n",
       "      <td>dim</td>\n",
       "    </tr>\n",
       "    <tr>\n",
       "      <th>5124</th>\n",
       "      <td>35.779</td>\n",
       "      <td>-119.220</td>\n",
       "      <td>309.9</td>\n",
       "      <td>2018-03-03</td>\n",
       "      <td>dim</td>\n",
       "    </tr>\n",
       "    <tr>\n",
       "      <th>3169</th>\n",
       "      <td>36.379</td>\n",
       "      <td>-119.903</td>\n",
       "      <td>301.6</td>\n",
       "      <td>2017-12-21</td>\n",
       "      <td>dim</td>\n",
       "    </tr>\n",
       "    <tr>\n",
       "      <th>4548</th>\n",
       "      <td>34.427</td>\n",
       "      <td>-118.969</td>\n",
       "      <td>301.9</td>\n",
       "      <td>2017-12-12</td>\n",
       "      <td>dim</td>\n",
       "    </tr>\n",
       "  </tbody>\n",
       "</table>\n",
       "</div>"
      ],
      "text/plain": [
       "      latitude  longitude  brightness    acq_date quantile\n",
       "5196    36.524   -119.922       308.7  2017-11-14      dim\n",
       "3480    36.975   -120.192       303.2  2017-12-21      dim\n",
       "5124    35.779   -119.220       309.9  2018-03-03      dim\n",
       "3169    36.379   -119.903       301.6  2017-12-21      dim\n",
       "4548    34.427   -118.969       301.9  2017-12-12      dim"
      ]
     },
     "execution_count": 9,
     "metadata": {},
     "output_type": "execute_result"
    }
   ],
   "source": [
    "#take 5 samples from the dim fires data\n",
    "dim_sample = dim_data.sample(n=5)\n",
    "moderate_sample = moderate_data.sample(n=5)\n",
    "bright_sample = bright_data.sample(n=5)"
   ]
  },
  {
   "cell_type": "markdown",
   "metadata": {},
   "source": [
    "Now that we have sampled from each quantile, let's create a new table with all of the sampled data. "
   ]
  },
  {
   "cell_type": "code",
   "execution_count": 26,
   "metadata": {},
   "outputs": [
    {
     "data": {
      "text/html": [
       "<div>\n",
       "<style scoped>\n",
       "    .dataframe tbody tr th:only-of-type {\n",
       "        vertical-align: middle;\n",
       "    }\n",
       "\n",
       "    .dataframe tbody tr th {\n",
       "        vertical-align: top;\n",
       "    }\n",
       "\n",
       "    .dataframe thead th {\n",
       "        text-align: right;\n",
       "    }\n",
       "</style>\n",
       "<table border=\"1\" class=\"dataframe\">\n",
       "  <thead>\n",
       "    <tr style=\"text-align: right;\">\n",
       "      <th></th>\n",
       "      <th>latitude</th>\n",
       "      <th>longitude</th>\n",
       "      <th>brightness</th>\n",
       "      <th>acq_date</th>\n",
       "      <th>quantile</th>\n",
       "    </tr>\n",
       "  </thead>\n",
       "  <tbody>\n",
       "    <tr>\n",
       "      <th>3169</th>\n",
       "      <td>36.379</td>\n",
       "      <td>-119.903</td>\n",
       "      <td>301.6</td>\n",
       "      <td>2017-12-21</td>\n",
       "      <td>dim</td>\n",
       "    </tr>\n",
       "    <tr>\n",
       "      <th>4548</th>\n",
       "      <td>34.427</td>\n",
       "      <td>-118.969</td>\n",
       "      <td>301.9</td>\n",
       "      <td>2017-12-12</td>\n",
       "      <td>dim</td>\n",
       "    </tr>\n",
       "    <tr>\n",
       "      <th>3480</th>\n",
       "      <td>36.975</td>\n",
       "      <td>-120.192</td>\n",
       "      <td>303.2</td>\n",
       "      <td>2017-12-21</td>\n",
       "      <td>dim</td>\n",
       "    </tr>\n",
       "    <tr>\n",
       "      <th>5196</th>\n",
       "      <td>36.524</td>\n",
       "      <td>-119.922</td>\n",
       "      <td>308.7</td>\n",
       "      <td>2017-11-14</td>\n",
       "      <td>dim</td>\n",
       "    </tr>\n",
       "    <tr>\n",
       "      <th>5124</th>\n",
       "      <td>35.779</td>\n",
       "      <td>-119.220</td>\n",
       "      <td>309.9</td>\n",
       "      <td>2018-03-03</td>\n",
       "      <td>dim</td>\n",
       "    </tr>\n",
       "    <tr>\n",
       "      <th>3302</th>\n",
       "      <td>37.744</td>\n",
       "      <td>-121.412</td>\n",
       "      <td>317.5</td>\n",
       "      <td>2018-05-31</td>\n",
       "      <td>moderate</td>\n",
       "    </tr>\n",
       "    <tr>\n",
       "      <th>5906</th>\n",
       "      <td>34.521</td>\n",
       "      <td>-119.552</td>\n",
       "      <td>318.5</td>\n",
       "      <td>2017-12-11</td>\n",
       "      <td>moderate</td>\n",
       "    </tr>\n",
       "    <tr>\n",
       "      <th>3536</th>\n",
       "      <td>37.082</td>\n",
       "      <td>-120.361</td>\n",
       "      <td>320.2</td>\n",
       "      <td>2017-10-30</td>\n",
       "      <td>moderate</td>\n",
       "    </tr>\n",
       "    <tr>\n",
       "      <th>4970</th>\n",
       "      <td>34.600</td>\n",
       "      <td>-120.074</td>\n",
       "      <td>322.4</td>\n",
       "      <td>2017-09-25</td>\n",
       "      <td>moderate</td>\n",
       "    </tr>\n",
       "    <tr>\n",
       "      <th>5575</th>\n",
       "      <td>36.152</td>\n",
       "      <td>-118.785</td>\n",
       "      <td>329.9</td>\n",
       "      <td>2017-09-02</td>\n",
       "      <td>moderate</td>\n",
       "    </tr>\n",
       "    <tr>\n",
       "      <th>3991</th>\n",
       "      <td>37.479</td>\n",
       "      <td>-119.573</td>\n",
       "      <td>346.0</td>\n",
       "      <td>2017-09-01</td>\n",
       "      <td>bright</td>\n",
       "    </tr>\n",
       "    <tr>\n",
       "      <th>2545</th>\n",
       "      <td>34.448</td>\n",
       "      <td>-119.002</td>\n",
       "      <td>359.5</td>\n",
       "      <td>2017-12-10</td>\n",
       "      <td>bright</td>\n",
       "    </tr>\n",
       "    <tr>\n",
       "      <th>1898</th>\n",
       "      <td>34.537</td>\n",
       "      <td>-119.317</td>\n",
       "      <td>362.5</td>\n",
       "      <td>2017-12-10</td>\n",
       "      <td>bright</td>\n",
       "    </tr>\n",
       "    <tr>\n",
       "      <th>876</th>\n",
       "      <td>34.810</td>\n",
       "      <td>-120.582</td>\n",
       "      <td>380.9</td>\n",
       "      <td>2017-11-24</td>\n",
       "      <td>bright</td>\n",
       "    </tr>\n",
       "    <tr>\n",
       "      <th>3940</th>\n",
       "      <td>36.103</td>\n",
       "      <td>-118.731</td>\n",
       "      <td>463.8</td>\n",
       "      <td>2017-09-03</td>\n",
       "      <td>bright</td>\n",
       "    </tr>\n",
       "  </tbody>\n",
       "</table>\n",
       "</div>"
      ],
      "text/plain": [
       "      latitude  longitude  brightness    acq_date  quantile\n",
       "3169    36.379   -119.903       301.6  2017-12-21       dim\n",
       "4548    34.427   -118.969       301.9  2017-12-12       dim\n",
       "3480    36.975   -120.192       303.2  2017-12-21       dim\n",
       "5196    36.524   -119.922       308.7  2017-11-14       dim\n",
       "5124    35.779   -119.220       309.9  2018-03-03       dim\n",
       "3302    37.744   -121.412       317.5  2018-05-31  moderate\n",
       "5906    34.521   -119.552       318.5  2017-12-11  moderate\n",
       "3536    37.082   -120.361       320.2  2017-10-30  moderate\n",
       "4970    34.600   -120.074       322.4  2017-09-25  moderate\n",
       "5575    36.152   -118.785       329.9  2017-09-02  moderate\n",
       "3991    37.479   -119.573       346.0  2017-09-01    bright\n",
       "2545    34.448   -119.002       359.5  2017-12-10    bright\n",
       "1898    34.537   -119.317       362.5  2017-12-10    bright\n",
       "876     34.810   -120.582       380.9  2017-11-24    bright\n",
       "3940    36.103   -118.731       463.8  2017-09-03    bright"
      ]
     },
     "execution_count": 26,
     "metadata": {},
     "output_type": "execute_result"
    }
   ],
   "source": [
    "#append the dataframes to each other and sort by increasing brightness\n",
    "sorted_samples = dim_sample.append(moderate_sample).append(bright_sample).sort_values(\"brightness\")\n",
    "sorted_samples"
   ]
  },
  {
   "cell_type": "code",
   "execution_count": 27,
   "metadata": {},
   "outputs": [],
   "source": [
    "#fix the indices\n",
    "sorted_samples.index = range(15)"
   ]
  },
  {
   "cell_type": "markdown",
   "metadata": {},
   "source": [
    "## Plotting the data"
   ]
  },
  {
   "cell_type": "markdown",
   "metadata": {},
   "source": [
    "Here's where things get a bit tricky. Ultimately, we would like to plot a figure with a specific set of data and a specific layout. Plotly has many attributes to help us accomplish our goal, but how do we know which ones to use? Luckily, Plotly has a [figure reference!](https://plot.ly/python/reference/)"
   ]
  },
  {
   "cell_type": "markdown",
   "metadata": {},
   "source": [
    "Let's initialize our data first. We want to have different-colored bubbles on our bubble map so that we can differentiate between the three levels of brightness. Let's create a list of colors to choose from, using their RGB values. I will use yellow for dim fires, orange for moderately bright fires, and red for bright fires. "
   ]
  },
  {
   "cell_type": "code",
   "execution_count": 28,
   "metadata": {},
   "outputs": [],
   "source": [
    "colors = [\"rgb(255,255,0)\", \"rgb(255,128,0)\", \"rgb(255,0,0)\"] #yellow, orange, red"
   ]
  },
  {
   "cell_type": "markdown",
   "metadata": {},
   "source": [
    "Next, we'll create a list called limits. Limits contains three elements, and each element contains the beginning index and ending index of a brightness level. This list will allow us to map certain attributes to a specific range of data. For example, if we assign the first element of [colors] to the first element in [limits], the 5 brightest fires will appear as red bubbles on the map."
   ]
  },
  {
   "cell_type": "code",
   "execution_count": 29,
   "metadata": {},
   "outputs": [],
   "source": [
    "limits=[(0,5),(5,10),(10,15)] #we are grouping by brightness, where first five (0,5) are brightest, second group of five (5,10) are moderately bright, etc."
   ]
  },
  {
   "cell_type": "markdown",
   "metadata": {},
   "source": [
    "Now, it's time to create a list that contains all the information that we want to represent on the map. We'll call this list \"fires.\" In the end, we want this list to hold three dictionaries (one for each brightness level). \n",
    "\n",
    "Since we have three brightness levels, we want to assign specific attributes to each of them. To do this, we will iterate through each of the groups and create a dictionary of attributes for each. If you are unclear about these attributes, refer to the [figure reference!](https://plot.ly/python/reference/)."
   ]
  },
  {
   "cell_type": "code",
   "execution_count": 30,
   "metadata": {},
   "outputs": [],
   "source": [
    "fires=[] #the data that we want to represent on the map\n",
    "    \n",
    "for i in range(len(limits)): #we want to iterate 3 times to create 3 traces on the map \n",
    "    #for the purpose of scaling the size of each bubble, we will divide by a factor and also scale this factor so we get a bigger\n",
    "    #variation in size \n",
    "    if i == 0: \n",
    "        scale = 17*1.2\n",
    "    elif i == 2: \n",
    "        scale = 17*0.8\n",
    "    else: \n",
    "        scale = 17\n",
    "    group = sorted_samples.loc[np.r_[limits[i][0]:limits[i][1]]]\n",
    "    fire=dict(\n",
    "        type = 'scattergeo', #the type of figure we want to create \n",
    "        locationmode = 'USA-states', \n",
    "        lon = group['longitude'],\n",
    "        lat = group['latitude'],\n",
    "         #sets the properties of the bubbles \n",
    "        marker=dict(\n",
    "                #scale the size of the bubble; our bubble size is based on the brightness \n",
    "                size = group[\"brightness\"].at[limits[i][0]]/scale, #difference in size is too subtle if we just use one number for scale\n",
    "                color=colors[i], #the color of the bubbles in this group \n",
    "                line = dict(width=0.5, color='rgb(40,40,40)'), \n",
    "                sizemode='diameter'\n",
    "                ),\n",
    "        name='{0}-{1}'.format(limits[i][0], limits[i][1])) #legend labels\n",
    "    fires.append(fire)"
   ]
  },
  {
   "cell_type": "markdown",
   "metadata": {},
   "source": [
    "You can see what our \"fires\" dictionary looks like by just calling the data `fires`. "
   ]
  },
  {
   "cell_type": "markdown",
   "metadata": {},
   "source": [
    "Next, we will dictate what our figure layout should be.  The first part of this code essentially sets the stage for your visualization. The last line does the plotting   "
   ]
  },
  {
   "cell_type": "code",
   "execution_count": 33,
   "metadata": {},
   "outputs": [
    {
     "name": "stdout",
     "output_type": "stream",
     "text": [
      "High five! You successfully sent some data to your account on plotly. View your plot in your browser at https://plot.ly/~iamciera/0 or inside your plot.ly account where it is named 'SoCal-FIRMS-bubble-map'\n"
     ]
    },
    {
     "name": "stderr",
     "output_type": "stream",
     "text": [
      "/anaconda3/lib/python3.7/site-packages/IPython/core/display.py:689: UserWarning:\n",
      "\n",
      "Consider using IPython.display.IFrame instead\n",
      "\n"
     ]
    },
    {
     "data": {
      "text/html": [
       "<iframe id=\"igraph\" scrolling=\"no\" style=\"border:none;\" seamless=\"seamless\" src=\"https://plot.ly/~iamciera/0.embed\" height=\"525px\" width=\"100%\"></iframe>"
      ],
      "text/plain": [
       "<plotly.tools.PlotlyDisplay object>"
      ]
     },
     "execution_count": 33,
     "metadata": {},
     "output_type": "execute_result"
    }
   ],
   "source": [
    "layout=dict(\n",
    "        title='Range of Wildfire Brightnesses in California from 09/01/2017 to 09/01/2018',\n",
    "        showlegend=True,\n",
    "        geo = dict(\n",
    "            projection=dict( type='albers usa'), #provides the gray USA map \n",
    "            center=dict(lon=-116.4194, lat=34.9592), #centers the map on the middle of SoCal when you first create the map\n",
    "            zoom=6, #Zoom factor of map when you create it \n",
    "            showland = True,\n",
    "            landcolor = 'rgb(217, 217, 217)',\n",
    "            subunitwidth=1,\n",
    "            countrywidth=1,\n",
    "            subunitcolor=\"rgb(255, 255, 255)\",\n",
    "            countrycolor=\"rgb(255, 255, 255)\"\n",
    "        ),\n",
    "    )\n",
    "fig = dict(data=fires, layout=layout) #our figure with fires data and the layout we want \n",
    "\n",
    "py.iplot(fig, validate=False, filename='SoCal-FIRMS-bubble-map') #plot the data! "
   ]
  },
  {
   "cell_type": "markdown",
   "metadata": {},
   "source": [
    "## Add more data points! \n",
    "Here, I am just doing the same steps but getting a total of 300 data points in the end and tweaking the map."
   ]
  },
  {
   "cell_type": "code",
   "execution_count": 36,
   "metadata": {},
   "outputs": [
    {
     "data": {
      "text/html": [
       "<div>\n",
       "<style scoped>\n",
       "    .dataframe tbody tr th:only-of-type {\n",
       "        vertical-align: middle;\n",
       "    }\n",
       "\n",
       "    .dataframe tbody tr th {\n",
       "        vertical-align: top;\n",
       "    }\n",
       "\n",
       "    .dataframe thead th {\n",
       "        text-align: right;\n",
       "    }\n",
       "</style>\n",
       "<table border=\"1\" class=\"dataframe\">\n",
       "  <thead>\n",
       "    <tr style=\"text-align: right;\">\n",
       "      <th></th>\n",
       "      <th>latitude</th>\n",
       "      <th>longitude</th>\n",
       "      <th>brightness</th>\n",
       "      <th>acq_date</th>\n",
       "      <th>quantile</th>\n",
       "    </tr>\n",
       "  </thead>\n",
       "  <tbody>\n",
       "    <tr>\n",
       "      <th>2807</th>\n",
       "      <td>36.611</td>\n",
       "      <td>-119.436</td>\n",
       "      <td>334.5</td>\n",
       "      <td>2018-05-29</td>\n",
       "      <td>bright</td>\n",
       "    </tr>\n",
       "    <tr>\n",
       "      <th>3958</th>\n",
       "      <td>36.069</td>\n",
       "      <td>-118.769</td>\n",
       "      <td>334.7</td>\n",
       "      <td>2017-09-16</td>\n",
       "      <td>bright</td>\n",
       "    </tr>\n",
       "    <tr>\n",
       "      <th>1412</th>\n",
       "      <td>37.955</td>\n",
       "      <td>-120.030</td>\n",
       "      <td>334.7</td>\n",
       "      <td>2017-11-07</td>\n",
       "      <td>bright</td>\n",
       "    </tr>\n",
       "    <tr>\n",
       "      <th>2470</th>\n",
       "      <td>34.509</td>\n",
       "      <td>-119.204</td>\n",
       "      <td>334.7</td>\n",
       "      <td>2017-12-15</td>\n",
       "      <td>bright</td>\n",
       "    </tr>\n",
       "    <tr>\n",
       "      <th>3954</th>\n",
       "      <td>36.096</td>\n",
       "      <td>-118.650</td>\n",
       "      <td>335.0</td>\n",
       "      <td>2017-09-10</td>\n",
       "      <td>bright</td>\n",
       "    </tr>\n",
       "  </tbody>\n",
       "</table>\n",
       "</div>"
      ],
      "text/plain": [
       "      latitude  longitude  brightness    acq_date quantile\n",
       "2807    36.611   -119.436       334.5  2018-05-29   bright\n",
       "3958    36.069   -118.769       334.7  2017-09-16   bright\n",
       "1412    37.955   -120.030       334.7  2017-11-07   bright\n",
       "2470    34.509   -119.204       334.7  2017-12-15   bright\n",
       "3954    36.096   -118.650       335.0  2017-09-10   bright"
      ]
     },
     "execution_count": 36,
     "metadata": {},
     "output_type": "execute_result"
    }
   ],
   "source": [
    "brightest100=bright_data.sample(n=100).sort_values('brightness')\n",
    "brightest100.head()"
   ]
  },
  {
   "cell_type": "code",
   "execution_count": 37,
   "metadata": {},
   "outputs": [],
   "source": [
    "dimmest100=dim_data.sample(n=100).sort_values('brightness')\n",
    "moderate100= moderate_data.sample(n=100).sort_values('brightness')\n",
    "sorted_300=dimmest100.append(moderate100).append(brightest100)"
   ]
  },
  {
   "cell_type": "markdown",
   "metadata": {},
   "source": [
    "I also wanted to label each bubble with the brightness value and the date of acquisition, so I first created a new \"label\" column in nthe sorted_300 table."
   ]
  },
  {
   "cell_type": "code",
   "execution_count": 38,
   "metadata": {},
   "outputs": [
    {
     "data": {
      "text/html": [
       "<div>\n",
       "<style scoped>\n",
       "    .dataframe tbody tr th:only-of-type {\n",
       "        vertical-align: middle;\n",
       "    }\n",
       "\n",
       "    .dataframe tbody tr th {\n",
       "        vertical-align: top;\n",
       "    }\n",
       "\n",
       "    .dataframe thead th {\n",
       "        text-align: right;\n",
       "    }\n",
       "</style>\n",
       "<table border=\"1\" class=\"dataframe\">\n",
       "  <thead>\n",
       "    <tr style=\"text-align: right;\">\n",
       "      <th></th>\n",
       "      <th>latitude</th>\n",
       "      <th>longitude</th>\n",
       "      <th>brightness</th>\n",
       "      <th>acq_date</th>\n",
       "      <th>quantile</th>\n",
       "      <th>label</th>\n",
       "    </tr>\n",
       "  </thead>\n",
       "  <tbody>\n",
       "    <tr>\n",
       "      <th>5044</th>\n",
       "      <td>36.971</td>\n",
       "      <td>-119.957</td>\n",
       "      <td>300.0</td>\n",
       "      <td>2017-12-04</td>\n",
       "      <td>dim</td>\n",
       "      <td>300.0, 2017-12-04</td>\n",
       "    </tr>\n",
       "    <tr>\n",
       "      <th>1440</th>\n",
       "      <td>37.020</td>\n",
       "      <td>-120.179</td>\n",
       "      <td>300.2</td>\n",
       "      <td>2017-11-27</td>\n",
       "      <td>dim</td>\n",
       "      <td>300.2, 2017-11-27</td>\n",
       "    </tr>\n",
       "    <tr>\n",
       "      <th>70</th>\n",
       "      <td>34.260</td>\n",
       "      <td>-118.385</td>\n",
       "      <td>300.3</td>\n",
       "      <td>2017-12-06</td>\n",
       "      <td>dim</td>\n",
       "      <td>300.3, 2017-12-06</td>\n",
       "    </tr>\n",
       "    <tr>\n",
       "      <th>3133</th>\n",
       "      <td>36.759</td>\n",
       "      <td>-120.227</td>\n",
       "      <td>300.4</td>\n",
       "      <td>2017-11-29</td>\n",
       "      <td>dim</td>\n",
       "      <td>300.4, 2017-11-29</td>\n",
       "    </tr>\n",
       "    <tr>\n",
       "      <th>3594</th>\n",
       "      <td>36.384</td>\n",
       "      <td>-120.310</td>\n",
       "      <td>300.4</td>\n",
       "      <td>2017-09-15</td>\n",
       "      <td>dim</td>\n",
       "      <td>300.4, 2017-09-15</td>\n",
       "    </tr>\n",
       "  </tbody>\n",
       "</table>\n",
       "</div>"
      ],
      "text/plain": [
       "      latitude  longitude  brightness    acq_date quantile              label\n",
       "5044    36.971   -119.957       300.0  2017-12-04      dim  300.0, 2017-12-04\n",
       "1440    37.020   -120.179       300.2  2017-11-27      dim  300.2, 2017-11-27\n",
       "70      34.260   -118.385       300.3  2017-12-06      dim  300.3, 2017-12-06\n",
       "3133    36.759   -120.227       300.4  2017-11-29      dim  300.4, 2017-11-29\n",
       "3594    36.384   -120.310       300.4  2017-09-15      dim  300.4, 2017-09-15"
      ]
     },
     "execution_count": 38,
     "metadata": {},
     "output_type": "execute_result"
    }
   ],
   "source": [
    "#create a new \"label\" column that combines the brightness and acquisition date, separated by a comma\n",
    "sorted_300[\"label\"] = sorted_300['brightness'].astype(str) + ', ' + sorted_300['acq_date'].astype(str)\n",
    "sorted_300.head()"
   ]
  },
  {
   "cell_type": "code",
   "execution_count": 39,
   "metadata": {},
   "outputs": [
    {
     "data": {
      "text/plain": [
       "'300.0, 2017-12-04'"
      ]
     },
     "execution_count": 39,
     "metadata": {},
     "output_type": "execute_result"
    }
   ],
   "source": [
    "#example of a single label \n",
    "sorted_300[\"label\"].iloc[0]"
   ]
  },
  {
   "cell_type": "markdown",
   "metadata": {},
   "source": [
    "Then, I added a \"text\" attribute to the fire dictionary and set it equal to a specific splice of the \"labels300\" array. I also changed the trace names in the legend by creating a new list of labels called \"legend labels\" and editing the \"name\" attribute in the fire dictionary."
   ]
  },
  {
   "cell_type": "code",
   "execution_count": 40,
   "metadata": {
    "scrolled": true
   },
   "outputs": [
    {
     "name": "stderr",
     "output_type": "stream",
     "text": [
      "/anaconda3/lib/python3.7/site-packages/ipykernel_launcher.py:12: FutureWarning:\n",
      "\n",
      "\n",
      "Passing list-likes to .loc or [] with any missing label will raise\n",
      "KeyError in the future, you can use .reindex() as an alternative.\n",
      "\n",
      "See the documentation here:\n",
      "https://pandas.pydata.org/pandas-docs/stable/indexing.html#deprecate-loc-reindex-listlike\n",
      "\n"
     ]
    }
   ],
   "source": [
    "limits300=[(0,100),(100,200),(200,300)]\n",
    "legendlabels=['Dim', 'Moderate','Bright'] #new legend labels \n",
    "fires300=[] \n",
    "for i in range(len(limits)): \n",
    "    if i == 0: \n",
    "        scale = 17*1.2\n",
    "    elif i == 2: \n",
    "        scale = 17*0.8\n",
    "    else: \n",
    "        scale = 17\n",
    "    #group=filtered_data300.take(range(limits300[i][0], limits300[i][1])) \n",
    "    group300 = sorted_300.loc[np.r_[limits300[i][0]:limits300[i][1]]]\n",
    "    fire300=dict(\n",
    "        type = 'scattergeo',\n",
    "        locationmode = 'USA-states', \n",
    "        lon = group300['longitude'],\n",
    "        lat = group300['latitude'],\n",
    "        #text= labels300[range(limits300[i][0], limits300[i][1])],\n",
    "        text = sorted_300[\"label\"].iloc[np.r_[limits300[i][0]:limits300[i][1]]],\n",
    "        location=['California'], \n",
    "        marker=dict(\n",
    "                size= group300[\"brightness\"].at[limits300[i][0]]/scale, \n",
    "                color=colors[i], \n",
    "                line = dict(width=0.5, color='rgb(40,40,40)'), \n",
    "                sizemode='diameter',\n",
    "                opacity=0.7 #make the bubbles see-through\n",
    "                ), \n",
    "        name=legendlabels[i]) \n",
    "    fires300.append(fire300)\n"
   ]
  },
  {
   "cell_type": "markdown",
   "metadata": {},
   "source": [
    "Now it's time to visualize everything!"
   ]
  },
  {
   "cell_type": "code",
   "execution_count": 43,
   "metadata": {},
   "outputs": [
    {
     "name": "stderr",
     "output_type": "stream",
     "text": [
      "/anaconda3/lib/python3.7/site-packages/IPython/core/display.py:689: UserWarning:\n",
      "\n",
      "Consider using IPython.display.IFrame instead\n",
      "\n"
     ]
    },
    {
     "data": {
      "text/html": [
       "<iframe id=\"igraph\" scrolling=\"no\" style=\"border:none;\" seamless=\"seamless\" src=\"https://plot.ly/~iamciera/2.embed\" height=\"525px\" width=\"100%\"></iframe>"
      ],
      "text/plain": [
       "<plotly.tools.PlotlyDisplay object>"
      ]
     },
     "execution_count": 43,
     "metadata": {},
     "output_type": "execute_result"
    }
   ],
   "source": [
    "layout300=dict(\n",
    "        title='Range of Wildfire Brightnesses in California from 09/01/2017 to 09/01/2018',\n",
    "        showlegend=True, \n",
    "        geo = dict(\n",
    "            projection=dict( type='albers usa'), \n",
    "            center=dict(lon=-119.4179, lat=36.7783), \n",
    "            showland = True,\n",
    "            landcolor = 'rgb(64,64,64)', #changed color of map to dark gray \n",
    "            subunitwidth=1,\n",
    "            countrywidth=1,\n",
    "            subunitcolor=\"rgb(255, 255, 255)\",\n",
    "            countrycolor=\"rgb(255, 255, 255)\"\n",
    "        ),\n",
    "    )\n",
    "fig2 = dict(data= fires300, layout= layout300)\n",
    "py.iplot(fig2, validate=False, filename='FIRMS300-bubble-map') "
   ]
  },
  {
   "cell_type": "markdown",
   "metadata": {},
   "source": [
    "## Using the CA Oct 2017- Apr 2018 dataset\n",
    "\n",
    "The `ca1718.csv` file contians FIRMS data for Calfornia's 2017-2018 fire season, which lasts from October to April. I performed the same actions as above, taking a total of 300 data points for the visualization."
   ]
  },
  {
   "cell_type": "code",
   "execution_count": 44,
   "metadata": {},
   "outputs": [
    {
     "data": {
      "text/html": [
       "<div>\n",
       "<style scoped>\n",
       "    .dataframe tbody tr th:only-of-type {\n",
       "        vertical-align: middle;\n",
       "    }\n",
       "\n",
       "    .dataframe tbody tr th {\n",
       "        vertical-align: top;\n",
       "    }\n",
       "\n",
       "    .dataframe thead th {\n",
       "        text-align: right;\n",
       "    }\n",
       "</style>\n",
       "<table border=\"1\" class=\"dataframe\">\n",
       "  <thead>\n",
       "    <tr style=\"text-align: right;\">\n",
       "      <th></th>\n",
       "      <th>latitude</th>\n",
       "      <th>longitude</th>\n",
       "      <th>bright_ti4</th>\n",
       "      <th>acq_date</th>\n",
       "    </tr>\n",
       "  </thead>\n",
       "  <tbody>\n",
       "    <tr>\n",
       "      <th>0</th>\n",
       "      <td>40.73124</td>\n",
       "      <td>-124.00435</td>\n",
       "      <td>295.3</td>\n",
       "      <td>2017-11-30</td>\n",
       "    </tr>\n",
       "    <tr>\n",
       "      <th>1</th>\n",
       "      <td>40.64605</td>\n",
       "      <td>-123.88713</td>\n",
       "      <td>336.2</td>\n",
       "      <td>2018-04-25</td>\n",
       "    </tr>\n",
       "    <tr>\n",
       "      <th>2</th>\n",
       "      <td>39.94927</td>\n",
       "      <td>-120.95713</td>\n",
       "      <td>326.1</td>\n",
       "      <td>2017-11-06</td>\n",
       "    </tr>\n",
       "    <tr>\n",
       "      <th>3</th>\n",
       "      <td>39.65937</td>\n",
       "      <td>-121.01781</td>\n",
       "      <td>327.8</td>\n",
       "      <td>2017-11-28</td>\n",
       "    </tr>\n",
       "    <tr>\n",
       "      <th>4</th>\n",
       "      <td>39.69487</td>\n",
       "      <td>-121.00845</td>\n",
       "      <td>331.8</td>\n",
       "      <td>2017-11-28</td>\n",
       "    </tr>\n",
       "  </tbody>\n",
       "</table>\n",
       "</div>"
      ],
      "text/plain": [
       "   latitude  longitude  bright_ti4    acq_date\n",
       "0  40.73124 -124.00435       295.3  2017-11-30\n",
       "1  40.64605 -123.88713       336.2  2018-04-25\n",
       "2  39.94927 -120.95713       326.1  2017-11-06\n",
       "3  39.65937 -121.01781       327.8  2017-11-28\n",
       "4  39.69487 -121.00845       331.8  2017-11-28"
      ]
     },
     "execution_count": 44,
     "metadata": {},
     "output_type": "execute_result"
    }
   ],
   "source": [
    "data1718=pd.read_csv('../data/ca1718.csv')[['latitude', 'longitude', 'bright_ti4', 'acq_date']]\n",
    "data1718.head()"
   ]
  },
  {
   "cell_type": "markdown",
   "metadata": {},
   "source": [
    "## Subsetting the data\n",
    "\n",
    "In order to properly subset that data.  I want to understand the data distribution, that way I make sure that the subset I am making reflect the real distribution of the data."
   ]
  },
  {
   "cell_type": "code",
   "execution_count": 47,
   "metadata": {},
   "outputs": [
    {
     "data": {
      "text/plain": [
       "<matplotlib.axes._subplots.AxesSubplot at 0x10fe6bc88>"
      ]
     },
     "execution_count": 47,
     "metadata": {},
     "output_type": "execute_result"
    },
    {
     "data": {
      "image/png": "[encoded data removed]",
      "text/plain": [
       "<Figure size 432x288 with 1 Axes>"
      ]
     },
     "metadata": {},
     "output_type": "display_data"
    }
   ],
   "source": [
    "## Let's lool at the distribution of the brightness.\n",
    "%matplotlib inline\n",
    "\n",
    "sns.set(color_codes=True)\n",
    "sns.distplot(data1718['bright_ti4'])"
   ]
  },
  {
   "cell_type": "code",
   "execution_count": 49,
   "metadata": {},
   "outputs": [
    {
     "data": {
      "text/html": [
       "<div>\n",
       "<style scoped>\n",
       "    .dataframe tbody tr th:only-of-type {\n",
       "        vertical-align: middle;\n",
       "    }\n",
       "\n",
       "    .dataframe tbody tr th {\n",
       "        vertical-align: top;\n",
       "    }\n",
       "\n",
       "    .dataframe thead th {\n",
       "        text-align: right;\n",
       "    }\n",
       "</style>\n",
       "<table border=\"1\" class=\"dataframe\">\n",
       "  <thead>\n",
       "    <tr style=\"text-align: right;\">\n",
       "      <th></th>\n",
       "      <th>latitude</th>\n",
       "      <th>longitude</th>\n",
       "      <th>bright_ti4</th>\n",
       "      <th>acq_date</th>\n",
       "      <th>quantile</th>\n",
       "    </tr>\n",
       "  </thead>\n",
       "  <tbody>\n",
       "    <tr>\n",
       "      <th>18447</th>\n",
       "      <td>35.39388</td>\n",
       "      <td>-120.07444</td>\n",
       "      <td>208.0</td>\n",
       "      <td>2017-11-23</td>\n",
       "      <td>dim</td>\n",
       "    </tr>\n",
       "    <tr>\n",
       "      <th>30230</th>\n",
       "      <td>36.50272</td>\n",
       "      <td>-120.37718</td>\n",
       "      <td>208.0</td>\n",
       "      <td>2018-01-25</td>\n",
       "      <td>dim</td>\n",
       "    </tr>\n",
       "    <tr>\n",
       "      <th>13305</th>\n",
       "      <td>34.52004</td>\n",
       "      <td>-119.49242</td>\n",
       "      <td>208.0</td>\n",
       "      <td>2017-12-10</td>\n",
       "      <td>dim</td>\n",
       "    </tr>\n",
       "    <tr>\n",
       "      <th>18608</th>\n",
       "      <td>35.54568</td>\n",
       "      <td>-119.49454</td>\n",
       "      <td>208.0</td>\n",
       "      <td>2018-02-19</td>\n",
       "      <td>dim</td>\n",
       "    </tr>\n",
       "    <tr>\n",
       "      <th>17305</th>\n",
       "      <td>34.48457</td>\n",
       "      <td>-119.09801</td>\n",
       "      <td>208.0</td>\n",
       "      <td>2017-12-06</td>\n",
       "      <td>dim</td>\n",
       "    </tr>\n",
       "  </tbody>\n",
       "</table>\n",
       "</div>"
      ],
      "text/plain": [
       "       latitude  longitude  bright_ti4    acq_date quantile\n",
       "18447  35.39388 -120.07444       208.0  2017-11-23      dim\n",
       "30230  36.50272 -120.37718       208.0  2018-01-25      dim\n",
       "13305  34.52004 -119.49242       208.0  2017-12-10      dim\n",
       "18608  35.54568 -119.49454       208.0  2018-02-19      dim\n",
       "17305  34.48457 -119.09801       208.0  2017-12-06      dim"
      ]
     },
     "execution_count": 49,
     "metadata": {},
     "output_type": "execute_result"
    }
   ],
   "source": [
    "# I split into quantiles and subset by that. \n",
    "data1718['quantile'] = pd.qcut(data1718['bright_ti4'], 3, labels=[\"dim\", \"moderate\", \"bright\"])\n",
    "data1718= data1718.sort_values('bright_ti4')\n",
    "data1718.head()"
   ]
  },
  {
   "cell_type": "code",
   "execution_count": 50,
   "metadata": {},
   "outputs": [],
   "source": [
    "dim1718 = data1718[data1718['quantile'] == 'dim'].sample(100).sort_values('bright_ti4')\n",
    "moderate1718 = data1718[data1718['quantile'] == 'moderate'].sample(100).sort_values('bright_ti4')\n",
    "bright1718 = data1718[data1718['quantile'] == 'bright'].sample(100).sort_values('bright_ti4')"
   ]
  },
  {
   "cell_type": "code",
   "execution_count": 51,
   "metadata": {},
   "outputs": [
    {
     "data": {
      "text/html": [
       "<div>\n",
       "<style scoped>\n",
       "    .dataframe tbody tr th:only-of-type {\n",
       "        vertical-align: middle;\n",
       "    }\n",
       "\n",
       "    .dataframe tbody tr th {\n",
       "        vertical-align: top;\n",
       "    }\n",
       "\n",
       "    .dataframe thead th {\n",
       "        text-align: right;\n",
       "    }\n",
       "</style>\n",
       "<table border=\"1\" class=\"dataframe\">\n",
       "  <thead>\n",
       "    <tr style=\"text-align: right;\">\n",
       "      <th></th>\n",
       "      <th>latitude</th>\n",
       "      <th>longitude</th>\n",
       "      <th>bright_ti4</th>\n",
       "      <th>acq_date</th>\n",
       "      <th>quantile</th>\n",
       "    </tr>\n",
       "  </thead>\n",
       "  <tbody>\n",
       "    <tr>\n",
       "      <th>0</th>\n",
       "      <td>35.38683</td>\n",
       "      <td>-120.05407</td>\n",
       "      <td>208.0</td>\n",
       "      <td>2017-11-23</td>\n",
       "      <td>dim</td>\n",
       "    </tr>\n",
       "    <tr>\n",
       "      <th>1</th>\n",
       "      <td>34.35557</td>\n",
       "      <td>-116.85098</td>\n",
       "      <td>295.1</td>\n",
       "      <td>2017-10-04</td>\n",
       "      <td>dim</td>\n",
       "    </tr>\n",
       "    <tr>\n",
       "      <th>2</th>\n",
       "      <td>36.33820</td>\n",
       "      <td>-118.51682</td>\n",
       "      <td>295.2</td>\n",
       "      <td>2017-10-05</td>\n",
       "      <td>dim</td>\n",
       "    </tr>\n",
       "    <tr>\n",
       "      <th>3</th>\n",
       "      <td>34.04135</td>\n",
       "      <td>-117.82120</td>\n",
       "      <td>295.4</td>\n",
       "      <td>2018-01-31</td>\n",
       "      <td>dim</td>\n",
       "    </tr>\n",
       "    <tr>\n",
       "      <th>4</th>\n",
       "      <td>39.39941</td>\n",
       "      <td>-123.14323</td>\n",
       "      <td>295.4</td>\n",
       "      <td>2017-10-15</td>\n",
       "      <td>dim</td>\n",
       "    </tr>\n",
       "  </tbody>\n",
       "</table>\n",
       "</div>"
      ],
      "text/plain": [
       "   latitude  longitude  bright_ti4    acq_date quantile\n",
       "0  35.38683 -120.05407       208.0  2017-11-23      dim\n",
       "1  34.35557 -116.85098       295.1  2017-10-04      dim\n",
       "2  36.33820 -118.51682       295.2  2017-10-05      dim\n",
       "3  34.04135 -117.82120       295.4  2018-01-31      dim\n",
       "4  39.39941 -123.14323       295.4  2017-10-15      dim"
      ]
     },
     "execution_count": 51,
     "metadata": {},
     "output_type": "execute_result"
    }
   ],
   "source": [
    "sorted_1718 = dim1718.append(moderate1718).append(bright1718)\n",
    "sorted_1718.index = range(300)\n",
    "sorted_1718.head()"
   ]
  },
  {
   "cell_type": "code",
   "execution_count": 52,
   "metadata": {},
   "outputs": [
    {
     "data": {
      "text/html": [
       "<div>\n",
       "<style scoped>\n",
       "    .dataframe tbody tr th:only-of-type {\n",
       "        vertical-align: middle;\n",
       "    }\n",
       "\n",
       "    .dataframe tbody tr th {\n",
       "        vertical-align: top;\n",
       "    }\n",
       "\n",
       "    .dataframe thead th {\n",
       "        text-align: right;\n",
       "    }\n",
       "</style>\n",
       "<table border=\"1\" class=\"dataframe\">\n",
       "  <thead>\n",
       "    <tr style=\"text-align: right;\">\n",
       "      <th></th>\n",
       "      <th>latitude</th>\n",
       "      <th>longitude</th>\n",
       "      <th>bright_ti4</th>\n",
       "      <th>acq_date</th>\n",
       "      <th>quantile</th>\n",
       "      <th>label</th>\n",
       "    </tr>\n",
       "  </thead>\n",
       "  <tbody>\n",
       "    <tr>\n",
       "      <th>0</th>\n",
       "      <td>35.38683</td>\n",
       "      <td>-120.05407</td>\n",
       "      <td>208.0</td>\n",
       "      <td>2017-11-23</td>\n",
       "      <td>dim</td>\n",
       "      <td>208.0, 2017-11-23</td>\n",
       "    </tr>\n",
       "    <tr>\n",
       "      <th>1</th>\n",
       "      <td>34.35557</td>\n",
       "      <td>-116.85098</td>\n",
       "      <td>295.1</td>\n",
       "      <td>2017-10-04</td>\n",
       "      <td>dim</td>\n",
       "      <td>295.1, 2017-10-04</td>\n",
       "    </tr>\n",
       "    <tr>\n",
       "      <th>2</th>\n",
       "      <td>36.33820</td>\n",
       "      <td>-118.51682</td>\n",
       "      <td>295.2</td>\n",
       "      <td>2017-10-05</td>\n",
       "      <td>dim</td>\n",
       "      <td>295.2, 2017-10-05</td>\n",
       "    </tr>\n",
       "    <tr>\n",
       "      <th>3</th>\n",
       "      <td>34.04135</td>\n",
       "      <td>-117.82120</td>\n",
       "      <td>295.4</td>\n",
       "      <td>2018-01-31</td>\n",
       "      <td>dim</td>\n",
       "      <td>295.4, 2018-01-31</td>\n",
       "    </tr>\n",
       "    <tr>\n",
       "      <th>4</th>\n",
       "      <td>39.39941</td>\n",
       "      <td>-123.14323</td>\n",
       "      <td>295.4</td>\n",
       "      <td>2017-10-15</td>\n",
       "      <td>dim</td>\n",
       "      <td>295.4, 2017-10-15</td>\n",
       "    </tr>\n",
       "  </tbody>\n",
       "</table>\n",
       "</div>"
      ],
      "text/plain": [
       "   latitude  longitude  bright_ti4    acq_date quantile              label\n",
       "0  35.38683 -120.05407       208.0  2017-11-23      dim  208.0, 2017-11-23\n",
       "1  34.35557 -116.85098       295.1  2017-10-04      dim  295.1, 2017-10-04\n",
       "2  36.33820 -118.51682       295.2  2017-10-05      dim  295.2, 2017-10-05\n",
       "3  34.04135 -117.82120       295.4  2018-01-31      dim  295.4, 2018-01-31\n",
       "4  39.39941 -123.14323       295.4  2017-10-15      dim  295.4, 2017-10-15"
      ]
     },
     "execution_count": 52,
     "metadata": {},
     "output_type": "execute_result"
    }
   ],
   "source": [
    "#creating the \"label\" column\n",
    "sorted_1718[\"label\"] = sorted_1718['bright_ti4'].astype(str) + ', ' + sorted_1718['acq_date'].astype(str)\n",
    "sorted_1718.head()"
   ]
  },
  {
   "cell_type": "code",
   "execution_count": 53,
   "metadata": {},
   "outputs": [],
   "source": [
    "limits1718=[(0,100),(100,200),(200,300)]\n",
    "legendlabels=['Bright','Moderate', 'Dim']\n",
    "fires1718=[] \n",
    "for i in range(len(limits1718)): \n",
    "    if i == 0: \n",
    "        scale = 17*1.2\n",
    "    elif i == 2: \n",
    "        scale = 17*0.9\n",
    "    else: \n",
    "        scale = 17\n",
    "    group1718 = sorted_1718.loc[np.r_[limits1718[i][0]:limits1718[i][1]]]\n",
    "    fire1718=dict(\n",
    "        type = 'scattergeo',\n",
    "        locationmode = 'USA-states', \n",
    "        lon = group1718['longitude'],\n",
    "        lat = group1718['latitude'],\n",
    "        text = sorted_1718[\"label\"].iloc[np.r_[limits1718[0][0]:limits1718[0][1]]],\n",
    "        marker=dict(\n",
    "                size= group1718[\"bright_ti4\"].at[limits1718[i][0]]/scale, \n",
    "                color=colors[i], \n",
    "                line = dict(width=0.5, color='rgb(40,40,40)'), #the outline of each bubble \n",
    "                sizemode='diameter',\n",
    "                opacity = 0.7\n",
    "                ), \n",
    "        name=legendlabels[i]) \n",
    "    fires1718.append(fire1718)"
   ]
  },
  {
   "cell_type": "code",
   "execution_count": 135,
   "metadata": {},
   "outputs": [
    {
     "data": {
      "text/html": [
       "<iframe id=\"igraph\" scrolling=\"no\" style=\"border:none;\" seamless=\"seamless\" src=\"https://plot.ly/~winifredc123/16.embed\" height=\"525px\" width=\"100%\"></iframe>"
      ],
      "text/plain": [
       "<plotly.tools.PlotlyDisplay object>"
      ]
     },
     "execution_count": 135,
     "metadata": {},
     "output_type": "execute_result"
    }
   ],
   "source": [
    "layout1718=dict(\n",
    "        title='Range of Wildfire Brightnesses in California from 10/01/2017 to 04/30/2018',\n",
    "        showlegend=True,\n",
    "        opacity=0.7,\n",
    "        geo = dict(\n",
    "            projection=dict( type='albers usa'), \n",
    "            center=dict(lon=-119.4179, lat=36.7783), \n",
    "            showland = True,\n",
    "            landcolor = 'rgb(64,64,64)',\n",
    "            subunitwidth=1,\n",
    "            countrywidth=1,\n",
    "            subunitcolor=\"rgb(255, 255, 255)\",\n",
    "            countrycolor=\"rgb(255, 255, 255)\"\n",
    "        ),\n",
    "    )\n",
    "fig = dict(data=fires1718, layout=layout1718)\n",
    "py.iplot(fig, validate=False, filename='FIRMS1718-bubble-map') "
   ]
  },
  {
   "cell_type": "markdown",
   "metadata": {},
   "source": [
    "# Conclusion \n",
    "It was quite an experience learning how to translate data that I found on Google Earth Engine into a visual representation using Plotly. Plotly was quite difficult to figure out at first, but I was able to make a few tweaks that improved the graph a bit. It was interesting to see how a majority of wildfires occurred around Central California. Additionally, the majority of the worst fires during the 2017-18 wildfire season occurred in Northern California. \n",
    "\n",
    "There are still a few things I'd like to tweak in this project. I spent a while trying to figure out how to get a gradient scale in the legend to see just how much brightness varies among these fires, but was unable to find a way. There are also multiple data points that represent the same fires, except the data were recorded on different days. It would be helpful to clean the data a bit more to ensure there are no repetitive points. This would also clean up the visual aspect of the map. \n",
    "\n",
    "Overall, I was glad to have learned more about data visualization and the Plotly Python Library. Familiarizing myself with all the methods will definitely be helpful for future data exploration. I was also surprised by the amount of fire data there are on the internet, and I'm glad that Google Earth Engine provides an easy way to discover such datasets. "
   ]
  }
 ],
 "metadata": {
  "kernelspec": {
   "display_name": "Python 3",
   "language": "python",
   "name": "python3"
  },
  "language_info": {
   "codemirror_mode": {
    "name": "ipython",
    "version": 3
   },
   "file_extension": ".py",
   "mimetype": "text/x-python",
   "name": "python",
   "nbconvert_exporter": "python",
   "pygments_lexer": "ipython3",
   "version": "3.7.1"
  }
 },
 "nbformat": 4,
 "nbformat_minor": 2
}
