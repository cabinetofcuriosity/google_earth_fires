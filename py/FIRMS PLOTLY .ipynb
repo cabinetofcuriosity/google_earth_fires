{
 "cells": [
  {
   "cell_type": "markdown",
   "metadata": {},
   "source": [
    "# Plotting Fire Data on a Bubble Map "
   ]
  },
  {
   "cell_type": "markdown",
   "metadata": {},
   "source": [
    "## Using Plotly for Python \n",
    "\n",
    "[Plotly](https://plot.ly/#/) has a [Python library](https://plot.ly/python/) that allows you to create interactive data visualizations online, such as line plots, scatter maps, heatmaps, and 3D network graphs. In this tutorial, we will create a bubble map that visualizes wildfire data in California (based on the FIRMS data we acquired). "
   ]
  },
  {
   "cell_type": "markdown",
   "metadata": {},
   "source": [
    "Follow the [Getting Started](https://plot.ly/python/getting-started/) tutorial to set up the Plotly.py library. Once that is done, let's import some libraries that we will use in this tutorial:"
   ]
  },
  {
   "cell_type": "code",
   "execution_count": 13,
   "metadata": {},
   "outputs": [],
   "source": [
    "import plotly.plotly as py\n",
    "import pandas as pd\n",
    "import datascience\n",
    "#import numpy as np"
   ]
  },
  {
   "cell_type": "markdown",
   "metadata": {},
   "source": [
    "Our FIRMS dataset is quite big, so let's narrow it down to just a few points on the map. I'd like to plot the 4 brightest, 4 most \"mediocre\"ly bright, and 4 dimmest wildfires in the dataset. \n",
    "\n",
    "First, let's load the .csv file into a table:"
   ]
  },
  {
   "cell_type": "code",
   "execution_count": 14,
   "metadata": {},
   "outputs": [
    {
     "data": {
      "text/html": [
       "<table border=\"1\" class=\"dataframe\">\n",
       "    <thead>\n",
       "        <tr>\n",
       "            <th>latitude</th> <th>longitude</th> <th>brightness</th> <th>scan</th> <th>track</th> <th>acq_date</th> <th>acq_time</th> <th>satellite</th> <th>instrument</th> <th>confidence</th> <th>version</th> <th>bright_t31</th> <th>frp</th>\n",
       "        </tr>\n",
       "    </thead>\n",
       "    <tbody>\n",
       "        <tr>\n",
       "            <td>39.976  </td> <td>-122.757 </td> <td>327.8     </td> <td>1.2 </td> <td>1.1  </td> <td>2005-11-01</td> <td>1920    </td> <td>Terra    </td> <td>MODIS     </td> <td>34        </td> <td>6.1    </td> <td>285.9     </td> <td>31.1</td>\n",
       "        </tr>\n",
       "        <tr>\n",
       "            <td>39.982  </td> <td>-122.773 </td> <td>329       </td> <td>1.3 </td> <td>1.1  </td> <td>2005-11-01</td> <td>2057    </td> <td>Aqua     </td> <td>MODIS     </td> <td>86        </td> <td>6.1    </td> <td>278.5     </td> <td>43.3</td>\n",
       "        </tr>\n",
       "        <tr>\n",
       "            <td>39.985  </td> <td>-122.758 </td> <td>326.9     </td> <td>1.3 </td> <td>1.1  </td> <td>2005-11-01</td> <td>2057    </td> <td>Aqua     </td> <td>MODIS     </td> <td>85        </td> <td>6.1    </td> <td>277.7     </td> <td>38.8</td>\n",
       "        </tr>\n",
       "        <tr>\n",
       "            <td>39.944  </td> <td>-122.684 </td> <td>305.6     </td> <td>1.7 </td> <td>1.3  </td> <td>2006-02-22</td> <td>2141    </td> <td>Aqua     </td> <td>MODIS     </td> <td>51        </td> <td>6.1    </td> <td>292       </td> <td>16.2</td>\n",
       "        </tr>\n",
       "        <tr>\n",
       "            <td>39.821  </td> <td>-122.816 </td> <td>328       </td> <td>1.4 </td> <td>1.2  </td> <td>2006-05-03</td> <td>1926    </td> <td>Terra    </td> <td>MODIS     </td> <td>84        </td> <td>6.1    </td> <td>296.4     </td> <td>38.3</td>\n",
       "        </tr>\n",
       "        <tr>\n",
       "            <td>39.809  </td> <td>-122.81  </td> <td>321.7     </td> <td>1.1 </td> <td>1.1  </td> <td>2006-05-03</td> <td>2105    </td> <td>Aqua     </td> <td>MODIS     </td> <td>77        </td> <td>6.1    </td> <td>298.3     </td> <td>20.3</td>\n",
       "        </tr>\n",
       "        <tr>\n",
       "            <td>39.818  </td> <td>-122.812 </td> <td>351.4     </td> <td>1.1 </td> <td>1.1  </td> <td>2006-05-03</td> <td>2105    </td> <td>Aqua     </td> <td>MODIS     </td> <td>96        </td> <td>6.1    </td> <td>300.1     </td> <td>75.6</td>\n",
       "        </tr>\n",
       "        <tr>\n",
       "            <td>39.814  </td> <td>-122.787 </td> <td>308.6     </td> <td>2.5 </td> <td>1.5  </td> <td>2006-05-04</td> <td>1831    </td> <td>Terra    </td> <td>MODIS     </td> <td>54        </td> <td>6.1    </td> <td>292.1     </td> <td>24.6</td>\n",
       "        </tr>\n",
       "        <tr>\n",
       "            <td>40.051  </td> <td>-122.916 </td> <td>320.5     </td> <td>1.2 </td> <td>1.1  </td> <td>2006-06-30</td> <td>625     </td> <td>Terra    </td> <td>MODIS     </td> <td>100       </td> <td>6.1    </td> <td>289.6     </td> <td>24  </td>\n",
       "        </tr>\n",
       "        <tr>\n",
       "            <td>40.057  </td> <td>-122.893 </td> <td>311.7     </td> <td>1.6 </td> <td>1.3  </td> <td>2006-06-30</td> <td>1037    </td> <td>Aqua     </td> <td>MODIS     </td> <td>83        </td> <td>6.1    </td> <td>288.5     </td> <td>26.2</td>\n",
       "        </tr>\n",
       "    </tbody>\n",
       "</table>\n",
       "<p>... (216199 rows omitted)</p>"
      ],
      "text/plain": [
       "latitude | longitude | brightness | scan | track | acq_date   | acq_time | satellite | instrument | confidence | version | bright_t31 | frp\n",
       "39.976   | -122.757  | 327.8      | 1.2  | 1.1   | 2005-11-01 | 1920     | Terra     | MODIS      | 34         | 6.1     | 285.9      | 31.1\n",
       "39.982   | -122.773  | 329        | 1.3  | 1.1   | 2005-11-01 | 2057     | Aqua      | MODIS      | 86         | 6.1     | 278.5      | 43.3\n",
       "39.985   | -122.758  | 326.9      | 1.3  | 1.1   | 2005-11-01 | 2057     | Aqua      | MODIS      | 85         | 6.1     | 277.7      | 38.8\n",
       "39.944   | -122.684  | 305.6      | 1.7  | 1.3   | 2006-02-22 | 2141     | Aqua      | MODIS      | 51         | 6.1     | 292        | 16.2\n",
       "39.821   | -122.816  | 328        | 1.4  | 1.2   | 2006-05-03 | 1926     | Terra     | MODIS      | 84         | 6.1     | 296.4      | 38.3\n",
       "39.809   | -122.81   | 321.7      | 1.1  | 1.1   | 2006-05-03 | 2105     | Aqua      | MODIS      | 77         | 6.1     | 298.3      | 20.3\n",
       "39.818   | -122.812  | 351.4      | 1.1  | 1.1   | 2006-05-03 | 2105     | Aqua      | MODIS      | 96         | 6.1     | 300.1      | 75.6\n",
       "39.814   | -122.787  | 308.6      | 2.5  | 1.5   | 2006-05-04 | 1831     | Terra     | MODIS      | 54         | 6.1     | 292.1      | 24.6\n",
       "40.051   | -122.916  | 320.5      | 1.2  | 1.1   | 2006-06-30 | 625      | Terra     | MODIS      | 100        | 6.1     | 289.6      | 24\n",
       "40.057   | -122.893  | 311.7      | 1.6  | 1.3   | 2006-06-30 | 1037     | Aqua      | MODIS      | 83         | 6.1     | 288.5      | 26.2\n",
       "... (216199 rows omitted)"
      ]
     },
     "execution_count": 14,
     "metadata": {},
     "output_type": "execute_result"
    }
   ],
   "source": [
    "data=Table().read_table('~/URAP/google_earth_fires/data/fire_archive_M6_25871.csv') #from https://github.com/jupyterhub/jupyterhub/issues/376\n",
    "data"
   ]
  },
  {
   "cell_type": "code",
   "execution_count": 15,
   "metadata": {},
   "outputs": [
    {
     "ename": "SyntaxError",
     "evalue": "EOL while scanning string literal (<ipython-input-15-d1bc6ef8540b>, line 1)",
     "output_type": "error",
     "traceback": [
      "\u001b[1;36m  File \u001b[1;32m\"<ipython-input-15-d1bc6ef8540b>\"\u001b[1;36m, line \u001b[1;32m1\u001b[0m\n\u001b[1;33m    Now, let's select the first three rows of this data and find the data points we want.\u001b[0m\n\u001b[1;37m                                                                                          ^\u001b[0m\n\u001b[1;31mSyntaxError\u001b[0m\u001b[1;31m:\u001b[0m EOL while scanning string literal\n"
     ]
    }
   ],
   "source": [
    "Now, let's select the first three rows of this data and find the data points we want. "
   ]
  },
  {
   "cell_type": "code",
   "execution_count": null,
   "metadata": {},
   "outputs": [],
   "source": [
    "data=Table().read_table('~/URAP/google_earth_fires/data/fire_archive_M6_25871.csv') #from https://github.com/jupyterhub/jupyterhub/issues/376\n",
    "py_data=data.select(0,1,2)\n",
    "brightest=max(py_data.column('brightness'))\n",
    "medium=np.median(py_data.column('brightness'))\n",
    "dimmest=min(py_data.column('brightness'))\n",
    "print('brightest=', brightest, 'medium=', medium, 'dimmest=', dimmest)"
   ]
  },
  {
   "cell_type": "code",
   "execution_count": null,
   "metadata": {},
   "outputs": [],
   "source": [
    "with_bright=py_data.where('brightness', brightest)\n",
    "with_medium=py_data.where('brightness', medium).take(0)\n",
    "with_dim=py_data.where('brightness', dimmest).take(0)\n",
    "\n",
    "new_data=Table().with_columns('latitude', make_array(with_bright.column(0).item(0),with_medium.column(0).item(0), with_dim.column(0).item(0)),\n",
    "                             'longitude', make_array(with_bright.column(1).item(0),with_medium.column(1).item(0), with_dim.column(1).item(0)),\n",
    "                              'brightness',make_array(brightest, medium, dimmest))\n",
    "                              \n",
    "new_data"
   ]
  },
  {
   "cell_type": "code",
   "execution_count": null,
   "metadata": {},
   "outputs": [],
   "source": [
    "df=pd.read_csv('~/URAP/google_earth_fires/data/fire_archive_M6_25871.csv')\n",
    "sorted_up=df.sort_values(by='brightness', ascending=True)"
   ]
  },
  {
   "cell_type": "code",
   "execution_count": null,
   "metadata": {},
   "outputs": [],
   "source": [
    "a = df[(df['latitude']==38.773) & (df['brightness']==323.4)] #Baker County, Oregon\n",
    "b = df[(df['latitude']==44.262) & (df['brightness']==506.2)] #Cloverdale, CA\n",
    "c = df[(df['latitude']==36.082) & (df['brightness']==300)] #Tulare County, CA\n",
    "three = a.append(b)\n",
    "three = three.append(c)\n",
    "three = three.sort_values('brightness',ascending=False)\n",
    "three"
   ]
  },
  {
   "cell_type": "code",
   "execution_count": null,
   "metadata": {},
   "outputs": [],
   "source": [
    "three.index[three['brightness']==300.0]"
   ]
  },
  {
   "cell_type": "code",
   "execution_count": null,
   "metadata": {},
   "outputs": [],
   "source": [
    "three.iloc[0:1]"
   ]
  },
  {
   "cell_type": "code",
   "execution_count": null,
   "metadata": {},
   "outputs": [],
   "source": [
    "three.iloc[1:2]"
   ]
  },
  {
   "cell_type": "code",
   "execution_count": null,
   "metadata": {},
   "outputs": [],
   "source": [
    "z=three.iloc[0:1]\n",
    "z['brightness']"
   ]
  },
  {
   "cell_type": "code",
   "execution_count": null,
   "metadata": {},
   "outputs": [],
   "source": [
    "z=three.iloc[2:3]\n",
    "z.at[3277, 'brightness']\n",
    "#BUT HOW DO I FIND THE INDEX??"
   ]
  },
  {
   "cell_type": "code",
   "execution_count": null,
   "metadata": {},
   "outputs": [],
   "source": [
    "len(three.index)"
   ]
  },
  {
   "cell_type": "code",
   "execution_count": null,
   "metadata": {},
   "outputs": [],
   "source": [
    "three['text']=three['acq_date']\n",
    "rows=len(three.index) #get number of rows\n",
    "colors = [\"rgb(255,0,0)\", \"rgb(255,128,0)\", \"rgb(255,255,0)\"] #red, orange, yellow\n",
    "fires=[] #the data that we want to represent on the map\n",
    "for i in range(rows):\n",
    "    three_sub=three.iloc[i:i+1] #grab each individual row \n",
    "    fire=dict(\n",
    "        type = 'scattergeo',\n",
    "        locationmode = 'USA-states',\n",
    "        lon = three_sub['longitude'],\n",
    "        lat = three_sub['latitude'],\n",
    "        location=['California'], #this doesn't do anything\n",
    "        text = three_sub['text'],\n",
    "        marker=dict(\n",
    "                size=three_sub['brightness']/20,\n",
    "                color=colors[i],\n",
    "                line = dict(width=0.5, color='rgb(40,40,40)'),\n",
    "                sizemode='diameter'\n",
    "                    ),\n",
    "        name='{0}'.format(three_sub['brightness']) ) #legend labels\n",
    "    fires.append(fire)"
   ]
  },
  {
   "cell_type": "code",
   "execution_count": null,
   "metadata": {},
   "outputs": [],
   "source": [
    "layout=dict(\n",
    "        title='Range of fire brightness',\n",
    "        showlegend=True,\n",
    "        geo = dict(\n",
    "            scope='CA',\n",
    "            projection=dict( type='albers usa'),\n",
    "            center=dict(lon=-119.4179, lat=36.7783),\n",
    "            zoom=6,\n",
    "            showland = True,\n",
    "            landcolor = 'rgb(217, 217, 217)',\n",
    "            subunitwidth=1,\n",
    "            countrywidth=1,\n",
    "            subunitcolor=\"rgb(255, 255, 255)\",\n",
    "            countrycolor=\"rgb(255, 255, 255)\"\n",
    "        ),\n",
    "    )\n",
    "fig = dict(data=fires, layout=layout)\n",
    "py.iplot(fig, validate=False, filename='3-FIRMS-bubble-map')"
   ]
  },
  {
   "cell_type": "markdown",
   "metadata": {},
   "source": [
    "## Resources\n",
    "-  [API guide](https://plot.ly/python/user-guide/#annotations)\n",
    "-  [Documentation](https://plot.ly/python/reference/)\n"
   ]
  },
  {
   "cell_type": "code",
   "execution_count": null,
   "metadata": {},
   "outputs": [],
   "source": []
  }
 ],
 "metadata": {
  "kernelspec": {
   "display_name": "Python 3",
   "language": "python",
   "name": "python3"
  },
  "language_info": {
   "codemirror_mode": {
    "name": "ipython",
    "version": 3
   },
   "file_extension": ".py",
   "mimetype": "text/x-python",
   "name": "python",
   "nbconvert_exporter": "python",
   "pygments_lexer": "ipython3",
   "version": "3.6.4"
  }
 },
 "nbformat": 4,
 "nbformat_minor": 2
}
